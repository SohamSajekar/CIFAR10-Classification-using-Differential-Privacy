{
 "cells": [
  {
   "cell_type": "markdown",
   "id": "84d0b2ea",
   "metadata": {},
   "source": [
    "### Import libraries"
   ]
  },
  {
   "cell_type": "code",
   "execution_count": 1,
   "id": "074e486c",
   "metadata": {},
   "outputs": [],
   "source": [
    "import numpy as np\n",
    "import pandas as pd\n",
    "from absl import flags\n",
    "import tensorflow as tf\n",
    "import tensorflow_privacy\n",
    "import matplotlib.pyplot as plt\n",
    "from tensorflow.keras.datasets import cifar10\n",
    "from tensorflow_privacy.privacy.analysis import compute_dp_sgd_privacy\n",
    "from tensorflow_privacy.privacy.analysis.rdp_accountant import compute_rdp\n",
    "from tensorflow_privacy.privacy.analysis.rdp_accountant import get_privacy_spent\n",
    "%matplotlib inline\n",
    "tf.get_logger().setLevel('ERROR')\n",
    "tf.compat.v1.disable_v2_behavior()\n",
    "\n",
    "\n"
   ]
  },
  {
   "cell_type": "markdown",
   "id": "83ae37ef",
   "metadata": {},
   "source": [
    "### Load Dataset"
   ]
  },
  {
   "cell_type": "code",
   "execution_count": 2,
   "id": "cecc27bc",
   "metadata": {},
   "outputs": [
    {
     "name": "stdout",
     "output_type": "stream",
     "text": [
      "training: (50000, 32, 32, 3) (50000, 10)\n",
      "testing: (10000, 32, 32, 3) (10000, 10)\n"
     ]
    }
   ],
   "source": [
    "# Loading cifar10 image dataset\n",
    "data_train, data_test = cifar10.load_data()\n",
    "x_train, y_train = data_train\n",
    "x_test, y_test = data_test\n",
    "\n",
    "# Normalizing pixel values of images\n",
    "x_train = x_train / 255.0\n",
    "x_test = x_test / 255.0\n",
    "\n",
    "# Flattening images in dataset\n",
    "y_train = y_train.flatten().reshape(y_train.shape[0], 1)\n",
    "y_test = y_test.flatten().reshape(y_test.shape[0], 1)\n",
    "\n",
    "# One hot encoding of labels/target column\n",
    "y_train = tf.keras.utils.to_categorical(y_train, num_classes=10)\n",
    "y_test = tf.keras.utils.to_categorical(y_test, num_classes=10)\n",
    "\n",
    "print(\"training:\", x_train.shape, y_train.shape)\n",
    "print(\"testing:\", x_test.shape, y_test.shape)"
   ]
  },
  {
   "cell_type": "markdown",
   "id": "69813367",
   "metadata": {},
   "source": [
    "### Model1: Simple CNN"
   ]
  },
  {
   "cell_type": "code",
   "execution_count": 11,
   "id": "e51ed758",
   "metadata": {},
   "outputs": [],
   "source": [
    "# Hyper-parameters\n",
    "epochs = 20\n",
    "batch_size = 500\n",
    "\n",
    "l2_norm_clip = 1.5\n",
    "noise_multiplier = 1.3\n",
    "num_microbatches = 250\n",
    "learning_rate = 0.25\n",
    "\n",
    "if batch_size % num_microbatches != 0:\n",
    "    raise ValueError('Batch size should be an integer multiple of the number of microbatches')"
   ]
  },
  {
   "cell_type": "code",
   "execution_count": 12,
   "id": "cc133894",
   "metadata": {},
   "outputs": [],
   "source": [
    "# Define model\n",
    "model = tf.keras.Sequential([\n",
    "    tf.keras.layers.Conv2D(16, 8,\n",
    "                           strides=2,\n",
    "                           padding='same',\n",
    "                           activation='relu',\n",
    "                           input_shape=(32, 32, 3)),\n",
    "    tf.keras.layers.MaxPool2D(2, 1),\n",
    "    tf.keras.layers.Conv2D(32, 4,\n",
    "                           strides=2,\n",
    "                           padding='valid',\n",
    "                           activation='relu'),\n",
    "    tf.keras.layers.MaxPool2D(2, 1),\n",
    "    tf.keras.layers.Flatten(),\n",
    "    tf.keras.layers.Dense(32, activation='relu'),\n",
    "    tf.keras.layers.Dense(10)\n",
    "])"
   ]
  },
  {
   "cell_type": "code",
   "execution_count": 13,
   "id": "7017c9a9",
   "metadata": {},
   "outputs": [],
   "source": [
    "# define optimizer (dp-sgd) \n",
    "optimizer = tensorflow_privacy.DPKerasSGDOptimizer(\n",
    "    l2_norm_clip=l2_norm_clip,\n",
    "    noise_multiplier=noise_multiplier,\n",
    "    num_microbatches=num_microbatches,\n",
    "    learning_rate=learning_rate)\n",
    "# define loss function\n",
    "loss = tf.keras.losses.CategoricalCrossentropy(\n",
    "    from_logits=True, reduction=tf.losses.Reduction.NONE)"
   ]
  },
  {
   "cell_type": "code",
   "execution_count": 14,
   "id": "6e0fb7f2",
   "metadata": {},
   "outputs": [
    {
     "name": "stdout",
     "output_type": "stream",
     "text": [
      "Train on 50000 samples, validate on 10000 samples\n"
     ]
    },
    {
     "name": "stderr",
     "output_type": "stream",
     "text": [
      "2022-03-08 16:42:30.484258: I tensorflow/core/grappler/optimizers/custom_graph_optimizer_registry.cc:113] Plugin optimizer for device_type GPU is enabled.\n",
      "2022-03-08 16:42:31.402756: I tensorflow/core/grappler/optimizers/custom_graph_optimizer_registry.cc:113] Plugin optimizer for device_type GPU is enabled.\n"
     ]
    },
    {
     "name": "stdout",
     "output_type": "stream",
     "text": [
      "Epoch 1/20\n"
     ]
    },
    {
     "name": "stderr",
     "output_type": "stream",
     "text": [
      "2022-03-08 16:42:31.686466: I tensorflow/core/grappler/optimizers/custom_graph_optimizer_registry.cc:113] Plugin optimizer for device_type GPU is enabled.\n",
      "2022-03-08 16:42:31.846137: I tensorflow/core/grappler/optimizers/custom_graph_optimizer_registry.cc:113] Plugin optimizer for device_type GPU is enabled.\n"
     ]
    },
    {
     "name": "stdout",
     "output_type": "stream",
     "text": [
      "50000/50000 [==============================] - ETA: 0s - loss: 2.2188 - acc: 0.1664 "
     ]
    },
    {
     "name": "stderr",
     "output_type": "stream",
     "text": [
      "2022-03-08 17:04:09.816648: I tensorflow/core/grappler/optimizers/custom_graph_optimizer_registry.cc:113] Plugin optimizer for device_type GPU is enabled.\n"
     ]
    },
    {
     "name": "stdout",
     "output_type": "stream",
     "text": [
      "50000/50000 [==============================] - 1299s 26ms/sample - loss: 2.2188 - acc: 0.1664 - val_loss: 2.1000 - val_acc: 0.2320\n",
      "Epoch 2/20\n",
      "50000/50000 [==============================] - 1223s 24ms/sample - loss: 2.0589 - acc: 0.2534 - val_loss: 1.9255 - val_acc: 0.3094\n",
      "Epoch 3/20\n",
      "50000/50000 [==============================] - 1212s 24ms/sample - loss: 1.9223 - acc: 0.3040 - val_loss: 1.8572 - val_acc: 0.3305\n",
      "Epoch 4/20\n",
      "50000/50000 [==============================] - 1217s 24ms/sample - loss: 1.8465 - acc: 0.3341 - val_loss: 1.8674 - val_acc: 0.3170\n",
      "Epoch 5/20\n",
      "50000/50000 [==============================] - 1208s 24ms/sample - loss: 1.7838 - acc: 0.3603 - val_loss: 1.7684 - val_acc: 0.3776\n",
      "Epoch 6/20\n",
      "50000/50000 [==============================] - 1221s 24ms/sample - loss: 1.7363 - acc: 0.3805 - val_loss: 1.7594 - val_acc: 0.3869\n",
      "Epoch 7/20\n",
      "50000/50000 [==============================] - 1227s 25ms/sample - loss: 1.6895 - acc: 0.4000 - val_loss: 1.7437 - val_acc: 0.3961\n",
      "Epoch 8/20\n",
      "50000/50000 [==============================] - 1232s 25ms/sample - loss: 1.6553 - acc: 0.4126 - val_loss: 1.7729 - val_acc: 0.3945\n",
      "Epoch 9/20\n",
      "50000/50000 [==============================] - 5825s 117ms/sample - loss: 1.6323 - acc: 0.4222 - val_loss: 1.6060 - val_acc: 0.4333\n",
      "Epoch 10/20\n",
      "50000/50000 [==============================] - 1117s 22ms/sample - loss: 1.6018 - acc: 0.4336 - val_loss: 1.5822 - val_acc: 0.4450\n",
      "Epoch 11/20\n",
      "50000/50000 [==============================] - 1039s 21ms/sample - loss: 1.5889 - acc: 0.4379 - val_loss: 1.5902 - val_acc: 0.4357\n",
      "Epoch 12/20\n",
      "50000/50000 [==============================] - 1025s 20ms/sample - loss: 1.5790 - acc: 0.4460 - val_loss: 1.5426 - val_acc: 0.4531\n",
      "Epoch 13/20\n",
      "50000/50000 [==============================] - 1025s 20ms/sample - loss: 1.5639 - acc: 0.4498 - val_loss: 1.5619 - val_acc: 0.4531\n",
      "Epoch 14/20\n",
      "50000/50000 [==============================] - 1025s 21ms/sample - loss: 1.5480 - acc: 0.4561 - val_loss: 1.5501 - val_acc: 0.4573\n",
      "Epoch 15/20\n",
      "50000/50000 [==============================] - 1039s 21ms/sample - loss: 1.5547 - acc: 0.4553 - val_loss: 1.5438 - val_acc: 0.4605\n",
      "Epoch 16/20\n",
      "50000/50000 [==============================] - 1042s 21ms/sample - loss: 1.5478 - acc: 0.4599 - val_loss: 1.5256 - val_acc: 0.4664\n",
      "Epoch 17/20\n",
      "50000/50000 [==============================] - 1023s 20ms/sample - loss: 1.5428 - acc: 0.4647 - val_loss: 1.5338 - val_acc: 0.4664\n",
      "Epoch 18/20\n",
      "50000/50000 [==============================] - 1027s 21ms/sample - loss: 1.5238 - acc: 0.4682 - val_loss: 1.5316 - val_acc: 0.4623\n",
      "Epoch 19/20\n",
      "50000/50000 [==============================] - 1030s 21ms/sample - loss: 1.5256 - acc: 0.4698 - val_loss: 1.5590 - val_acc: 0.4522\n",
      "Epoch 20/20\n",
      "50000/50000 [==============================] - 1020s 20ms/sample - loss: 1.5127 - acc: 0.4746 - val_loss: 1.5057 - val_acc: 0.4736\n"
     ]
    },
    {
     "data": {
      "text/plain": [
       "<keras.callbacks.History at 0x4a21c5700>"
      ]
     },
     "execution_count": 14,
     "metadata": {},
     "output_type": "execute_result"
    }
   ],
   "source": [
    "# Compile model\n",
    "model.compile(optimizer=optimizer, loss=loss, metrics=['accuracy'])\n",
    "# Train model\n",
    "model.fit(x_train, y_train,\n",
    "          epochs=epochs,\n",
    "          validation_data=(x_test, y_test),\n",
    "          batch_size=batch_size)"
   ]
  },
  {
   "cell_type": "code",
   "execution_count": 15,
   "id": "dad27007",
   "metadata": {},
   "outputs": [
    {
     "name": "stdout",
     "output_type": "stream",
     "text": [
      "DP-SGD with sampling rate = 1% and noise_multiplier = 1.3 iterated over 2000 steps satisfies differential privacy with eps = 1.8 and delta = 1e-05.\n",
      "The optimal RDP order is 11.0.\n"
     ]
    },
    {
     "data": {
      "text/plain": [
       "(1.798929515280597, 11.0)"
      ]
     },
     "execution_count": 15,
     "metadata": {},
     "output_type": "execute_result"
    }
   ],
   "source": [
    "# Calculate privacy performance\n",
    "compute_dp_sgd_privacy.compute_dp_sgd_privacy(n=x_train.shape[0],\n",
    "                                              batch_size=batch_size,\n",
    "                                              noise_multiplier=noise_multiplier,\n",
    "                                              epochs=epochs,\n",
    "                                              delta=1e-5)"
   ]
  },
  {
   "cell_type": "markdown",
   "id": "e15d91bb",
   "metadata": {},
   "source": [
    "### Model2: VGG with transfer learning"
   ]
  },
  {
   "cell_type": "code",
   "execution_count": 3,
   "id": "d9e42f17",
   "metadata": {},
   "outputs": [],
   "source": [
    "# Hyper-parameters\n",
    "epochs = 35\n",
    "batch_size = 500\n",
    "\n",
    "l2_norm_clip = 1.5\n",
    "noise_multiplier = 1.3\n",
    "num_microbatches = 250\n",
    "learning_rate = 0.25\n",
    "\n",
    "if batch_size % num_microbatches != 0:\n",
    "    raise ValueError('Batch size should be an integer multiple of the number of microbatches')"
   ]
  },
  {
   "cell_type": "code",
   "execution_count": 4,
   "id": "47989ed6",
   "metadata": {},
   "outputs": [
    {
     "name": "stdout",
     "output_type": "stream",
     "text": [
      "Metal device set to: Apple M1\n"
     ]
    },
    {
     "name": "stderr",
     "output_type": "stream",
     "text": [
      "2022-03-13 20:28:24.221689: I tensorflow/core/common_runtime/pluggable_device/pluggable_device_factory.cc:305] Could not identify NUMA node of platform GPU ID 0, defaulting to 0. Your kernel may not have been built with NUMA support.\n",
      "2022-03-13 20:28:24.221956: I tensorflow/core/common_runtime/pluggable_device/pluggable_device_factory.cc:271] Created TensorFlow device (/job:localhost/replica:0/task:0/device:GPU:0 with 0 MB memory) -> physical PluggableDevice (device: 0, name: METAL, pci bus id: <undefined>)\n",
      "2022-03-13 20:28:24.234984: W tensorflow/core/platform/profile_utils/cpu_utils.cc:128] Failed to get CPU frequency: 0 Hz\n",
      "2022-03-13 20:28:24.235621: I tensorflow/core/grappler/optimizers/custom_graph_optimizer_registry.cc:113] Plugin optimizer for device_type GPU is enabled.\n",
      "2022-03-13 20:28:24.267077: I tensorflow/core/grappler/optimizers/custom_graph_optimizer_registry.cc:113] Plugin optimizer for device_type GPU is enabled.\n",
      "2022-03-13 20:28:24.447433: I tensorflow/core/grappler/optimizers/custom_graph_optimizer_registry.cc:113] Plugin optimizer for device_type GPU is enabled.\n"
     ]
    }
   ],
   "source": [
    "#Building a VGG model with pretrained weights\n",
    "\n",
    "vgg_model=tf.keras.Sequential()\n",
    "\n",
    "#https://keras.io/api/applications/vgg/#vgg16-function\n",
    "#https://keras.io/guides/transfer_learning/\n",
    "#https://chroniclesofai.com/transfer-learning-with-keras-resnet-50/\n",
    "pre_vgg_model=tf.keras.applications.VGG16(include_top=False,weights=\"imagenet\",\n",
    "                                          classes=10,pooling=max,input_shape=(32,32,3))\n",
    "pre_vgg_model.trainable=False\n",
    "vgg_model.add(pre_vgg_model)\n",
    "vgg_model.add(tf.keras.layers.Flatten())\n",
    "vgg_model.add(tf.keras.layers.Dense(512, activation='tanh'))\n",
    "vgg_model.add(tf.keras.layers.Dense(10, activation='softmax'))\n"
   ]
  },
  {
   "cell_type": "code",
   "execution_count": 5,
   "id": "f45e1ca3",
   "metadata": {},
   "outputs": [
    {
     "name": "stdout",
     "output_type": "stream",
     "text": [
      "Model: \"sequential\"\n",
      "_________________________________________________________________\n",
      " Layer (type)                Output Shape              Param #   \n",
      "=================================================================\n",
      " vgg16 (Functional)          (None, 1, 1, 512)         14714688  \n",
      "                                                                 \n",
      " flatten (Flatten)           (None, 512)               0         \n",
      "                                                                 \n",
      " dense (Dense)               (None, 512)               262656    \n",
      "                                                                 \n",
      " dense_1 (Dense)             (None, 10)                5130      \n",
      "                                                                 \n",
      "=================================================================\n",
      "Total params: 14,982,474\n",
      "Trainable params: 267,786\n",
      "Non-trainable params: 14,714,688\n",
      "_________________________________________________________________\n"
     ]
    }
   ],
   "source": [
    "vgg_model.summary()"
   ]
  },
  {
   "cell_type": "code",
   "execution_count": 6,
   "id": "c1d190e6",
   "metadata": {},
   "outputs": [],
   "source": [
    "\n",
    "# define optimizer (dp-sgd) \n",
    "vgg_optimizer = tensorflow_privacy.DPKerasSGDOptimizer(\n",
    "    l2_norm_clip=l2_norm_clip,\n",
    "    noise_multiplier=noise_multiplier,\n",
    "    num_microbatches=num_microbatches,\n",
    "    learning_rate=learning_rate)\n",
    "# define loss function\n",
    "vgg_loss = tf.keras.losses.CategoricalCrossentropy(\n",
    "    from_logits=True, reduction=tf.losses.Reduction.NONE)"
   ]
  },
  {
   "cell_type": "code",
   "execution_count": 7,
   "id": "8073901b",
   "metadata": {
    "scrolled": false
   },
   "outputs": [
    {
     "name": "stderr",
     "output_type": "stream",
     "text": [
      "/Users/sanikakatekar/miniforge3/envs/san_tf/lib/python3.9/site-packages/tensorflow/python/util/dispatch.py:1082: UserWarning: \"`categorical_crossentropy` received `from_logits=True`, but the `output` argument was produced by a sigmoid or softmax activation and thus does not represent logits. Was this intended?\"\n",
      "  return dispatch_target(*args, **kwargs)\n"
     ]
    },
    {
     "name": "stdout",
     "output_type": "stream",
     "text": [
      "Train on 50000 samples, validate on 10000 samples\n"
     ]
    },
    {
     "name": "stderr",
     "output_type": "stream",
     "text": [
      "2022-03-13 20:28:37.675902: I tensorflow/core/grappler/optimizers/custom_graph_optimizer_registry.cc:113] Plugin optimizer for device_type GPU is enabled.\n"
     ]
    },
    {
     "name": "stdout",
     "output_type": "stream",
     "text": [
      "Epoch 1/35\n"
     ]
    },
    {
     "name": "stderr",
     "output_type": "stream",
     "text": [
      "2022-03-13 20:28:37.934316: I tensorflow/core/grappler/optimizers/custom_graph_optimizer_registry.cc:113] Plugin optimizer for device_type GPU is enabled.\n",
      "2022-03-13 20:28:38.002724: I tensorflow/core/grappler/optimizers/custom_graph_optimizer_registry.cc:113] Plugin optimizer for device_type GPU is enabled.\n",
      "2022-03-13 20:28:38.060543: I tensorflow/core/grappler/optimizers/custom_graph_optimizer_registry.cc:113] Plugin optimizer for device_type GPU is enabled.\n"
     ]
    },
    {
     "name": "stdout",
     "output_type": "stream",
     "text": [
      "50000/50000 [==============================] - ETA: 0s - loss: 1.9557 - acc: 0.3124"
     ]
    },
    {
     "name": "stderr",
     "output_type": "stream",
     "text": [
      "/Users/sanikakatekar/miniforge3/envs/san_tf/lib/python3.9/site-packages/keras/engine/training_v1.py:2057: UserWarning: `Model.state_updates` will be removed in a future version. This property should not be used in TensorFlow 2.0, as `updates` are applied automatically.\n",
      "  updates = self.state_updates\n",
      "2022-03-13 20:34:42.092718: I tensorflow/core/grappler/optimizers/custom_graph_optimizer_registry.cc:113] Plugin optimizer for device_type GPU is enabled.\n"
     ]
    },
    {
     "name": "stdout",
     "output_type": "stream",
     "text": [
      "50000/50000 [==============================] - 371s 7ms/sample - loss: 1.9557 - acc: 0.3124 - val_loss: 1.7407 - val_acc: 0.3929\n",
      "Epoch 2/35\n",
      "50000/50000 [==============================] - 348s 7ms/sample - loss: 1.6445 - acc: 0.4328 - val_loss: 1.5921 - val_acc: 0.4352\n",
      "Epoch 3/35\n",
      "50000/50000 [==============================] - 350s 7ms/sample - loss: 1.5420 - acc: 0.4656 - val_loss: 1.5152 - val_acc: 0.4680\n",
      "Epoch 4/35\n",
      "50000/50000 [==============================] - 351s 7ms/sample - loss: 1.4829 - acc: 0.4827 - val_loss: 1.4788 - val_acc: 0.4807\n",
      "Epoch 5/35\n",
      "50000/50000 [==============================] - 352s 7ms/sample - loss: 1.4452 - acc: 0.4961 - val_loss: 1.4468 - val_acc: 0.4898\n",
      "Epoch 6/35\n",
      "50000/50000 [==============================] - 352s 7ms/sample - loss: 1.4220 - acc: 0.5041 - val_loss: 1.4285 - val_acc: 0.4984\n",
      "Epoch 7/35\n",
      "50000/50000 [==============================] - 349s 7ms/sample - loss: 1.4011 - acc: 0.5139 - val_loss: 1.4108 - val_acc: 0.5088\n",
      "Epoch 8/35\n",
      "50000/50000 [==============================] - 350s 7ms/sample - loss: 1.3849 - acc: 0.5215 - val_loss: 1.4077 - val_acc: 0.5088\n",
      "Epoch 9/35\n",
      "50000/50000 [==============================] - 351s 7ms/sample - loss: 1.3694 - acc: 0.5264 - val_loss: 1.4018 - val_acc: 0.5127\n",
      "Epoch 10/35\n",
      "50000/50000 [==============================] - 353s 7ms/sample - loss: 1.3598 - acc: 0.5294 - val_loss: 1.3851 - val_acc: 0.5187\n",
      "Epoch 11/35\n",
      "50000/50000 [==============================] - 354s 7ms/sample - loss: 1.3484 - acc: 0.5357 - val_loss: 1.3750 - val_acc: 0.5211\n",
      "Epoch 12/35\n",
      "50000/50000 [==============================] - 361s 7ms/sample - loss: 1.3390 - acc: 0.5362 - val_loss: 1.3677 - val_acc: 0.5245\n",
      "Epoch 13/35\n",
      "50000/50000 [==============================] - 356s 7ms/sample - loss: 1.3325 - acc: 0.5401 - val_loss: 1.3692 - val_acc: 0.5261\n",
      "Epoch 14/35\n",
      "50000/50000 [==============================] - 356s 7ms/sample - loss: 1.3291 - acc: 0.5416 - val_loss: 1.3642 - val_acc: 0.5300\n",
      "Epoch 15/35\n",
      "50000/50000 [==============================] - 359s 7ms/sample - loss: 1.3223 - acc: 0.5435 - val_loss: 1.3515 - val_acc: 0.5323\n",
      "Epoch 16/35\n",
      "50000/50000 [==============================] - 368s 7ms/sample - loss: 1.3165 - acc: 0.5490 - val_loss: 1.3549 - val_acc: 0.5336\n",
      "Epoch 17/35\n",
      "50000/50000 [==============================] - 368s 7ms/sample - loss: 1.3149 - acc: 0.5504 - val_loss: 1.3529 - val_acc: 0.5330\n",
      "Epoch 18/35\n",
      "50000/50000 [==============================] - 363s 7ms/sample - loss: 1.3089 - acc: 0.5519 - val_loss: 1.3516 - val_acc: 0.5331\n",
      "Epoch 19/35\n",
      "50000/50000 [==============================] - 361s 7ms/sample - loss: 1.3055 - acc: 0.5529 - val_loss: 1.3464 - val_acc: 0.5337\n",
      "Epoch 20/35\n",
      "50000/50000 [==============================] - 358s 7ms/sample - loss: 1.3061 - acc: 0.5545 - val_loss: 1.3564 - val_acc: 0.5314\n",
      "Epoch 21/35\n",
      "50000/50000 [==============================] - 357s 7ms/sample - loss: 1.3041 - acc: 0.5545 - val_loss: 1.3536 - val_acc: 0.5354\n",
      "Epoch 22/35\n",
      "50000/50000 [==============================] - 354s 7ms/sample - loss: 1.3016 - acc: 0.5564 - val_loss: 1.3422 - val_acc: 0.5399\n",
      "Epoch 23/35\n",
      "50000/50000 [==============================] - 353s 7ms/sample - loss: 1.2996 - acc: 0.5571 - val_loss: 1.3522 - val_acc: 0.5361\n",
      "Epoch 24/35\n",
      "50000/50000 [==============================] - 353s 7ms/sample - loss: 1.2972 - acc: 0.5582 - val_loss: 1.3405 - val_acc: 0.5402\n",
      "Epoch 25/35\n",
      "50000/50000 [==============================] - 355s 7ms/sample - loss: 1.2934 - acc: 0.5587 - val_loss: 1.3411 - val_acc: 0.5437\n",
      "Epoch 26/35\n",
      "50000/50000 [==============================] - 357s 7ms/sample - loss: 1.2932 - acc: 0.5602 - val_loss: 1.3447 - val_acc: 0.5405\n",
      "Epoch 27/35\n",
      "50000/50000 [==============================] - 362s 7ms/sample - loss: 1.2929 - acc: 0.5613 - val_loss: 1.3490 - val_acc: 0.5410\n",
      "Epoch 28/35\n",
      "50000/50000 [==============================] - 359s 7ms/sample - loss: 1.2933 - acc: 0.5615 - val_loss: 1.3385 - val_acc: 0.5425\n",
      "Epoch 29/35\n",
      "50000/50000 [==============================] - 358s 7ms/sample - loss: 1.2871 - acc: 0.5621 - val_loss: 1.3359 - val_acc: 0.5456\n",
      "Epoch 30/35\n",
      "50000/50000 [==============================] - 368s 7ms/sample - loss: 1.2910 - acc: 0.5609 - val_loss: 1.3334 - val_acc: 0.5490\n",
      "Epoch 31/35\n",
      "50000/50000 [==============================] - 361s 7ms/sample - loss: 1.2941 - acc: 0.5609 - val_loss: 1.3409 - val_acc: 0.5485\n",
      "Epoch 32/35\n",
      "50000/50000 [==============================] - 364s 7ms/sample - loss: 1.2909 - acc: 0.5634 - val_loss: 1.3452 - val_acc: 0.5427\n",
      "Epoch 33/35\n",
      "50000/50000 [==============================] - 360s 7ms/sample - loss: 1.2915 - acc: 0.5635 - val_loss: 1.3368 - val_acc: 0.5455\n",
      "Epoch 34/35\n",
      "50000/50000 [==============================] - 359s 7ms/sample - loss: 1.2892 - acc: 0.5639 - val_loss: 1.3301 - val_acc: 0.5465\n",
      "Epoch 35/35\n",
      "50000/50000 [==============================] - 359s 7ms/sample - loss: 1.2895 - acc: 0.5641 - val_loss: 1.3356 - val_acc: 0.5475\n"
     ]
    },
    {
     "data": {
      "text/plain": [
       "<keras.callbacks.History at 0x1571f5a90>"
      ]
     },
     "execution_count": 7,
     "metadata": {},
     "output_type": "execute_result"
    }
   ],
   "source": [
    "# Compile model\n",
    "vgg_model.compile(optimizer=vgg_optimizer, loss=vgg_loss, metrics=['accuracy'])\n",
    "# Train model\n",
    "vgg_model.fit(x_train, y_train,\n",
    "          epochs=epochs,\n",
    "          validation_data=(x_test, y_test),\n",
    "          batch_size=batch_size)\n"
   ]
  },
  {
   "cell_type": "code",
   "execution_count": 8,
   "id": "1e37c9cb",
   "metadata": {},
   "outputs": [],
   "source": [
    "# noise_multiplier = FLAGS.noise_multiplier\n",
    "# sampling_probability = FLAGS.batch_size / 60000\n",
    "# steps = FLAGS.epochs * 60000 // FLAGS.batch_size"
   ]
  },
  {
   "cell_type": "code",
   "execution_count": 9,
   "id": "0d5da992",
   "metadata": {},
   "outputs": [],
   "source": [
    "# from absl import app\n",
    "# from absl import flags\n",
    "# from absl import logging\n",
    "# FLAGS = flags.FLAGS\n",
    "orders = [1 + x / 10. for x in range(1, 100)] + list(range(12, 64))\n",
    "rdp = compute_rdp(q = batch_size / 50000,\n",
    "                  noise_multiplier = noise_multiplier,\n",
    "                  steps = epochs * 50000 // batch_size,\n",
    "                  orders=orders)"
   ]
  },
  {
   "cell_type": "code",
   "execution_count": 10,
   "id": "ae030b39",
   "metadata": {},
   "outputs": [
    {
     "data": {
      "text/plain": [
       "2.4127950269222396"
      ]
     },
     "execution_count": 10,
     "metadata": {},
     "output_type": "execute_result"
    }
   ],
   "source": [
    "epsilon = get_privacy_spent(orders, rdp, target_delta=1e-5)[0]\n",
    "epsilon"
   ]
  },
  {
   "cell_type": "code",
   "execution_count": null,
   "id": "f0655924",
   "metadata": {},
   "outputs": [],
   "source": []
  },
  {
   "cell_type": "code",
   "execution_count": null,
   "id": "f2ea0ea7",
   "metadata": {},
   "outputs": [],
   "source": []
  },
  {
   "cell_type": "code",
   "execution_count": null,
   "id": "c9e90e41",
   "metadata": {},
   "outputs": [],
   "source": []
  },
  {
   "cell_type": "code",
   "execution_count": null,
   "id": "3c4e23d1",
   "metadata": {},
   "outputs": [],
   "source": []
  },
  {
   "cell_type": "code",
   "execution_count": 14,
   "id": "d695eece",
   "metadata": {},
   "outputs": [],
   "source": [
    "vgg_wo_transfer=tf.keras.applications.VGG16(include_top=True,weights=None,classes=10,pooling=max,input_shape=(32,32,3))\n",
    "vgg_wo_transfer.trainable=True"
   ]
  },
  {
   "cell_type": "code",
   "execution_count": 15,
   "id": "d2c56375",
   "metadata": {},
   "outputs": [],
   "source": [
    "\n",
    "# define optimizer (dp-sgd) \n",
    "vgg_optimizer = tensorflow_privacy.DPKerasSGDOptimizer(\n",
    "    l2_norm_clip=l2_norm_clip,\n",
    "    noise_multiplier=noise_multiplier,\n",
    "    num_microbatches=num_microbatches,\n",
    "    learning_rate=learning_rate)\n",
    "# define loss function\n",
    "vgg_loss = tf.keras.losses.CategoricalCrossentropy(\n",
    "    from_logits=True, reduction=tf.losses.Reduction.NONE)"
   ]
  },
  {
   "cell_type": "code",
   "execution_count": null,
   "id": "38d9b220",
   "metadata": {},
   "outputs": [
    {
     "name": "stdout",
     "output_type": "stream",
     "text": [
      "Train on 50000 samples, validate on 10000 samples\n"
     ]
    },
    {
     "name": "stderr",
     "output_type": "stream",
     "text": [
      "2022-03-13 13:02:33.937481: I tensorflow/core/grappler/optimizers/custom_graph_optimizer_registry.cc:113] Plugin optimizer for device_type GPU is enabled.\n",
      "2022-03-13 13:02:34.780027: I tensorflow/core/grappler/optimizers/custom_graph_optimizer_registry.cc:113] Plugin optimizer for device_type GPU is enabled.\n"
     ]
    },
    {
     "name": "stdout",
     "output_type": "stream",
     "text": [
      "Epoch 1/20\n"
     ]
    },
    {
     "name": "stderr",
     "output_type": "stream",
     "text": [
      "2022-03-13 13:02:35.329703: I tensorflow/core/grappler/optimizers/custom_graph_optimizer_registry.cc:113] Plugin optimizer for device_type GPU is enabled.\n",
      "2022-03-13 13:02:35.499104: I tensorflow/core/grappler/optimizers/custom_graph_optimizer_registry.cc:113] Plugin optimizer for device_type GPU is enabled.\n"
     ]
    }
   ],
   "source": [
    "# Compile model\n",
    "vgg_wo_transfer.compile(optimizer=vgg_optimizer, loss=vgg_loss, metrics=['accuracy'])\n",
    "# Train model\n",
    "vgg_wo_transfer.fit(x_train, y_train,\n",
    "          epochs=20,\n",
    "          validation_data=(x_test, y_test),\n",
    "          batch_size=batch_size)\n"
   ]
  },
  {
   "cell_type": "markdown",
   "id": "fba636e0",
   "metadata": {},
   "source": [
    "### Model3: HOG classification"
   ]
  },
  {
   "cell_type": "code",
   "execution_count": null,
   "id": "0220c293",
   "metadata": {},
   "outputs": [],
   "source": []
  },
  {
   "cell_type": "code",
   "execution_count": null,
   "id": "c2e8335f",
   "metadata": {},
   "outputs": [],
   "source": []
  },
  {
   "cell_type": "code",
   "execution_count": null,
   "id": "bdb734b4",
   "metadata": {},
   "outputs": [],
   "source": []
  }
 ],
 "metadata": {
  "kernelspec": {
   "display_name": "Python 3 (ipykernel)",
   "language": "python",
   "name": "python3"
  },
  "language_info": {
   "codemirror_mode": {
    "name": "ipython",
    "version": 3
   },
   "file_extension": ".py",
   "mimetype": "text/x-python",
   "name": "python",
   "nbconvert_exporter": "python",
   "pygments_lexer": "ipython3",
   "version": "3.9.10"
  }
 },
 "nbformat": 4,
 "nbformat_minor": 5
}
