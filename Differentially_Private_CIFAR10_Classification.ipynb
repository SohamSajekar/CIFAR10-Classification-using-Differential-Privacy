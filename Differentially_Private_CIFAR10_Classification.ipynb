{
 "cells": [
  {
   "cell_type": "markdown",
   "id": "84d0b2ea",
   "metadata": {},
   "source": [
    "### Import libraries"
   ]
  },
  {
   "cell_type": "code",
   "execution_count": 1,
   "id": "074e486c",
   "metadata": {},
   "outputs": [],
   "source": [
    "import numpy as np\n",
    "import pandas as pd\n",
    "import tensorflow as tf\n",
    "import tensorflow_privacy\n",
    "import matplotlib.pyplot as plt\n",
    "from tensorflow.keras.datasets import cifar10\n",
    "from tensorflow_privacy.privacy.analysis import compute_dp_sgd_privacy\n",
    "%matplotlib inline\n",
    "tf.get_logger().setLevel('ERROR')\n",
    "tf.compat.v1.disable_v2_behavior()"
   ]
  },
  {
   "cell_type": "markdown",
   "id": "83ae37ef",
   "metadata": {},
   "source": [
    "### Load Dataset"
   ]
  },
  {
   "cell_type": "code",
   "execution_count": 2,
   "id": "cecc27bc",
   "metadata": {},
   "outputs": [
    {
     "name": "stdout",
     "output_type": "stream",
     "text": [
      "training: (50000, 32, 32, 3) (50000, 10)\n",
      "testing: (10000, 32, 32, 3) (10000, 10)\n"
     ]
    }
   ],
   "source": [
    "# Loading cifar10 image dataset\n",
    "data_train, data_test = cifar10.load_data()\n",
    "x_train, y_train = data_train\n",
    "x_test, y_test = data_test\n",
    "\n",
    "# Normalizing pixel values of images\n",
    "x_train = x_train / 255.0\n",
    "x_test = x_test / 255.0\n",
    "\n",
    "# Flattening images in dataset\n",
    "y_train = y_train.flatten().reshape(y_train.shape[0], 1)\n",
    "y_test = y_test.flatten().reshape(y_test.shape[0], 1)\n",
    "\n",
    "# One hot encoding of labels/target column\n",
    "y_train = tf.keras.utils.to_categorical(y_train, num_classes=10)\n",
    "y_test = tf.keras.utils.to_categorical(y_test, num_classes=10)\n",
    "\n",
    "print(\"training:\", x_train.shape, y_train.shape)\n",
    "print(\"testing:\", x_test.shape, y_test.shape)"
   ]
  },
  {
   "cell_type": "markdown",
   "id": "69813367",
   "metadata": {},
   "source": [
    "### Model1: Simple CNN"
   ]
  },
  {
   "cell_type": "code",
   "execution_count": 11,
   "id": "e51ed758",
   "metadata": {},
   "outputs": [],
   "source": [
    "# Hyper-parameters\n",
    "epochs = 20\n",
    "batch_size = 500\n",
    "\n",
    "l2_norm_clip = 1.5\n",
    "noise_multiplier = 1.3\n",
    "num_microbatches = 250\n",
    "learning_rate = 0.25\n",
    "\n",
    "if batch_size % num_microbatches != 0:\n",
    "    raise ValueError('Batch size should be an integer multiple of the number of microbatches')"
   ]
  },
  {
   "cell_type": "code",
   "execution_count": 12,
   "id": "cc133894",
   "metadata": {},
   "outputs": [],
   "source": [
    "# Define model\n",
    "model = tf.keras.Sequential([\n",
    "    tf.keras.layers.Conv2D(16, 8,\n",
    "                           strides=2,\n",
    "                           padding='same',\n",
    "                           activation='relu',\n",
    "                           input_shape=(32, 32, 3)),\n",
    "    tf.keras.layers.MaxPool2D(2, 1),\n",
    "    tf.keras.layers.Conv2D(32, 4,\n",
    "                           strides=2,\n",
    "                           padding='valid',\n",
    "                           activation='relu'),\n",
    "    tf.keras.layers.MaxPool2D(2, 1),\n",
    "    tf.keras.layers.Flatten(),\n",
    "    tf.keras.layers.Dense(32, activation='relu'),\n",
    "    tf.keras.layers.Dense(10)\n",
    "])"
   ]
  },
  {
   "cell_type": "code",
   "execution_count": 13,
   "id": "7017c9a9",
   "metadata": {},
   "outputs": [],
   "source": [
    "# define optimizer (dp-sgd) \n",
    "optimizer = tensorflow_privacy.DPKerasSGDOptimizer(\n",
    "    l2_norm_clip=l2_norm_clip,\n",
    "    noise_multiplier=noise_multiplier,\n",
    "    num_microbatches=num_microbatches,\n",
    "    learning_rate=learning_rate)\n",
    "# define loss function\n",
    "loss = tf.keras.losses.CategoricalCrossentropy(\n",
    "    from_logits=True, reduction=tf.losses.Reduction.NONE)"
   ]
  },
  {
   "cell_type": "code",
   "execution_count": 14,
   "id": "6e0fb7f2",
   "metadata": {},
   "outputs": [
    {
     "name": "stdout",
     "output_type": "stream",
     "text": [
      "Train on 50000 samples, validate on 10000 samples\n"
     ]
    },
    {
     "name": "stderr",
     "output_type": "stream",
     "text": [
      "2022-03-08 16:42:30.484258: I tensorflow/core/grappler/optimizers/custom_graph_optimizer_registry.cc:113] Plugin optimizer for device_type GPU is enabled.\n",
      "2022-03-08 16:42:31.402756: I tensorflow/core/grappler/optimizers/custom_graph_optimizer_registry.cc:113] Plugin optimizer for device_type GPU is enabled.\n"
     ]
    },
    {
     "name": "stdout",
     "output_type": "stream",
     "text": [
      "Epoch 1/20\n"
     ]
    },
    {
     "name": "stderr",
     "output_type": "stream",
     "text": [
      "2022-03-08 16:42:31.686466: I tensorflow/core/grappler/optimizers/custom_graph_optimizer_registry.cc:113] Plugin optimizer for device_type GPU is enabled.\n",
      "2022-03-08 16:42:31.846137: I tensorflow/core/grappler/optimizers/custom_graph_optimizer_registry.cc:113] Plugin optimizer for device_type GPU is enabled.\n"
     ]
    },
    {
     "name": "stdout",
     "output_type": "stream",
     "text": [
      "50000/50000 [==============================] - ETA: 0s - loss: 2.2188 - acc: 0.1664 "
     ]
    },
    {
     "name": "stderr",
     "output_type": "stream",
     "text": [
      "2022-03-08 17:04:09.816648: I tensorflow/core/grappler/optimizers/custom_graph_optimizer_registry.cc:113] Plugin optimizer for device_type GPU is enabled.\n"
     ]
    },
    {
     "name": "stdout",
     "output_type": "stream",
     "text": [
      "50000/50000 [==============================] - 1299s 26ms/sample - loss: 2.2188 - acc: 0.1664 - val_loss: 2.1000 - val_acc: 0.2320\n",
      "Epoch 2/20\n",
      "50000/50000 [==============================] - 1223s 24ms/sample - loss: 2.0589 - acc: 0.2534 - val_loss: 1.9255 - val_acc: 0.3094\n",
      "Epoch 3/20\n",
      "50000/50000 [==============================] - 1212s 24ms/sample - loss: 1.9223 - acc: 0.3040 - val_loss: 1.8572 - val_acc: 0.3305\n",
      "Epoch 4/20\n",
      "50000/50000 [==============================] - 1217s 24ms/sample - loss: 1.8465 - acc: 0.3341 - val_loss: 1.8674 - val_acc: 0.3170\n",
      "Epoch 5/20\n",
      "50000/50000 [==============================] - 1208s 24ms/sample - loss: 1.7838 - acc: 0.3603 - val_loss: 1.7684 - val_acc: 0.3776\n",
      "Epoch 6/20\n",
      "50000/50000 [==============================] - 1221s 24ms/sample - loss: 1.7363 - acc: 0.3805 - val_loss: 1.7594 - val_acc: 0.3869\n",
      "Epoch 7/20\n",
      "50000/50000 [==============================] - 1227s 25ms/sample - loss: 1.6895 - acc: 0.4000 - val_loss: 1.7437 - val_acc: 0.3961\n",
      "Epoch 8/20\n",
      "50000/50000 [==============================] - 1232s 25ms/sample - loss: 1.6553 - acc: 0.4126 - val_loss: 1.7729 - val_acc: 0.3945\n",
      "Epoch 9/20\n",
      "50000/50000 [==============================] - 5825s 117ms/sample - loss: 1.6323 - acc: 0.4222 - val_loss: 1.6060 - val_acc: 0.4333\n",
      "Epoch 10/20\n",
      "50000/50000 [==============================] - 1117s 22ms/sample - loss: 1.6018 - acc: 0.4336 - val_loss: 1.5822 - val_acc: 0.4450\n",
      "Epoch 11/20\n",
      "50000/50000 [==============================] - 1039s 21ms/sample - loss: 1.5889 - acc: 0.4379 - val_loss: 1.5902 - val_acc: 0.4357\n",
      "Epoch 12/20\n",
      "50000/50000 [==============================] - 1025s 20ms/sample - loss: 1.5790 - acc: 0.4460 - val_loss: 1.5426 - val_acc: 0.4531\n",
      "Epoch 13/20\n",
      "50000/50000 [==============================] - 1025s 20ms/sample - loss: 1.5639 - acc: 0.4498 - val_loss: 1.5619 - val_acc: 0.4531\n",
      "Epoch 14/20\n",
      "50000/50000 [==============================] - 1025s 21ms/sample - loss: 1.5480 - acc: 0.4561 - val_loss: 1.5501 - val_acc: 0.4573\n",
      "Epoch 15/20\n",
      "50000/50000 [==============================] - 1039s 21ms/sample - loss: 1.5547 - acc: 0.4553 - val_loss: 1.5438 - val_acc: 0.4605\n",
      "Epoch 16/20\n",
      "50000/50000 [==============================] - 1042s 21ms/sample - loss: 1.5478 - acc: 0.4599 - val_loss: 1.5256 - val_acc: 0.4664\n",
      "Epoch 17/20\n",
      "50000/50000 [==============================] - 1023s 20ms/sample - loss: 1.5428 - acc: 0.4647 - val_loss: 1.5338 - val_acc: 0.4664\n",
      "Epoch 18/20\n",
      "50000/50000 [==============================] - 1027s 21ms/sample - loss: 1.5238 - acc: 0.4682 - val_loss: 1.5316 - val_acc: 0.4623\n",
      "Epoch 19/20\n",
      "50000/50000 [==============================] - 1030s 21ms/sample - loss: 1.5256 - acc: 0.4698 - val_loss: 1.5590 - val_acc: 0.4522\n",
      "Epoch 20/20\n",
      "50000/50000 [==============================] - 1020s 20ms/sample - loss: 1.5127 - acc: 0.4746 - val_loss: 1.5057 - val_acc: 0.4736\n"
     ]
    },
    {
     "data": {
      "text/plain": [
       "<keras.callbacks.History at 0x4a21c5700>"
      ]
     },
     "execution_count": 14,
     "metadata": {},
     "output_type": "execute_result"
    }
   ],
   "source": [
    "# Compile model\n",
    "model.compile(optimizer=optimizer, loss=loss, metrics=['accuracy'])\n",
    "# Train model\n",
    "model.fit(x_train, y_train,\n",
    "          epochs=epochs,\n",
    "          validation_data=(x_test, y_test),\n",
    "          batch_size=batch_size)"
   ]
  },
  {
   "cell_type": "code",
   "execution_count": 15,
   "id": "dad27007",
   "metadata": {},
   "outputs": [
    {
     "name": "stdout",
     "output_type": "stream",
     "text": [
      "DP-SGD with sampling rate = 1% and noise_multiplier = 1.3 iterated over 2000 steps satisfies differential privacy with eps = 1.8 and delta = 1e-05.\n",
      "The optimal RDP order is 11.0.\n"
     ]
    },
    {
     "data": {
      "text/plain": [
       "(1.798929515280597, 11.0)"
      ]
     },
     "execution_count": 15,
     "metadata": {},
     "output_type": "execute_result"
    }
   ],
   "source": [
    "# Calculate privacy performance\n",
    "compute_dp_sgd_privacy.compute_dp_sgd_privacy(n=x_train.shape[0],\n",
    "                                              batch_size=batch_size,\n",
    "                                              noise_multiplier=noise_multiplier,\n",
    "                                              epochs=epochs,\n",
    "                                              delta=1e-5)"
   ]
  },
  {
   "cell_type": "markdown",
   "id": "e15d91bb",
   "metadata": {},
   "source": [
    "### Model2: ResNet with transfer learning"
   ]
  },
  {
   "cell_type": "code",
   "execution_count": null,
   "id": "47989ed6",
   "metadata": {},
   "outputs": [],
   "source": []
  },
  {
   "cell_type": "markdown",
   "id": "fba636e0",
   "metadata": {},
   "source": [
    "### Model3: HOG classification"
   ]
  },
  {
   "cell_type": "code",
   "execution_count": null,
   "id": "c2e8335f",
   "metadata": {},
   "outputs": [],
   "source": []
  },
  {
   "cell_type": "code",
   "execution_count": null,
   "id": "bdb734b4",
   "metadata": {},
   "outputs": [],
   "source": []
  }
 ],
 "metadata": {
  "kernelspec": {
   "display_name": "Python 3 (ipykernel)",
   "language": "python",
   "name": "python3"
  },
  "language_info": {
   "codemirror_mode": {
    "name": "ipython",
    "version": 3
   },
   "file_extension": ".py",
   "mimetype": "text/x-python",
   "name": "python",
   "nbconvert_exporter": "python",
   "pygments_lexer": "ipython3",
   "version": "3.9.10"
  }
 },
 "nbformat": 4,
 "nbformat_minor": 5
}
