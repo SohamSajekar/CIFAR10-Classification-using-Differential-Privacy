{
 "cells": [
  {
   "cell_type": "code",
   "execution_count": 4,
   "id": "a58863c1",
   "metadata": {},
   "outputs": [],
   "source": [
    "import pandas as pd\n",
    "import numpy as np\n",
    "import matplotlib.pyplot as plt\n",
    "import seaborn as sns\n",
    "import tensorflow as tf"
   ]
  },
  {
   "cell_type": "code",
   "execution_count": null,
   "id": "d1ccfabc",
   "metadata": {},
   "outputs": [],
   "source": [
    "## Model1: Simple CNN"
   ]
  },
  {
   "cell_type": "code",
   "execution_count": null,
   "id": "ace00f73",
   "metadata": {},
   "outputs": [],
   "source": [
    "## Model2: ResNet with transfer learning"
   ]
  },
  {
   "cell_type": "code",
   "execution_count": null,
   "id": "b4262d67",
   "metadata": {},
   "outputs": [],
   "source": [
    "## Model3: HOG classification"
   ]
  },
  {
   "cell_type": "code",
   "execution_count": null,
   "id": "c2e8335f",
   "metadata": {},
   "outputs": [],
   "source": []
  }
 ],
 "metadata": {
  "kernelspec": {
   "display_name": "Python 3 (ipykernel)",
   "language": "python",
   "name": "python3"
  },
  "language_info": {
   "codemirror_mode": {
    "name": "ipython",
    "version": 3
   },
   "file_extension": ".py",
   "mimetype": "text/x-python",
   "name": "python",
   "nbconvert_exporter": "python",
   "pygments_lexer": "ipython3",
   "version": "3.9.10"
  }
 },
 "nbformat": 4,
 "nbformat_minor": 5
}
