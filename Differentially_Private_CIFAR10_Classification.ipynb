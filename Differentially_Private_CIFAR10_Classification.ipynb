{
 "cells": [
  {
   "cell_type": "markdown",
   "id": "84d0b2ea",
   "metadata": {},
   "source": [
    "### Import libraries"
   ]
  },
  {
   "cell_type": "code",
   "execution_count": 1,
   "id": "074e486c",
   "metadata": {},
   "outputs": [
    {
     "name": "stdout",
     "output_type": "stream",
     "text": [
      "WARNING:tensorflow:From /Users/Mahos/miniforge3/envs/shm_tf/lib/python3.9/site-packages/tensorflow/python/compat/v2_compat.py:107: disable_resource_variables (from tensorflow.python.ops.variable_scope) is deprecated and will be removed in a future version.\n",
      "Instructions for updating:\n",
      "non-resource variables are not supported in the long term\n"
     ]
    }
   ],
   "source": [
    "import numpy as np\n",
    "import pandas as pd\n",
    "from absl import flags\n",
    "import tensorflow as tf\n",
    "import tensorflow_privacy\n",
    "from keras.models import Model\n",
    "import matplotlib.pyplot as plt\n",
    "import tensorflow_addons as tfa\n",
    "from keras.layers.convolutional import Conv2D\n",
    "from tensorflow.keras.datasets import cifar10\n",
    "from tensorflow_addons.layers import GroupNormalization\n",
    "from keras.layers import Input, Dense, Flatten, Dropout, Add\n",
    "from tensorflow_privacy.privacy.analysis import compute_dp_sgd_privacy\n",
    "from tensorflow_privacy.privacy.analysis.rdp_accountant import compute_rdp\n",
    "from tensorflow_privacy.privacy.analysis.rdp_accountant import get_privacy_spent\n",
    "from keras.layers.pooling import MaxPooling2D, AveragePooling2D, GlobalAveragePooling2D\n",
    "tf.compat.v1.disable_v2_behavior()\n",
    "tf.get_logger().setLevel('ERROR')\n",
    "%matplotlib inline"
   ]
  },
  {
   "cell_type": "markdown",
   "id": "83ae37ef",
   "metadata": {},
   "source": [
    "### Load Dataset"
   ]
  },
  {
   "cell_type": "code",
   "execution_count": 2,
   "id": "cecc27bc",
   "metadata": {},
   "outputs": [
    {
     "name": "stdout",
     "output_type": "stream",
     "text": [
      "training: (50000, 32, 32, 3) (50000, 10)\n",
      "testing: (10000, 32, 32, 3) (10000, 10)\n"
     ]
    }
   ],
   "source": [
    "# Loading cifar10 image dataset\n",
    "data_train, data_test = cifar10.load_data()\n",
    "x_train, y_train = data_train\n",
    "x_test, y_test = data_test\n",
    "\n",
    "# Normalizing pixel values of images\n",
    "x_train = x_train / 255.0\n",
    "x_test = x_test / 255.0\n",
    "\n",
    "# Flattening images in dataset\n",
    "y_train = y_train.flatten().reshape(y_train.shape[0], 1)\n",
    "y_test = y_test.flatten().reshape(y_test.shape[0], 1)\n",
    "\n",
    "# One hot encoding of labels/target column\n",
    "y_train = tf.keras.utils.to_categorical(y_train, num_classes=10)\n",
    "y_test = tf.keras.utils.to_categorical(y_test, num_classes=10)\n",
    "\n",
    "print(\"training:\", x_train.shape, y_train.shape)\n",
    "print(\"testing:\", x_test.shape, y_test.shape)"
   ]
  },
  {
   "cell_type": "markdown",
   "id": "2ad44c60",
   "metadata": {},
   "source": [
    "### Model5: Custom Simple CNN"
   ]
  },
  {
   "cell_type": "code",
   "execution_count": 12,
   "id": "be8cff43",
   "metadata": {},
   "outputs": [
    {
     "data": {
      "text/plain": [
       "4.979053549560634"
      ]
     },
     "execution_count": 12,
     "metadata": {},
     "output_type": "execute_result"
    }
   ],
   "source": [
    "# Hyper-parameters\n",
    "epochs = 41\n",
    "batch_size = 1500\n",
    "l2_norm_clip = 1\n",
    "noise_multiplier = 1.3\n",
    "num_microbatches = 100\n",
    "learning_rate = 0.15\n",
    "delta = 1e-5\n",
    "\n",
    "# epochs = 20\n",
    "# batch_size = 500\n",
    "# l2_norm_clip = 1.5\n",
    "# noise_multiplier = 1.3\n",
    "# num_microbatches = 250\n",
    "# learning_rate = 0.25\n",
    "\n",
    "if batch_size % num_microbatches != 0:\n",
    "    raise ValueError('Batch size should be an integer multiple of the number of microbatches')\n",
    "    \n",
    "# Compute RDP\n",
    "orders = [1 + x / 10. for x in range(1, 100)] + list(range(12, 64))\n",
    "rdp = compute_rdp(q = batch_size / 50000,\n",
    "                  noise_multiplier = noise_multiplier,\n",
    "                  steps = epochs * 50000 // batch_size,\n",
    "                  orders = orders)\n",
    "# Calculate epsilon\n",
    "epsilon = get_privacy_spent(orders, rdp, target_delta = delta)[0]\n",
    "epsilon"
   ]
  },
  {
   "cell_type": "code",
   "execution_count": 4,
   "id": "988573df",
   "metadata": {},
   "outputs": [
    {
     "name": "stdout",
     "output_type": "stream",
     "text": [
      "Model: \"model\"\n",
      "_________________________________________________________________\n",
      " Layer (type)                Output Shape              Param #   \n",
      "=================================================================\n",
      " input_1 (InputLayer)        [(None, 32, 32, 3)]       0         \n",
      "                                                                 \n",
      " conv2d (Conv2D)             (None, 13, 13, 16)        3088      \n",
      "                                                                 \n",
      " max_pooling2d (MaxPooling2D  (None, 6, 13, 16)        0         \n",
      " )                                                               \n",
      "                                                                 \n",
      " conv2d_1 (Conv2D)           (None, 2, 5, 32)          8224      \n",
      "                                                                 \n",
      " max_pooling2d_1 (MaxPooling  (None, 1, 5, 32)         0         \n",
      " 2D)                                                             \n",
      "                                                                 \n",
      " flatten (Flatten)           (None, 160)               0         \n",
      "                                                                 \n",
      " dense (Dense)               (None, 64)                10304     \n",
      "                                                                 \n",
      " dense_1 (Dense)             (None, 32)                2080      \n",
      "                                                                 \n",
      " dense_2 (Dense)             (None, 10)                330       \n",
      "                                                                 \n",
      "=================================================================\n",
      "Total params: 24,026\n",
      "Trainable params: 24,026\n",
      "Non-trainable params: 0\n",
      "_________________________________________________________________\n"
     ]
    }
   ],
   "source": [
    "### Custom ResNet model\n",
    "model_input = Input(shape = (32, 32, 3))\n",
    "x1 = Conv2D(16, (8, 8), activation = 'tanh', strides = 2)(model_input)\n",
    "x2 = MaxPooling2D(pool_size = (2,1))(x1)\n",
    "x3 = Conv2D(32, (4, 4), activation = 'tanh', strides = 2)(x2)\n",
    "x4 = MaxPooling2D(pool_size = (2,1))(x3)\n",
    "\n",
    "# ## Residual Block 1\n",
    "# x3 = Conv2D(64, (3, 3), activation = 'relu', strides = 1)(x2)\n",
    "# x3 = GroupNormalization(groups = 64, axis=3)(x3) # normalization layer 1\n",
    "# x4 = Conv2D(64, (3, 3), activation = 'relu', strides = 1)(x3)\n",
    "# sk1 = Add()([x2, x4]) # skip connection 1\n",
    "# ## Residual Block 2\n",
    "# x5 = Conv2D(64, (3, 3), activation = 'relu', strides = 1)(sk1)\n",
    "# x5 = GroupNormalization(groups = 64, axis=3)(x5) # normalization layer 2\n",
    "# x6 = Conv2D(64, (3, 3), activation = 'relu', strides = 1)(x5)\n",
    "# sk2 = Add()([sk1, x6]) # skip connection 2\n",
    "# Global Average Pooling layer\n",
    "# avg = GlobalAveragePooling2D()(sk2)\n",
    "\n",
    "ftn = Flatten()(x4)\n",
    "# Feed-forward network\n",
    "d1 = Dense(64, activation = 'tanh')(ftn)\n",
    "d2 = Dense(32, activation = 'tanh')(d1)\n",
    "model_output = Dense(10, activation = 'softmax')(d2)\n",
    "model = Model(inputs = model_input, outputs = model_output)\n",
    "model.summary()"
   ]
  },
  {
   "cell_type": "code",
   "execution_count": 5,
   "id": "fc39d82d",
   "metadata": {},
   "outputs": [],
   "source": [
    "# define optimizer (dp-sgd) \n",
    "optimizer = tensorflow_privacy.DPKerasSGDOptimizer(\n",
    "    l2_norm_clip=l2_norm_clip,\n",
    "    noise_multiplier=noise_multiplier,\n",
    "    num_microbatches=num_microbatches,\n",
    "    learning_rate=learning_rate)\n",
    "\n",
    "# # define optimizer (dp-adam)\n",
    "# optimizer = tensorflow_privacy.DPKerasAdamOptimizer(\n",
    "#     l2_norm_clip=l2_norm_clip,\n",
    "#     noise_multiplier=noise_multiplier,\n",
    "#     num_microbatches=num_microbatches,\n",
    "#     learning_rate=learning_rate,\n",
    "#     gradient_accumulation_steps=5)\n",
    "\n",
    "# define loss function\n",
    "loss = tf.keras.losses.CategoricalCrossentropy(\n",
    "    from_logits=True, reduction=tf.losses.Reduction.NONE)"
   ]
  },
  {
   "cell_type": "code",
   "execution_count": 6,
   "id": "670d1cdf",
   "metadata": {
    "scrolled": false
   },
   "outputs": [
    {
     "name": "stderr",
     "output_type": "stream",
     "text": [
      "/Users/Mahos/miniforge3/envs/shm_tf/lib/python3.9/site-packages/tensorflow/python/util/dispatch.py:1082: UserWarning: \"`categorical_crossentropy` received `from_logits=True`, but the `output` argument was produced by a sigmoid or softmax activation and thus does not represent logits. Was this intended?\"\n",
      "  return dispatch_target(*args, **kwargs)\n"
     ]
    },
    {
     "name": "stdout",
     "output_type": "stream",
     "text": [
      "Train on 50000 samples, validate on 10000 samples\n",
      "Metal device set to: Apple M1 Pro\n"
     ]
    },
    {
     "name": "stderr",
     "output_type": "stream",
     "text": [
      "2022-03-24 19:05:09.869095: I tensorflow/core/common_runtime/pluggable_device/pluggable_device_factory.cc:305] Could not identify NUMA node of platform GPU ID 0, defaulting to 0. Your kernel may not have been built with NUMA support.\n",
      "2022-03-24 19:05:09.869235: I tensorflow/core/common_runtime/pluggable_device/pluggable_device_factory.cc:271] Created TensorFlow device (/job:localhost/replica:0/task:0/device:GPU:0 with 0 MB memory) -> physical PluggableDevice (device: 0, name: METAL, pci bus id: <undefined>)\n",
      "2022-03-24 19:05:09.995101: W tensorflow/core/platform/profile_utils/cpu_utils.cc:128] Failed to get CPU frequency: 0 Hz\n",
      "2022-03-24 19:05:09.997151: I tensorflow/core/grappler/optimizers/custom_graph_optimizer_registry.cc:113] Plugin optimizer for device_type GPU is enabled.\n"
     ]
    },
    {
     "name": "stdout",
     "output_type": "stream",
     "text": [
      "Epoch 1/130\n"
     ]
    },
    {
     "name": "stderr",
     "output_type": "stream",
     "text": [
      "2022-03-24 19:05:10.141793: I tensorflow/core/grappler/optimizers/custom_graph_optimizer_registry.cc:113] Plugin optimizer for device_type GPU is enabled.\n",
      "2022-03-24 19:05:10.279402: I tensorflow/core/grappler/optimizers/custom_graph_optimizer_registry.cc:113] Plugin optimizer for device_type GPU is enabled.\n",
      "2022-03-24 19:05:10.311692: I tensorflow/core/grappler/optimizers/custom_graph_optimizer_registry.cc:113] Plugin optimizer for device_type GPU is enabled.\n"
     ]
    },
    {
     "name": "stdout",
     "output_type": "stream",
     "text": [
      "50000/50000 [==============================] - ETA: 0s - loss: 2.1793 - acc: 0.1970"
     ]
    },
    {
     "name": "stderr",
     "output_type": "stream",
     "text": [
      "/Users/Mahos/miniforge3/envs/shm_tf/lib/python3.9/site-packages/keras/engine/training_v1.py:2057: UserWarning: `Model.state_updates` will be removed in a future version. This property should not be used in TensorFlow 2.0, as `updates` are applied automatically.\n",
      "  updates = self.state_updates\n",
      "2022-03-24 19:08:18.056319: I tensorflow/core/grappler/optimizers/custom_graph_optimizer_registry.cc:113] Plugin optimizer for device_type GPU is enabled.\n"
     ]
    },
    {
     "name": "stdout",
     "output_type": "stream",
     "text": [
      "50000/50000 [==============================] - 188s 4ms/sample - loss: 2.1793 - acc: 0.1970 - val_loss: 2.0698 - val_acc: 0.2355\n",
      "Epoch 2/130\n",
      "50000/50000 [==============================] - 175s 4ms/sample - loss: 2.0320 - acc: 0.2459 - val_loss: 1.9646 - val_acc: 0.2756\n",
      "Epoch 3/130\n",
      "50000/50000 [==============================] - 172s 3ms/sample - loss: 1.9627 - acc: 0.2766 - val_loss: 1.9437 - val_acc: 0.2852\n",
      "Epoch 4/130\n",
      "50000/50000 [==============================] - 173s 3ms/sample - loss: 1.9127 - acc: 0.2981 - val_loss: 1.8665 - val_acc: 0.3164\n",
      "Epoch 5/130\n",
      "50000/50000 [==============================] - 175s 4ms/sample - loss: 1.8628 - acc: 0.3193 - val_loss: 1.8327 - val_acc: 0.3315\n",
      "Epoch 6/130\n",
      "50000/50000 [==============================] - 204s 4ms/sample - loss: 1.8287 - acc: 0.3319 - val_loss: 1.8065 - val_acc: 0.3375\n",
      "Epoch 7/130\n",
      "50000/50000 [==============================] - 205s 4ms/sample - loss: 1.7983 - acc: 0.3405 - val_loss: 1.8364 - val_acc: 0.3254\n",
      "Epoch 8/130\n",
      "50000/50000 [==============================] - 205s 4ms/sample - loss: 1.7858 - acc: 0.3483 - val_loss: 1.7434 - val_acc: 0.3598\n",
      "Epoch 9/130\n",
      "50000/50000 [==============================] - 211s 4ms/sample - loss: 1.7561 - acc: 0.3588 - val_loss: 1.7480 - val_acc: 0.3483\n",
      "Epoch 10/130\n",
      "50000/50000 [==============================] - 213s 4ms/sample - loss: 1.7415 - acc: 0.3663 - val_loss: 1.7188 - val_acc: 0.3698\n",
      "Epoch 11/130\n",
      "50000/50000 [==============================] - 210s 4ms/sample - loss: 1.7219 - acc: 0.3746 - val_loss: 1.7772 - val_acc: 0.3586\n",
      "Epoch 12/130\n",
      "50000/50000 [==============================] - 212s 4ms/sample - loss: 1.7084 - acc: 0.3770 - val_loss: 1.7214 - val_acc: 0.3654\n",
      "Epoch 13/130\n",
      "50000/50000 [==============================] - 215s 4ms/sample - loss: 1.6880 - acc: 0.3856 - val_loss: 1.7165 - val_acc: 0.3699\n",
      "Epoch 14/130\n",
      "50000/50000 [==============================] - 217s 4ms/sample - loss: 1.6807 - acc: 0.3874 - val_loss: 1.6926 - val_acc: 0.3765\n",
      "Epoch 15/130\n",
      "50000/50000 [==============================] - 214s 4ms/sample - loss: 1.6734 - acc: 0.3907 - val_loss: 1.6557 - val_acc: 0.3923\n",
      "Epoch 16/130\n",
      "50000/50000 [==============================] - 208s 4ms/sample - loss: 1.6580 - acc: 0.3937 - val_loss: 1.6606 - val_acc: 0.3933\n",
      "Epoch 17/130\n",
      "50000/50000 [==============================] - 208s 4ms/sample - loss: 1.6536 - acc: 0.3972 - val_loss: 1.6585 - val_acc: 0.3987\n",
      "Epoch 18/130\n",
      "50000/50000 [==============================] - 207s 4ms/sample - loss: 1.6490 - acc: 0.3985 - val_loss: 1.6414 - val_acc: 0.3980\n",
      "Epoch 19/130\n",
      "50000/50000 [==============================] - 207s 4ms/sample - loss: 1.6392 - acc: 0.4032 - val_loss: 1.6336 - val_acc: 0.3990\n",
      "Epoch 20/130\n",
      "50000/50000 [==============================] - 205s 4ms/sample - loss: 1.6351 - acc: 0.4061 - val_loss: 1.6400 - val_acc: 0.3931\n",
      "Epoch 21/130\n",
      "50000/50000 [==============================] - 210s 4ms/sample - loss: 1.6469 - acc: 0.4007 - val_loss: 1.6441 - val_acc: 0.3993\n",
      "Epoch 22/130\n",
      "50000/50000 [==============================] - 209s 4ms/sample - loss: 1.6385 - acc: 0.4026 - val_loss: 1.7051 - val_acc: 0.3738\n",
      "Epoch 23/130\n",
      "50000/50000 [==============================] - 208s 4ms/sample - loss: 1.6311 - acc: 0.4054 - val_loss: 1.6225 - val_acc: 0.4017\n",
      "Epoch 24/130\n",
      "50000/50000 [==============================] - 212s 4ms/sample - loss: 1.6168 - acc: 0.4110 - val_loss: 1.6315 - val_acc: 0.4078\n",
      "Epoch 25/130\n",
      "50000/50000 [==============================] - 218s 4ms/sample - loss: 1.6205 - acc: 0.4106 - val_loss: 1.6074 - val_acc: 0.4111\n",
      "Epoch 26/130\n",
      "50000/50000 [==============================] - 211s 4ms/sample - loss: 1.6183 - acc: 0.4114 - val_loss: 1.6120 - val_acc: 0.4071\n",
      "Epoch 27/130\n",
      "50000/50000 [==============================] - 211s 4ms/sample - loss: 1.6142 - acc: 0.4121 - val_loss: 1.6155 - val_acc: 0.4022\n",
      "Epoch 28/130\n",
      "50000/50000 [==============================] - 206s 4ms/sample - loss: 1.6077 - acc: 0.4118 - val_loss: 1.6822 - val_acc: 0.3912\n",
      "Epoch 29/130\n",
      "50000/50000 [==============================] - 206s 4ms/sample - loss: 1.6120 - acc: 0.4114 - val_loss: 1.6018 - val_acc: 0.4097\n",
      "Epoch 30/130\n",
      "50000/50000 [==============================] - 204s 4ms/sample - loss: 1.6041 - acc: 0.4150 - val_loss: 1.6409 - val_acc: 0.4025\n",
      "Epoch 31/130\n",
      "50000/50000 [==============================] - 204s 4ms/sample - loss: 1.6011 - acc: 0.4177 - val_loss: 1.6103 - val_acc: 0.4159\n",
      "Epoch 32/130\n",
      "50000/50000 [==============================] - 204s 4ms/sample - loss: 1.5970 - acc: 0.4206 - val_loss: 1.6701 - val_acc: 0.4033\n",
      "Epoch 33/130\n",
      "50000/50000 [==============================] - 204s 4ms/sample - loss: 1.5985 - acc: 0.4212 - val_loss: 1.6079 - val_acc: 0.4186\n",
      "Epoch 34/130\n",
      "50000/50000 [==============================] - 205s 4ms/sample - loss: 1.5909 - acc: 0.4234 - val_loss: 1.5920 - val_acc: 0.4216\n",
      "Epoch 35/130\n",
      "50000/50000 [==============================] - 205s 4ms/sample - loss: 1.5906 - acc: 0.4242 - val_loss: 1.5819 - val_acc: 0.4241\n",
      "Epoch 36/130\n",
      "50000/50000 [==============================] - 206s 4ms/sample - loss: 1.5871 - acc: 0.4240 - val_loss: 1.5896 - val_acc: 0.4173\n",
      "Epoch 37/130\n",
      "50000/50000 [==============================] - 206s 4ms/sample - loss: 1.5823 - acc: 0.4262 - val_loss: 1.5889 - val_acc: 0.4211\n",
      "Epoch 38/130\n",
      "50000/50000 [==============================] - 206s 4ms/sample - loss: 1.5819 - acc: 0.4234 - val_loss: 1.6040 - val_acc: 0.4196\n",
      "Epoch 39/130\n",
      "50000/50000 [==============================] - 205s 4ms/sample - loss: 1.5867 - acc: 0.4244 - val_loss: 1.5864 - val_acc: 0.4207\n",
      "Epoch 40/130\n",
      "50000/50000 [==============================] - 207s 4ms/sample - loss: 1.5788 - acc: 0.4256 - val_loss: 1.5945 - val_acc: 0.4172\n",
      "Epoch 41/130\n",
      "50000/50000 [==============================] - 205s 4ms/sample - loss: 1.5807 - acc: 0.4269 - val_loss: 1.5947 - val_acc: 0.4180\n",
      "Epoch 42/130\n",
      "50000/50000 [==============================] - 205s 4ms/sample - loss: 1.5754 - acc: 0.4264 - val_loss: 1.6074 - val_acc: 0.4164\n",
      "Epoch 43/130\n",
      "50000/50000 [==============================] - 206s 4ms/sample - loss: 1.5768 - acc: 0.4263 - val_loss: 1.5743 - val_acc: 0.4237\n",
      "Epoch 44/130\n",
      "50000/50000 [==============================] - 207s 4ms/sample - loss: 1.5775 - acc: 0.4247 - val_loss: 1.6081 - val_acc: 0.4137\n",
      "Epoch 45/130\n",
      "50000/50000 [==============================] - 208s 4ms/sample - loss: 1.5653 - acc: 0.4292 - val_loss: 1.5938 - val_acc: 0.4180\n",
      "Epoch 46/130\n",
      "50000/50000 [==============================] - 208s 4ms/sample - loss: 1.5726 - acc: 0.4294 - val_loss: 1.6068 - val_acc: 0.4189\n",
      "Epoch 47/130\n",
      "50000/50000 [==============================] - 208s 4ms/sample - loss: 1.5667 - acc: 0.4326 - val_loss: 1.5815 - val_acc: 0.4189\n",
      "Epoch 48/130\n",
      "50000/50000 [==============================] - 209s 4ms/sample - loss: 1.5622 - acc: 0.4318 - val_loss: 1.5749 - val_acc: 0.4226\n",
      "Epoch 49/130\n",
      "50000/50000 [==============================] - 207s 4ms/sample - loss: 1.5669 - acc: 0.4303 - val_loss: 1.5957 - val_acc: 0.4206\n",
      "Epoch 50/130\n",
      "50000/50000 [==============================] - 208s 4ms/sample - loss: 1.5600 - acc: 0.4314 - val_loss: 1.5740 - val_acc: 0.4237\n",
      "Epoch 51/130\n",
      "50000/50000 [==============================] - 207s 4ms/sample - loss: 1.5607 - acc: 0.4316 - val_loss: 1.5705 - val_acc: 0.4229\n",
      "Epoch 52/130\n",
      "50000/50000 [==============================] - 210s 4ms/sample - loss: 1.5649 - acc: 0.4316 - val_loss: 1.5665 - val_acc: 0.4232\n",
      "Epoch 53/130\n",
      "50000/50000 [==============================] - 213s 4ms/sample - loss: 1.5673 - acc: 0.4307 - val_loss: 1.5776 - val_acc: 0.4238\n",
      "Epoch 54/130\n",
      "50000/50000 [==============================] - 211s 4ms/sample - loss: 1.5659 - acc: 0.4313 - val_loss: 1.5701 - val_acc: 0.4281\n",
      "Epoch 55/130\n",
      "50000/50000 [==============================] - 210s 4ms/sample - loss: 1.5654 - acc: 0.4310 - val_loss: 1.5819 - val_acc: 0.4223\n",
      "Epoch 56/130\n",
      "50000/50000 [==============================] - 210s 4ms/sample - loss: 1.5645 - acc: 0.4326 - val_loss: 1.5794 - val_acc: 0.4255\n",
      "Epoch 57/130\n",
      "50000/50000 [==============================] - 210s 4ms/sample - loss: 1.5622 - acc: 0.4339 - val_loss: 1.6045 - val_acc: 0.4184\n",
      "Epoch 58/130\n",
      "50000/50000 [==============================] - 209s 4ms/sample - loss: 1.5635 - acc: 0.4310 - val_loss: 1.5669 - val_acc: 0.4262\n"
     ]
    },
    {
     "name": "stdout",
     "output_type": "stream",
     "text": [
      "Epoch 59/130\n",
      "50000/50000 [==============================] - 211s 4ms/sample - loss: 1.5593 - acc: 0.4331 - val_loss: 1.5958 - val_acc: 0.4206\n",
      "Epoch 60/130\n",
      "50000/50000 [==============================] - 212s 4ms/sample - loss: 1.5610 - acc: 0.4340 - val_loss: 1.6093 - val_acc: 0.4127\n",
      "Epoch 61/130\n",
      "50000/50000 [==============================] - 211s 4ms/sample - loss: 1.5687 - acc: 0.4304 - val_loss: 1.5887 - val_acc: 0.4211\n",
      "Epoch 62/130\n",
      "50000/50000 [==============================] - 213s 4ms/sample - loss: 1.5652 - acc: 0.4332 - val_loss: 1.5744 - val_acc: 0.4256\n",
      "Epoch 63/130\n",
      "50000/50000 [==============================] - 211s 4ms/sample - loss: 1.5631 - acc: 0.4330 - val_loss: 1.5751 - val_acc: 0.4274\n",
      "Epoch 64/130\n",
      "50000/50000 [==============================] - 213s 4ms/sample - loss: 1.5607 - acc: 0.4347 - val_loss: 1.5758 - val_acc: 0.4222\n",
      "Epoch 65/130\n",
      "50000/50000 [==============================] - 212s 4ms/sample - loss: 1.5675 - acc: 0.4325 - val_loss: 1.5806 - val_acc: 0.4290\n",
      "Epoch 66/130\n",
      "50000/50000 [==============================] - 212s 4ms/sample - loss: 1.5571 - acc: 0.4345 - val_loss: 1.5638 - val_acc: 0.4286\n",
      "Epoch 67/130\n",
      "50000/50000 [==============================] - 211s 4ms/sample - loss: 1.5573 - acc: 0.4359 - val_loss: 1.5768 - val_acc: 0.4237\n",
      "Epoch 68/130\n",
      "50000/50000 [==============================] - 211s 4ms/sample - loss: 1.5568 - acc: 0.4366 - val_loss: 1.5616 - val_acc: 0.4281\n",
      "Epoch 69/130\n",
      "50000/50000 [==============================] - 212s 4ms/sample - loss: 1.5546 - acc: 0.4376 - val_loss: 1.5795 - val_acc: 0.4272\n",
      "Epoch 70/130\n",
      "50000/50000 [==============================] - 214s 4ms/sample - loss: 1.5572 - acc: 0.4357 - val_loss: 1.5957 - val_acc: 0.4172\n",
      "Epoch 71/130\n",
      "50000/50000 [==============================] - 210s 4ms/sample - loss: 1.5562 - acc: 0.4385 - val_loss: 1.5964 - val_acc: 0.4248\n",
      "Epoch 72/130\n",
      "50000/50000 [==============================] - 211s 4ms/sample - loss: 1.5616 - acc: 0.4333 - val_loss: 1.5697 - val_acc: 0.4305\n",
      "Epoch 73/130\n",
      "50000/50000 [==============================] - 214s 4ms/sample - loss: 1.5659 - acc: 0.4348 - val_loss: 1.5689 - val_acc: 0.4259\n",
      "Epoch 74/130\n",
      "50000/50000 [==============================] - 218s 4ms/sample - loss: 1.5686 - acc: 0.4334 - val_loss: 1.5768 - val_acc: 0.4218\n",
      "Epoch 75/130\n",
      "50000/50000 [==============================] - 212s 4ms/sample - loss: 1.5607 - acc: 0.4344 - val_loss: 1.5821 - val_acc: 0.4215\n",
      "Epoch 76/130\n",
      "50000/50000 [==============================] - 212s 4ms/sample - loss: 1.5613 - acc: 0.4384 - val_loss: 1.5837 - val_acc: 0.4274\n",
      "Epoch 77/130\n",
      "50000/50000 [==============================] - 205s 4ms/sample - loss: 1.5647 - acc: 0.4331 - val_loss: 1.5726 - val_acc: 0.4206\n",
      "Epoch 78/130\n",
      "50000/50000 [==============================] - 177s 4ms/sample - loss: 1.5653 - acc: 0.4334 - val_loss: 1.6011 - val_acc: 0.4172\n",
      "Epoch 79/130\n",
      "50000/50000 [==============================] - 174s 3ms/sample - loss: 1.5629 - acc: 0.4329 - val_loss: 1.5875 - val_acc: 0.4170\n",
      "Epoch 80/130\n",
      "50000/50000 [==============================] - 174s 3ms/sample - loss: 1.5648 - acc: 0.4333 - val_loss: 1.5866 - val_acc: 0.4277\n",
      "Epoch 81/130\n",
      "50000/50000 [==============================] - 175s 4ms/sample - loss: 1.5624 - acc: 0.4328 - val_loss: 1.5770 - val_acc: 0.4221\n",
      "Epoch 82/130\n",
      "50000/50000 [==============================] - 173s 3ms/sample - loss: 1.5642 - acc: 0.4335 - val_loss: 1.5787 - val_acc: 0.4202\n",
      "Epoch 83/130\n",
      "50000/50000 [==============================] - 171s 3ms/sample - loss: 1.5568 - acc: 0.4358 - val_loss: 1.5775 - val_acc: 0.4199\n",
      "Epoch 84/130\n",
      "50000/50000 [==============================] - 172s 3ms/sample - loss: 1.5569 - acc: 0.4373 - val_loss: 1.5719 - val_acc: 0.4203\n",
      "Epoch 85/130\n",
      "50000/50000 [==============================] - 172s 3ms/sample - loss: 1.5544 - acc: 0.4357 - val_loss: 1.5764 - val_acc: 0.4198\n",
      "Epoch 86/130\n",
      "50000/50000 [==============================] - 173s 3ms/sample - loss: 1.5543 - acc: 0.4380 - val_loss: 1.5777 - val_acc: 0.4179\n",
      "Epoch 87/130\n",
      "50000/50000 [==============================] - 173s 3ms/sample - loss: 1.5689 - acc: 0.4318 - val_loss: 1.5696 - val_acc: 0.4239\n",
      "Epoch 88/130\n",
      "50000/50000 [==============================] - 175s 4ms/sample - loss: 1.5572 - acc: 0.4394 - val_loss: 1.5867 - val_acc: 0.4275\n",
      "Epoch 89/130\n",
      "10000/50000 [=====>........................] - ETA: 2:17 - loss: 1.5801 - acc: 0.4331"
     ]
    },
    {
     "ename": "KeyboardInterrupt",
     "evalue": "",
     "output_type": "error",
     "traceback": [
      "\u001b[0;31m---------------------------------------------------------------------------\u001b[0m",
      "\u001b[0;31mKeyboardInterrupt\u001b[0m                         Traceback (most recent call last)",
      "Input \u001b[0;32mIn [6]\u001b[0m, in \u001b[0;36m<module>\u001b[0;34m\u001b[0m\n\u001b[1;32m      2\u001b[0m model\u001b[38;5;241m.\u001b[39mcompile(optimizer\u001b[38;5;241m=\u001b[39moptimizer, loss\u001b[38;5;241m=\u001b[39mloss, metrics\u001b[38;5;241m=\u001b[39m[\u001b[38;5;124m'\u001b[39m\u001b[38;5;124maccuracy\u001b[39m\u001b[38;5;124m'\u001b[39m])\n\u001b[1;32m      3\u001b[0m \u001b[38;5;66;03m# Train model\u001b[39;00m\n\u001b[0;32m----> 4\u001b[0m \u001b[43mmodel\u001b[49m\u001b[38;5;241;43m.\u001b[39;49m\u001b[43mfit\u001b[49m\u001b[43m(\u001b[49m\u001b[43mx_train\u001b[49m\u001b[43m,\u001b[49m\u001b[43m \u001b[49m\u001b[43my_train\u001b[49m\u001b[43m,\u001b[49m\n\u001b[1;32m      5\u001b[0m \u001b[43m          \u001b[49m\u001b[43mepochs\u001b[49m\u001b[38;5;241;43m=\u001b[39;49m\u001b[43mepochs\u001b[49m\u001b[43m,\u001b[49m\n\u001b[1;32m      6\u001b[0m \u001b[43m          \u001b[49m\u001b[43mvalidation_data\u001b[49m\u001b[38;5;241;43m=\u001b[39;49m\u001b[43m(\u001b[49m\u001b[43mx_test\u001b[49m\u001b[43m,\u001b[49m\u001b[43m \u001b[49m\u001b[43my_test\u001b[49m\u001b[43m)\u001b[49m\u001b[43m,\u001b[49m\n\u001b[1;32m      7\u001b[0m \u001b[43m          \u001b[49m\u001b[43mbatch_size\u001b[49m\u001b[38;5;241;43m=\u001b[39;49m\u001b[43mbatch_size\u001b[49m\u001b[43m)\u001b[49m\n",
      "File \u001b[0;32m~/miniforge3/envs/shm_tf/lib/python3.9/site-packages/keras/engine/training_v1.py:777\u001b[0m, in \u001b[0;36mModel.fit\u001b[0;34m(self, x, y, batch_size, epochs, verbose, callbacks, validation_split, validation_data, shuffle, class_weight, sample_weight, initial_epoch, steps_per_epoch, validation_steps, validation_freq, max_queue_size, workers, use_multiprocessing, **kwargs)\u001b[0m\n\u001b[1;32m    774\u001b[0m \u001b[38;5;28mself\u001b[39m\u001b[38;5;241m.\u001b[39m_check_call_args(\u001b[38;5;124m'\u001b[39m\u001b[38;5;124mfit\u001b[39m\u001b[38;5;124m'\u001b[39m)\n\u001b[1;32m    776\u001b[0m func \u001b[38;5;241m=\u001b[39m \u001b[38;5;28mself\u001b[39m\u001b[38;5;241m.\u001b[39m_select_training_loop(x)\n\u001b[0;32m--> 777\u001b[0m \u001b[38;5;28;01mreturn\u001b[39;00m \u001b[43mfunc\u001b[49m\u001b[38;5;241;43m.\u001b[39;49m\u001b[43mfit\u001b[49m\u001b[43m(\u001b[49m\n\u001b[1;32m    778\u001b[0m \u001b[43m    \u001b[49m\u001b[38;5;28;43mself\u001b[39;49m\u001b[43m,\u001b[49m\n\u001b[1;32m    779\u001b[0m \u001b[43m    \u001b[49m\u001b[43mx\u001b[49m\u001b[38;5;241;43m=\u001b[39;49m\u001b[43mx\u001b[49m\u001b[43m,\u001b[49m\n\u001b[1;32m    780\u001b[0m \u001b[43m    \u001b[49m\u001b[43my\u001b[49m\u001b[38;5;241;43m=\u001b[39;49m\u001b[43my\u001b[49m\u001b[43m,\u001b[49m\n\u001b[1;32m    781\u001b[0m \u001b[43m    \u001b[49m\u001b[43mbatch_size\u001b[49m\u001b[38;5;241;43m=\u001b[39;49m\u001b[43mbatch_size\u001b[49m\u001b[43m,\u001b[49m\n\u001b[1;32m    782\u001b[0m \u001b[43m    \u001b[49m\u001b[43mepochs\u001b[49m\u001b[38;5;241;43m=\u001b[39;49m\u001b[43mepochs\u001b[49m\u001b[43m,\u001b[49m\n\u001b[1;32m    783\u001b[0m \u001b[43m    \u001b[49m\u001b[43mverbose\u001b[49m\u001b[38;5;241;43m=\u001b[39;49m\u001b[43mverbose\u001b[49m\u001b[43m,\u001b[49m\n\u001b[1;32m    784\u001b[0m \u001b[43m    \u001b[49m\u001b[43mcallbacks\u001b[49m\u001b[38;5;241;43m=\u001b[39;49m\u001b[43mcallbacks\u001b[49m\u001b[43m,\u001b[49m\n\u001b[1;32m    785\u001b[0m \u001b[43m    \u001b[49m\u001b[43mvalidation_split\u001b[49m\u001b[38;5;241;43m=\u001b[39;49m\u001b[43mvalidation_split\u001b[49m\u001b[43m,\u001b[49m\n\u001b[1;32m    786\u001b[0m \u001b[43m    \u001b[49m\u001b[43mvalidation_data\u001b[49m\u001b[38;5;241;43m=\u001b[39;49m\u001b[43mvalidation_data\u001b[49m\u001b[43m,\u001b[49m\n\u001b[1;32m    787\u001b[0m \u001b[43m    \u001b[49m\u001b[43mshuffle\u001b[49m\u001b[38;5;241;43m=\u001b[39;49m\u001b[43mshuffle\u001b[49m\u001b[43m,\u001b[49m\n\u001b[1;32m    788\u001b[0m \u001b[43m    \u001b[49m\u001b[43mclass_weight\u001b[49m\u001b[38;5;241;43m=\u001b[39;49m\u001b[43mclass_weight\u001b[49m\u001b[43m,\u001b[49m\n\u001b[1;32m    789\u001b[0m \u001b[43m    \u001b[49m\u001b[43msample_weight\u001b[49m\u001b[38;5;241;43m=\u001b[39;49m\u001b[43msample_weight\u001b[49m\u001b[43m,\u001b[49m\n\u001b[1;32m    790\u001b[0m \u001b[43m    \u001b[49m\u001b[43minitial_epoch\u001b[49m\u001b[38;5;241;43m=\u001b[39;49m\u001b[43minitial_epoch\u001b[49m\u001b[43m,\u001b[49m\n\u001b[1;32m    791\u001b[0m \u001b[43m    \u001b[49m\u001b[43msteps_per_epoch\u001b[49m\u001b[38;5;241;43m=\u001b[39;49m\u001b[43msteps_per_epoch\u001b[49m\u001b[43m,\u001b[49m\n\u001b[1;32m    792\u001b[0m \u001b[43m    \u001b[49m\u001b[43mvalidation_steps\u001b[49m\u001b[38;5;241;43m=\u001b[39;49m\u001b[43mvalidation_steps\u001b[49m\u001b[43m,\u001b[49m\n\u001b[1;32m    793\u001b[0m \u001b[43m    \u001b[49m\u001b[43mvalidation_freq\u001b[49m\u001b[38;5;241;43m=\u001b[39;49m\u001b[43mvalidation_freq\u001b[49m\u001b[43m,\u001b[49m\n\u001b[1;32m    794\u001b[0m \u001b[43m    \u001b[49m\u001b[43mmax_queue_size\u001b[49m\u001b[38;5;241;43m=\u001b[39;49m\u001b[43mmax_queue_size\u001b[49m\u001b[43m,\u001b[49m\n\u001b[1;32m    795\u001b[0m \u001b[43m    \u001b[49m\u001b[43mworkers\u001b[49m\u001b[38;5;241;43m=\u001b[39;49m\u001b[43mworkers\u001b[49m\u001b[43m,\u001b[49m\n\u001b[1;32m    796\u001b[0m \u001b[43m    \u001b[49m\u001b[43muse_multiprocessing\u001b[49m\u001b[38;5;241;43m=\u001b[39;49m\u001b[43muse_multiprocessing\u001b[49m\u001b[43m)\u001b[49m\n",
      "File \u001b[0;32m~/miniforge3/envs/shm_tf/lib/python3.9/site-packages/keras/engine/training_arrays_v1.py:641\u001b[0m, in \u001b[0;36mArrayLikeTrainingLoop.fit\u001b[0;34m(self, model, x, y, batch_size, epochs, verbose, callbacks, validation_split, validation_data, shuffle, class_weight, sample_weight, initial_epoch, steps_per_epoch, validation_steps, validation_freq, **kwargs)\u001b[0m\n\u001b[1;32m    637\u001b[0m     \u001b[38;5;28;01mraise\u001b[39;00m \u001b[38;5;167;01mValueError\u001b[39;00m(\u001b[38;5;124m'\u001b[39m\u001b[38;5;124m`validation_steps` should not be specified if \u001b[39m\u001b[38;5;124m'\u001b[39m\n\u001b[1;32m    638\u001b[0m                      \u001b[38;5;124m'\u001b[39m\u001b[38;5;124m`validation_data` is None.\u001b[39m\u001b[38;5;124m'\u001b[39m)\n\u001b[1;32m    639\u001b[0m   val_x, val_y, val_sample_weights \u001b[38;5;241m=\u001b[39m \u001b[38;5;28;01mNone\u001b[39;00m, \u001b[38;5;28;01mNone\u001b[39;00m, \u001b[38;5;28;01mNone\u001b[39;00m\n\u001b[0;32m--> 641\u001b[0m \u001b[38;5;28;01mreturn\u001b[39;00m \u001b[43mfit_loop\u001b[49m\u001b[43m(\u001b[49m\n\u001b[1;32m    642\u001b[0m \u001b[43m    \u001b[49m\u001b[43mmodel\u001b[49m\u001b[43m,\u001b[49m\n\u001b[1;32m    643\u001b[0m \u001b[43m    \u001b[49m\u001b[43minputs\u001b[49m\u001b[38;5;241;43m=\u001b[39;49m\u001b[43mx\u001b[49m\u001b[43m,\u001b[49m\n\u001b[1;32m    644\u001b[0m \u001b[43m    \u001b[49m\u001b[43mtargets\u001b[49m\u001b[38;5;241;43m=\u001b[39;49m\u001b[43my\u001b[49m\u001b[43m,\u001b[49m\n\u001b[1;32m    645\u001b[0m \u001b[43m    \u001b[49m\u001b[43msample_weights\u001b[49m\u001b[38;5;241;43m=\u001b[39;49m\u001b[43msample_weights\u001b[49m\u001b[43m,\u001b[49m\n\u001b[1;32m    646\u001b[0m \u001b[43m    \u001b[49m\u001b[43mbatch_size\u001b[49m\u001b[38;5;241;43m=\u001b[39;49m\u001b[43mbatch_size\u001b[49m\u001b[43m,\u001b[49m\n\u001b[1;32m    647\u001b[0m \u001b[43m    \u001b[49m\u001b[43mepochs\u001b[49m\u001b[38;5;241;43m=\u001b[39;49m\u001b[43mepochs\u001b[49m\u001b[43m,\u001b[49m\n\u001b[1;32m    648\u001b[0m \u001b[43m    \u001b[49m\u001b[43mverbose\u001b[49m\u001b[38;5;241;43m=\u001b[39;49m\u001b[43mverbose\u001b[49m\u001b[43m,\u001b[49m\n\u001b[1;32m    649\u001b[0m \u001b[43m    \u001b[49m\u001b[43mcallbacks\u001b[49m\u001b[38;5;241;43m=\u001b[39;49m\u001b[43mcallbacks\u001b[49m\u001b[43m,\u001b[49m\n\u001b[1;32m    650\u001b[0m \u001b[43m    \u001b[49m\u001b[43mval_inputs\u001b[49m\u001b[38;5;241;43m=\u001b[39;49m\u001b[43mval_x\u001b[49m\u001b[43m,\u001b[49m\n\u001b[1;32m    651\u001b[0m \u001b[43m    \u001b[49m\u001b[43mval_targets\u001b[49m\u001b[38;5;241;43m=\u001b[39;49m\u001b[43mval_y\u001b[49m\u001b[43m,\u001b[49m\n\u001b[1;32m    652\u001b[0m \u001b[43m    \u001b[49m\u001b[43mval_sample_weights\u001b[49m\u001b[38;5;241;43m=\u001b[39;49m\u001b[43mval_sample_weights\u001b[49m\u001b[43m,\u001b[49m\n\u001b[1;32m    653\u001b[0m \u001b[43m    \u001b[49m\u001b[43mshuffle\u001b[49m\u001b[38;5;241;43m=\u001b[39;49m\u001b[43mshuffle\u001b[49m\u001b[43m,\u001b[49m\n\u001b[1;32m    654\u001b[0m \u001b[43m    \u001b[49m\u001b[43minitial_epoch\u001b[49m\u001b[38;5;241;43m=\u001b[39;49m\u001b[43minitial_epoch\u001b[49m\u001b[43m,\u001b[49m\n\u001b[1;32m    655\u001b[0m \u001b[43m    \u001b[49m\u001b[43msteps_per_epoch\u001b[49m\u001b[38;5;241;43m=\u001b[39;49m\u001b[43msteps_per_epoch\u001b[49m\u001b[43m,\u001b[49m\n\u001b[1;32m    656\u001b[0m \u001b[43m    \u001b[49m\u001b[43mvalidation_steps\u001b[49m\u001b[38;5;241;43m=\u001b[39;49m\u001b[43mvalidation_steps\u001b[49m\u001b[43m,\u001b[49m\n\u001b[1;32m    657\u001b[0m \u001b[43m    \u001b[49m\u001b[43mvalidation_freq\u001b[49m\u001b[38;5;241;43m=\u001b[39;49m\u001b[43mvalidation_freq\u001b[49m\u001b[43m,\u001b[49m\n\u001b[1;32m    658\u001b[0m \u001b[43m    \u001b[49m\u001b[43msteps_name\u001b[49m\u001b[38;5;241;43m=\u001b[39;49m\u001b[38;5;124;43m'\u001b[39;49m\u001b[38;5;124;43msteps_per_epoch\u001b[39;49m\u001b[38;5;124;43m'\u001b[39;49m\u001b[43m)\u001b[49m\n",
      "File \u001b[0;32m~/miniforge3/envs/shm_tf/lib/python3.9/site-packages/keras/engine/training_arrays_v1.py:377\u001b[0m, in \u001b[0;36mmodel_iteration\u001b[0;34m(model, inputs, targets, sample_weights, batch_size, epochs, verbose, callbacks, val_inputs, val_targets, val_sample_weights, shuffle, initial_epoch, steps_per_epoch, validation_steps, validation_freq, mode, validation_in_fit, prepared_feed_values_from_dataset, steps_name, **kwargs)\u001b[0m\n\u001b[1;32m    374\u001b[0m callbacks\u001b[38;5;241m.\u001b[39m_call_batch_hook(mode, \u001b[38;5;124m'\u001b[39m\u001b[38;5;124mbegin\u001b[39m\u001b[38;5;124m'\u001b[39m, batch_index, batch_logs)\n\u001b[1;32m    376\u001b[0m \u001b[38;5;66;03m# Get outputs.\u001b[39;00m\n\u001b[0;32m--> 377\u001b[0m batch_outs \u001b[38;5;241m=\u001b[39m \u001b[43mf\u001b[49m\u001b[43m(\u001b[49m\u001b[43mins_batch\u001b[49m\u001b[43m)\u001b[49m\n\u001b[1;32m    378\u001b[0m \u001b[38;5;28;01mif\u001b[39;00m \u001b[38;5;129;01mnot\u001b[39;00m \u001b[38;5;28misinstance\u001b[39m(batch_outs, \u001b[38;5;28mlist\u001b[39m):\n\u001b[1;32m    379\u001b[0m   batch_outs \u001b[38;5;241m=\u001b[39m [batch_outs]\n",
      "File \u001b[0;32m~/miniforge3/envs/shm_tf/lib/python3.9/site-packages/keras/backend.py:4275\u001b[0m, in \u001b[0;36mGraphExecutionFunction.__call__\u001b[0;34m(self, inputs)\u001b[0m\n\u001b[1;32m   4269\u001b[0m \u001b[38;5;28;01mif\u001b[39;00m (\u001b[38;5;28mself\u001b[39m\u001b[38;5;241m.\u001b[39m_callable_fn \u001b[38;5;129;01mis\u001b[39;00m \u001b[38;5;28;01mNone\u001b[39;00m \u001b[38;5;129;01mor\u001b[39;00m feed_arrays \u001b[38;5;241m!=\u001b[39m \u001b[38;5;28mself\u001b[39m\u001b[38;5;241m.\u001b[39m_feed_arrays \u001b[38;5;129;01mor\u001b[39;00m\n\u001b[1;32m   4270\u001b[0m     symbol_vals \u001b[38;5;241m!=\u001b[39m \u001b[38;5;28mself\u001b[39m\u001b[38;5;241m.\u001b[39m_symbol_vals \u001b[38;5;129;01mor\u001b[39;00m\n\u001b[1;32m   4271\u001b[0m     feed_symbols \u001b[38;5;241m!=\u001b[39m \u001b[38;5;28mself\u001b[39m\u001b[38;5;241m.\u001b[39m_feed_symbols \u001b[38;5;129;01mor\u001b[39;00m \u001b[38;5;28mself\u001b[39m\u001b[38;5;241m.\u001b[39mfetches \u001b[38;5;241m!=\u001b[39m \u001b[38;5;28mself\u001b[39m\u001b[38;5;241m.\u001b[39m_fetches \u001b[38;5;129;01mor\u001b[39;00m\n\u001b[1;32m   4272\u001b[0m     session \u001b[38;5;241m!=\u001b[39m \u001b[38;5;28mself\u001b[39m\u001b[38;5;241m.\u001b[39m_session):\n\u001b[1;32m   4273\u001b[0m   \u001b[38;5;28mself\u001b[39m\u001b[38;5;241m.\u001b[39m_make_callable(feed_arrays, feed_symbols, symbol_vals, session)\n\u001b[0;32m-> 4275\u001b[0m fetched \u001b[38;5;241m=\u001b[39m \u001b[38;5;28;43mself\u001b[39;49m\u001b[38;5;241;43m.\u001b[39;49m\u001b[43m_callable_fn\u001b[49m\u001b[43m(\u001b[49m\u001b[38;5;241;43m*\u001b[39;49m\u001b[43marray_vals\u001b[49m\u001b[43m,\u001b[49m\n\u001b[1;32m   4276\u001b[0m \u001b[43m                            \u001b[49m\u001b[43mrun_metadata\u001b[49m\u001b[38;5;241;43m=\u001b[39;49m\u001b[38;5;28;43mself\u001b[39;49m\u001b[38;5;241;43m.\u001b[39;49m\u001b[43mrun_metadata\u001b[49m\u001b[43m)\u001b[49m\n\u001b[1;32m   4277\u001b[0m \u001b[38;5;28mself\u001b[39m\u001b[38;5;241m.\u001b[39m_call_fetch_callbacks(fetched[\u001b[38;5;241m-\u001b[39m\u001b[38;5;28mlen\u001b[39m(\u001b[38;5;28mself\u001b[39m\u001b[38;5;241m.\u001b[39m_fetches):])\n\u001b[1;32m   4278\u001b[0m output_structure \u001b[38;5;241m=\u001b[39m tf\u001b[38;5;241m.\u001b[39mnest\u001b[38;5;241m.\u001b[39mpack_sequence_as(\n\u001b[1;32m   4279\u001b[0m     \u001b[38;5;28mself\u001b[39m\u001b[38;5;241m.\u001b[39m_outputs_structure,\n\u001b[1;32m   4280\u001b[0m     fetched[:\u001b[38;5;28mlen\u001b[39m(\u001b[38;5;28mself\u001b[39m\u001b[38;5;241m.\u001b[39moutputs)],\n\u001b[1;32m   4281\u001b[0m     expand_composites\u001b[38;5;241m=\u001b[39m\u001b[38;5;28;01mTrue\u001b[39;00m)\n",
      "File \u001b[0;32m~/miniforge3/envs/shm_tf/lib/python3.9/site-packages/tensorflow/python/client/session.py:1480\u001b[0m, in \u001b[0;36mBaseSession._Callable.__call__\u001b[0;34m(self, *args, **kwargs)\u001b[0m\n\u001b[1;32m   1478\u001b[0m \u001b[38;5;28;01mtry\u001b[39;00m:\n\u001b[1;32m   1479\u001b[0m   run_metadata_ptr \u001b[38;5;241m=\u001b[39m tf_session\u001b[38;5;241m.\u001b[39mTF_NewBuffer() \u001b[38;5;28;01mif\u001b[39;00m run_metadata \u001b[38;5;28;01melse\u001b[39;00m \u001b[38;5;28;01mNone\u001b[39;00m\n\u001b[0;32m-> 1480\u001b[0m   ret \u001b[38;5;241m=\u001b[39m \u001b[43mtf_session\u001b[49m\u001b[38;5;241;43m.\u001b[39;49m\u001b[43mTF_SessionRunCallable\u001b[49m\u001b[43m(\u001b[49m\u001b[38;5;28;43mself\u001b[39;49m\u001b[38;5;241;43m.\u001b[39;49m\u001b[43m_session\u001b[49m\u001b[38;5;241;43m.\u001b[39;49m\u001b[43m_session\u001b[49m\u001b[43m,\u001b[49m\n\u001b[1;32m   1481\u001b[0m \u001b[43m                                         \u001b[49m\u001b[38;5;28;43mself\u001b[39;49m\u001b[38;5;241;43m.\u001b[39;49m\u001b[43m_handle\u001b[49m\u001b[43m,\u001b[49m\u001b[43m \u001b[49m\u001b[43margs\u001b[49m\u001b[43m,\u001b[49m\n\u001b[1;32m   1482\u001b[0m \u001b[43m                                         \u001b[49m\u001b[43mrun_metadata_ptr\u001b[49m\u001b[43m)\u001b[49m\n\u001b[1;32m   1483\u001b[0m   \u001b[38;5;28;01mif\u001b[39;00m run_metadata:\n\u001b[1;32m   1484\u001b[0m     proto_data \u001b[38;5;241m=\u001b[39m tf_session\u001b[38;5;241m.\u001b[39mTF_GetBuffer(run_metadata_ptr)\n",
      "\u001b[0;31mKeyboardInterrupt\u001b[0m: "
     ]
    }
   ],
   "source": [
    "# Compile model\n",
    "model.compile(optimizer=optimizer, loss=loss, metrics=['accuracy'])\n",
    "# Train model\n",
    "model.fit(x_train, y_train,\n",
    "          epochs=epochs,\n",
    "          validation_data=(x_test, y_test),\n",
    "          batch_size=batch_size)"
   ]
  },
  {
   "cell_type": "code",
   "execution_count": null,
   "id": "0ab571c1",
   "metadata": {},
   "outputs": [],
   "source": []
  },
  {
   "cell_type": "markdown",
   "id": "5b3a14d1",
   "metadata": {},
   "source": [
    "### Model4: Custom ResNet"
   ]
  },
  {
   "cell_type": "code",
   "execution_count": 12,
   "id": "9c559138",
   "metadata": {},
   "outputs": [
    {
     "data": {
      "text/plain": [
       "4.830398168750132"
      ]
     },
     "execution_count": 12,
     "metadata": {},
     "output_type": "execute_result"
    }
   ],
   "source": [
    "# Hyper-parameters\n",
    "# epochs = 132\n",
    "# batch_size = 500\n",
    "# l2_norm_clip = 1.2\n",
    "# noise_multiplier = 1.3\n",
    "# num_microbatches = 100\n",
    "# learning_rate = 2.5e-1\n",
    "# delta = 1e-5\n",
    "epochs = 55\n",
    "batch_size = 500\n",
    "l2_norm_clip = 2\n",
    "noise_multiplier = 1\n",
    "num_microbatches = 50\n",
    "learning_rate = 1.3\n",
    "delta = 1e-5\n",
    "\n",
    "if batch_size % num_microbatches != 0:\n",
    "    raise ValueError('Batch size should be an integer multiple of the number of microbatches')\n",
    "    \n",
    "# Compute RDP\n",
    "orders = [1 + x / 10. for x in range(1, 100)] + list(range(12, 64))\n",
    "rdp = compute_rdp(q = batch_size / 50000,\n",
    "                  noise_multiplier = noise_multiplier,\n",
    "                  steps = epochs * 50000 // batch_size,\n",
    "                  orders = orders)\n",
    "# Calculate epsilon\n",
    "epsilon = get_privacy_spent(orders, rdp, target_delta = delta)[0]\n",
    "epsilon"
   ]
  },
  {
   "cell_type": "code",
   "execution_count": 13,
   "id": "c4f947d9",
   "metadata": {},
   "outputs": [
    {
     "name": "stdout",
     "output_type": "stream",
     "text": [
      "Model: \"model_2\"\n",
      "__________________________________________________________________________________________________\n",
      " Layer (type)                   Output Shape         Param #     Connected to                     \n",
      "==================================================================================================\n",
      " input_3 (InputLayer)           [(None, 32, 32, 3)]  0           []                               \n",
      "                                                                                                  \n",
      " conv2d_10 (Conv2D)             (None, 15, 15, 64)   1792        ['input_3[0][0]']                \n",
      "                                                                                                  \n",
      " max_pooling2d_2 (MaxPooling2D)  (None, 5, 5, 64)    0           ['conv2d_10[0][0]']              \n",
      "                                                                                                  \n",
      " conv2d_11 (Conv2D)             (None, 3, 3, 64)     36928       ['max_pooling2d_2[0][0]']        \n",
      "                                                                                                  \n",
      " group_normalization_4 (GroupNo  (None, 3, 3, 64)    128         ['conv2d_11[0][0]']              \n",
      " rmalization)                                                                                     \n",
      "                                                                                                  \n",
      " conv2d_12 (Conv2D)             (None, 1, 1, 64)     36928       ['group_normalization_4[0][0]']  \n",
      "                                                                                                  \n",
      " add_4 (Add)                    (None, 5, 5, 64)     0           ['max_pooling2d_2[0][0]',        \n",
      "                                                                  'conv2d_12[0][0]']              \n",
      "                                                                                                  \n",
      " conv2d_13 (Conv2D)             (None, 3, 3, 64)     36928       ['add_4[0][0]']                  \n",
      "                                                                                                  \n",
      " group_normalization_5 (GroupNo  (None, 3, 3, 64)    128         ['conv2d_13[0][0]']              \n",
      " rmalization)                                                                                     \n",
      "                                                                                                  \n",
      " conv2d_14 (Conv2D)             (None, 1, 1, 64)     36928       ['group_normalization_5[0][0]']  \n",
      "                                                                                                  \n",
      " add_5 (Add)                    (None, 5, 5, 64)     0           ['add_4[0][0]',                  \n",
      "                                                                  'conv2d_14[0][0]']              \n",
      "                                                                                                  \n",
      " flatten_2 (Flatten)            (None, 1600)         0           ['add_5[0][0]']                  \n",
      "                                                                                                  \n",
      " dense_6 (Dense)                (None, 64)           102464      ['flatten_2[0][0]']              \n",
      "                                                                                                  \n",
      " dense_7 (Dense)                (None, 32)           2080        ['dense_6[0][0]']                \n",
      "                                                                                                  \n",
      " dense_8 (Dense)                (None, 10)           330         ['dense_7[0][0]']                \n",
      "                                                                                                  \n",
      "==================================================================================================\n",
      "Total params: 254,634\n",
      "Trainable params: 254,634\n",
      "Non-trainable params: 0\n",
      "__________________________________________________________________________________________________\n"
     ]
    }
   ],
   "source": [
    "### Custom ResNet model\n",
    "model_input = Input(shape = (32, 32, 3))\n",
    "x1 = Conv2D(64, (3, 3), activation = 'relu', strides = 2)(model_input)\n",
    "x2 = MaxPooling2D(pool_size = (3,3))(x1)\n",
    "## Residual Block 1\n",
    "x3 = Conv2D(64, (3, 3), activation = 'relu', strides = 1)(x2)\n",
    "x3 = GroupNormalization(groups = 64, axis=3)(x3) # normalization layer 1\n",
    "x4 = Conv2D(64, (3, 3), activation = 'relu', strides = 1)(x3)\n",
    "sk1 = Add()([x2, x4]) # skip connection 1\n",
    "## Residual Block 2\n",
    "x5 = Conv2D(64, (3, 3), activation = 'relu', strides = 1)(sk1)\n",
    "x5 = GroupNormalization(groups = 64, axis=3)(x5) # normalization layer 2\n",
    "x6 = Conv2D(64, (3, 3), activation = 'relu', strides = 1)(x5)\n",
    "sk2 = Add()([sk1, x6]) # skip connection 2\n",
    "# ## Residual Block 3\n",
    "# x7 = Conv2D(64, (3, 3), activation = 'relu', strides = 1)(sk2)\n",
    "# x7 = GroupNormalization(groups = 64, axis=3)(x7) # normalization layer 3\n",
    "# x8 = Conv2D(64, (3, 3), activation = 'tanh', strides = 1)(x7)\n",
    "# sk3 = Add()([sk2, x8]) # skip connection 3\n",
    "# ## Residual Block 4\n",
    "# x9 = Conv2D(64, (3, 3), activation = 'relu', strides = 1)(sk3)\n",
    "# x9 = GroupNormalization(groups = 64, axis=3)(x9) # normalization layer 4\n",
    "# x10 = Conv2D(64, (3, 3), activation = 'tanh', strides = 1)(x9)\n",
    "# sk4 = Add()([sk3, x10]) # skip connection 4\n",
    "# ## Residual Block 5\n",
    "# x11 = Conv2D(64, (3, 3), activation = 'relu', strides = 1)(sk4)\n",
    "# x11 = GroupNormalization(groups = 64, axis=3)(x11) # normalization layer 5\n",
    "# x12 = Conv2D(64, (3, 3), activation = 'tanh', strides = 1)(x11)\n",
    "# sk5 = Add()([sk4, x12]) # skip connection 5\n",
    "# Global Average Pooling layer\n",
    "# avg = GlobalAveragePooling2D()(sk2)\n",
    "ftn = Flatten()(sk2)\n",
    "# Feed-forward network\n",
    "d1 = Dense(64, activation = 'relu')(ftn)\n",
    "d2 = Dense(32, activation = 'relu')(d1)\n",
    "model_output = Dense(10, activation = 'softmax')(d2)\n",
    "model = Model(inputs = model_input, outputs = model_output)\n",
    "model.summary()"
   ]
  },
  {
   "cell_type": "code",
   "execution_count": 15,
   "id": "c70915f3",
   "metadata": {},
   "outputs": [],
   "source": [
    "# define optimizer (dp-sgd) \n",
    "optimizer = tensorflow_privacy.DPKerasSGDOptimizer(\n",
    "    l2_norm_clip=l2_norm_clip,\n",
    "    noise_multiplier=noise_multiplier,\n",
    "    num_microbatches=num_microbatches,\n",
    "    learning_rate=learning_rate)\n",
    "\n",
    "# # define optimizer (dp-adam)\n",
    "# optimizer = tensorflow_privacy.DPKerasAdamOptimizer(\n",
    "#     l2_norm_clip=l2_norm_clip,\n",
    "#     noise_multiplier=noise_multiplier,\n",
    "#     num_microbatches=num_microbatches,\n",
    "#     learning_rate=learning_rate,\n",
    "#     gradient_accumulation_steps=5)\n",
    "\n",
    "# define loss function\n",
    "loss = tf.keras.losses.CategoricalCrossentropy(\n",
    "    from_logits=True, reduction=tf.losses.Reduction.NONE)"
   ]
  },
  {
   "cell_type": "code",
   "execution_count": null,
   "id": "7a94e55f",
   "metadata": {
    "scrolled": false
   },
   "outputs": [
    {
     "name": "stdout",
     "output_type": "stream",
     "text": [
      "Train on 50000 samples, validate on 10000 samples\n"
     ]
    },
    {
     "name": "stderr",
     "output_type": "stream",
     "text": [
      "2022-03-23 13:18:10.477792: I tensorflow/core/grappler/optimizers/custom_graph_optimizer_registry.cc:113] Plugin optimizer for device_type GPU is enabled.\n",
      "2022-03-23 13:18:11.304313: I tensorflow/core/grappler/optimizers/custom_graph_optimizer_registry.cc:113] Plugin optimizer for device_type GPU is enabled.\n"
     ]
    },
    {
     "name": "stdout",
     "output_type": "stream",
     "text": [
      "Epoch 1/55\n"
     ]
    },
    {
     "name": "stderr",
     "output_type": "stream",
     "text": [
      "2022-03-23 13:18:11.596346: I tensorflow/core/grappler/optimizers/custom_graph_optimizer_registry.cc:113] Plugin optimizer for device_type GPU is enabled.\n",
      "2022-03-23 13:18:11.739659: I tensorflow/core/grappler/optimizers/custom_graph_optimizer_registry.cc:113] Plugin optimizer for device_type GPU is enabled.\n"
     ]
    },
    {
     "name": "stdout",
     "output_type": "stream",
     "text": [
      "50000/50000 [==============================] - ETA: 0s - loss: 4.1855 - acc: 0.1007"
     ]
    },
    {
     "name": "stderr",
     "output_type": "stream",
     "text": [
      "2022-03-23 13:26:40.755324: I tensorflow/core/grappler/optimizers/custom_graph_optimizer_registry.cc:113] Plugin optimizer for device_type GPU is enabled.\n"
     ]
    },
    {
     "name": "stdout",
     "output_type": "stream",
     "text": [
      "50000/50000 [==============================] - 510s 10ms/sample - loss: 4.1855 - acc: 0.1007 - val_loss: 3.8759 - val_acc: 0.1002\n",
      "Epoch 2/55\n",
      "20500/50000 [===========>..................] - ETA: 4:24 - loss: 4.4127 - acc: 0.0964"
     ]
    }
   ],
   "source": [
    "# Compile model\n",
    "model.compile(optimizer=optimizer, loss=loss, metrics=['accuracy'])\n",
    "# Train model\n",
    "model.fit(x_train, y_train,\n",
    "          epochs=epochs,\n",
    "          validation_data=(x_test, y_test),\n",
    "          batch_size=batch_size)"
   ]
  },
  {
   "cell_type": "code",
   "execution_count": null,
   "id": "4331d347",
   "metadata": {},
   "outputs": [],
   "source": []
  },
  {
   "cell_type": "markdown",
   "id": "dd78ba01",
   "metadata": {},
   "source": [
    "### Model3: Custom CNN"
   ]
  },
  {
   "cell_type": "code",
   "execution_count": 3,
   "id": "f74fb4bb",
   "metadata": {},
   "outputs": [
    {
     "data": {
      "text/plain": [
       "4.959247448597203"
      ]
     },
     "execution_count": 3,
     "metadata": {},
     "output_type": "execute_result"
    }
   ],
   "source": [
    "# Hyper-parameters\n",
    "epochs = 63\n",
    "batch_size = 1000\n",
    "l2_norm_clip = 1\n",
    "noise_multiplier = 1.3\n",
    "num_microbatches = 125\n",
    "learning_rate = 0.25\n",
    "delta = 1e-5\n",
    "\n",
    "if batch_size % num_microbatches != 0:\n",
    "    raise ValueError('Batch size should be an integer multiple of the number of microbatches')\n",
    "    \n",
    "# Compute RDP\n",
    "orders = [1 + x / 10. for x in range(1, 100)] + list(range(12, 64))\n",
    "rdp = compute_rdp(q = batch_size / 50000,\n",
    "                  noise_multiplier = noise_multiplier,\n",
    "                  steps = epochs * 50000 // batch_size,\n",
    "                  orders=orders)\n",
    "# Calculate epsilon\n",
    "epsilon = get_privacy_spent(orders, rdp, target_delta=delta)[0]\n",
    "epsilon"
   ]
  },
  {
   "cell_type": "code",
   "execution_count": 4,
   "id": "91bf5fe7",
   "metadata": {},
   "outputs": [
    {
     "name": "stdout",
     "output_type": "stream",
     "text": [
      "Model: \"sequential\"\n",
      "_________________________________________________________________\n",
      " Layer (type)                Output Shape              Param #   \n",
      "=================================================================\n",
      " conv2d (Conv2D)             (None, 32, 32, 64)        4864      \n",
      "                                                                 \n",
      " max_pooling2d (MaxPooling2D  (None, 16, 16, 64)       0         \n",
      " )                                                               \n",
      "                                                                 \n",
      " conv2d_1 (Conv2D)           (None, 12, 12, 32)        51232     \n",
      "                                                                 \n",
      " group_normalization (GroupN  (None, 12, 12, 32)       64        \n",
      " ormalization)                                                   \n",
      "                                                                 \n",
      " max_pooling2d_1 (MaxPooling  (None, 6, 6, 32)         0         \n",
      " 2D)                                                             \n",
      "                                                                 \n",
      " conv2d_2 (Conv2D)           (None, 2, 2, 32)          9248      \n",
      "                                                                 \n",
      " group_normalization_1 (Grou  (None, 2, 2, 32)         64        \n",
      " pNormalization)                                                 \n",
      "                                                                 \n",
      " max_pooling2d_2 (MaxPooling  (None, 1, 1, 32)         0         \n",
      " 2D)                                                             \n",
      "                                                                 \n",
      " flatten (Flatten)           (None, 32)                0         \n",
      "                                                                 \n",
      " dense (Dense)               (None, 256)               8448      \n",
      "                                                                 \n",
      " dense_1 (Dense)             (None, 64)                16448     \n",
      "                                                                 \n",
      " dense_2 (Dense)             (None, 32)                2080      \n",
      "                                                                 \n",
      " dense_3 (Dense)             (None, 10)                330       \n",
      "                                                                 \n",
      "=================================================================\n",
      "Total params: 92,778\n",
      "Trainable params: 92,778\n",
      "Non-trainable params: 0\n",
      "_________________________________________________________________\n"
     ]
    }
   ],
   "source": [
    "# Define model\n",
    "model = tf.keras.Sequential([\n",
    "    \n",
    "    tf.keras.layers.Conv2D(64, 5, strides=1, padding='same', activation='tanh', input_shape=(32, 32, 3)),\n",
    "#     tf.keras.layers.ReLU(max_value = 50, negative_slope = 1.2),\n",
    "#     tfa.layers.GroupNormalization(groups=32, axis=3),\n",
    "    tf.keras.layers.MaxPool2D(2, 2),\n",
    "    \n",
    "    tf.keras.layers.Conv2D(32, 5, strides=1, padding='valid', activation='relu'),\n",
    "    tfa.layers.GroupNormalization(groups=32, axis=3),\n",
    "#     tf.keras.layers.ReLU(max_value = 50, negative_slope = 1.2),\n",
    "    tf.keras.layers.MaxPool2D(2, 2),\n",
    "    \n",
    "    tf.keras.layers.Conv2D(32, 3, strides=2, padding='valid', activation='relu'),\n",
    "    tfa.layers.GroupNormalization(groups=32, axis=3),\n",
    "#     tf.keras.layers.ReLU(max_value = 50, negative_slope = 1.2),\n",
    "    tf.keras.layers.MaxPool2D(2, 2),\n",
    "    \n",
    "    tf.keras.layers.Flatten(),\n",
    "    tf.keras.layers.Dense(256, activation='tanh'),\n",
    "#     tfa.layers.GroupNormalization(groups=64, axis=3),\n",
    "#     tf.keras.layers.ReLU(max_value = 50, negative_slope = 1.2),\n",
    "    tf.keras.layers.Dense(64, activation='tanh'),\n",
    "    tf.keras.layers.Dense(32, activation='tanh'),\n",
    "    tf.keras.layers.Dense(10, activation='softmax')\n",
    "])\n",
    "model.summary()"
   ]
  },
  {
   "cell_type": "code",
   "execution_count": 5,
   "id": "67f948f3",
   "metadata": {},
   "outputs": [],
   "source": [
    "# define optimizer (dp-sgd) \n",
    "optimizer = tensorflow_privacy.DPKerasSGDOptimizer(\n",
    "    l2_norm_clip=l2_norm_clip,\n",
    "    noise_multiplier=noise_multiplier,\n",
    "    num_microbatches=num_microbatches,\n",
    "    learning_rate=learning_rate)\n",
    "\n",
    "# # define optimizer (dp-adam)\n",
    "# optimizer = tensorflow_privacy.DPKerasAdamOptimizer(\n",
    "#     l2_norm_clip, noise_multiplier, num_microbatches)\n",
    "\n",
    "# define loss function\n",
    "loss = tf.keras.losses.CategoricalCrossentropy(\n",
    "    from_logits=True, reduction=tf.losses.Reduction.NONE)"
   ]
  },
  {
   "cell_type": "code",
   "execution_count": 6,
   "id": "d1f9b4c3",
   "metadata": {
    "scrolled": false
   },
   "outputs": [
    {
     "name": "stderr",
     "output_type": "stream",
     "text": [
      "/Users/Mahos/miniforge3/envs/shm_tf/lib/python3.9/site-packages/tensorflow/python/util/dispatch.py:1082: UserWarning: \"`categorical_crossentropy` received `from_logits=True`, but the `output` argument was produced by a sigmoid or softmax activation and thus does not represent logits. Was this intended?\"\n",
      "  return dispatch_target(*args, **kwargs)\n"
     ]
    },
    {
     "name": "stdout",
     "output_type": "stream",
     "text": [
      "Train on 50000 samples, validate on 10000 samples\n",
      "Metal device set to: Apple M1 Pro\n"
     ]
    },
    {
     "name": "stderr",
     "output_type": "stream",
     "text": [
      "2022-03-21 09:01:09.300782: I tensorflow/core/common_runtime/pluggable_device/pluggable_device_factory.cc:305] Could not identify NUMA node of platform GPU ID 0, defaulting to 0. Your kernel may not have been built with NUMA support.\n",
      "2022-03-21 09:01:09.300907: I tensorflow/core/common_runtime/pluggable_device/pluggable_device_factory.cc:271] Created TensorFlow device (/job:localhost/replica:0/task:0/device:GPU:0 with 0 MB memory) -> physical PluggableDevice (device: 0, name: METAL, pci bus id: <undefined>)\n",
      "2022-03-21 09:01:09.825404: W tensorflow/core/platform/profile_utils/cpu_utils.cc:128] Failed to get CPU frequency: 0 Hz\n",
      "2022-03-21 09:01:09.837009: I tensorflow/core/grappler/optimizers/custom_graph_optimizer_registry.cc:113] Plugin optimizer for device_type GPU is enabled.\n",
      "2022-03-21 09:01:10.420292: I tensorflow/core/grappler/optimizers/custom_graph_optimizer_registry.cc:113] Plugin optimizer for device_type GPU is enabled.\n",
      "2022-03-21 09:01:10.590297: I tensorflow/core/grappler/optimizers/custom_graph_optimizer_registry.cc:113] Plugin optimizer for device_type GPU is enabled.\n"
     ]
    },
    {
     "name": "stdout",
     "output_type": "stream",
     "text": [
      "Epoch 1/63\n"
     ]
    },
    {
     "name": "stderr",
     "output_type": "stream",
     "text": [
      "2022-03-21 09:01:10.701318: I tensorflow/core/grappler/optimizers/custom_graph_optimizer_registry.cc:113] Plugin optimizer for device_type GPU is enabled.\n"
     ]
    },
    {
     "name": "stdout",
     "output_type": "stream",
     "text": [
      "50000/50000 [==============================] - ETA: 0s - loss: 2.3113 - acc: 0.1161 "
     ]
    },
    {
     "name": "stderr",
     "output_type": "stream",
     "text": [
      "/Users/Mahos/miniforge3/envs/shm_tf/lib/python3.9/site-packages/keras/engine/training_v1.py:2057: UserWarning: `Model.state_updates` will be removed in a future version. This property should not be used in TensorFlow 2.0, as `updates` are applied automatically.\n",
      "  updates = self.state_updates\n",
      "2022-03-21 09:13:25.384671: I tensorflow/core/grappler/optimizers/custom_graph_optimizer_registry.cc:113] Plugin optimizer for device_type GPU is enabled.\n"
     ]
    },
    {
     "name": "stdout",
     "output_type": "stream",
     "text": [
      "50000/50000 [==============================] - 736s 15ms/sample - loss: 2.3113 - acc: 0.1161 - val_loss: 2.2828 - val_acc: 0.1416\n",
      "Epoch 2/63\n",
      "50000/50000 [==============================] - 652s 13ms/sample - loss: 2.2807 - acc: 0.1360 - val_loss: 2.2638 - val_acc: 0.1461\n",
      "Epoch 3/63\n",
      "50000/50000 [==============================] - 641s 13ms/sample - loss: 2.2497 - acc: 0.1597 - val_loss: 2.2371 - val_acc: 0.1724\n",
      "Epoch 4/63\n",
      "50000/50000 [==============================] - 656s 13ms/sample - loss: 2.2215 - acc: 0.1786 - val_loss: 2.2130 - val_acc: 0.1821\n",
      "Epoch 5/63\n",
      "50000/50000 [==============================] - 654s 13ms/sample - loss: 2.2000 - acc: 0.1910 - val_loss: 2.1887 - val_acc: 0.2021\n",
      "Epoch 6/63\n",
      "50000/50000 [==============================] - 646s 13ms/sample - loss: 2.1910 - acc: 0.1901 - val_loss: 2.1810 - val_acc: 0.1983\n",
      "Epoch 7/63\n",
      "50000/50000 [==============================] - 649s 13ms/sample - loss: 2.1744 - acc: 0.1984 - val_loss: 2.1796 - val_acc: 0.1921\n",
      "Epoch 8/63\n",
      "50000/50000 [==============================] - 663s 13ms/sample - loss: 2.1688 - acc: 0.1929 - val_loss: 2.1619 - val_acc: 0.1947\n",
      "Epoch 9/63\n",
      "50000/50000 [==============================] - 640s 13ms/sample - loss: 2.1589 - acc: 0.1979 - val_loss: 2.1407 - val_acc: 0.1966\n",
      "Epoch 10/63\n",
      "50000/50000 [==============================] - 634s 13ms/sample - loss: 2.1424 - acc: 0.1997 - val_loss: 2.1472 - val_acc: 0.1995\n",
      "Epoch 11/63\n",
      "50000/50000 [==============================] - 641s 13ms/sample - loss: 2.1291 - acc: 0.2035 - val_loss: 2.1343 - val_acc: 0.2063\n",
      "Epoch 12/63\n",
      "50000/50000 [==============================] - 726s 15ms/sample - loss: 2.1192 - acc: 0.2071 - val_loss: 2.1185 - val_acc: 0.2126\n",
      "Epoch 13/63\n",
      "50000/50000 [==============================] - 929s 19ms/sample - loss: 2.1111 - acc: 0.2094 - val_loss: 2.0924 - val_acc: 0.2130\n",
      "Epoch 14/63\n",
      "50000/50000 [==============================] - 568s 11ms/sample - loss: 2.1058 - acc: 0.2097 - val_loss: 2.0957 - val_acc: 0.2149\n",
      "Epoch 15/63\n",
      "50000/50000 [==============================] - 565s 11ms/sample - loss: 2.0959 - acc: 0.2163 - val_loss: 2.0842 - val_acc: 0.2211\n",
      "Epoch 16/63\n",
      "50000/50000 [==============================] - 563s 11ms/sample - loss: 2.0984 - acc: 0.2153 - val_loss: 2.0829 - val_acc: 0.2170\n",
      "Epoch 17/63\n",
      "50000/50000 [==============================] - 564s 11ms/sample - loss: 2.0811 - acc: 0.2221 - val_loss: 2.0736 - val_acc: 0.2232\n",
      "Epoch 18/63\n",
      "50000/50000 [==============================] - 569s 11ms/sample - loss: 2.0921 - acc: 0.2154 - val_loss: 2.0729 - val_acc: 0.2213\n",
      "Epoch 19/63\n",
      "50000/50000 [==============================] - 568s 11ms/sample - loss: 2.0865 - acc: 0.2200 - val_loss: 2.0753 - val_acc: 0.2246\n",
      "Epoch 20/63\n",
      "50000/50000 [==============================] - 583s 12ms/sample - loss: 2.0859 - acc: 0.2205 - val_loss: 2.0736 - val_acc: 0.2231\n",
      "Epoch 21/63\n",
      "50000/50000 [==============================] - 593s 12ms/sample - loss: 2.0738 - acc: 0.2258 - val_loss: 2.0615 - val_acc: 0.2316\n",
      "Epoch 22/63\n",
      "50000/50000 [==============================] - 604s 12ms/sample - loss: 2.0676 - acc: 0.2260 - val_loss: 2.0849 - val_acc: 0.2242\n",
      "Epoch 23/63\n",
      "50000/50000 [==============================] - 654s 13ms/sample - loss: 2.0584 - acc: 0.2231 - val_loss: 2.0583 - val_acc: 0.2278\n",
      "Epoch 24/63\n",
      "50000/50000 [==============================] - 631s 13ms/sample - loss: 2.0596 - acc: 0.2247 - val_loss: 2.0866 - val_acc: 0.2130\n",
      "Epoch 25/63\n",
      "50000/50000 [==============================] - 624s 12ms/sample - loss: 2.0661 - acc: 0.2237 - val_loss: 2.0404 - val_acc: 0.2383\n",
      "Epoch 26/63\n",
      "50000/50000 [==============================] - 633s 13ms/sample - loss: 2.0543 - acc: 0.2306 - val_loss: 2.0440 - val_acc: 0.2257\n",
      "Epoch 27/63\n",
      "50000/50000 [==============================] - 633s 13ms/sample - loss: 2.0447 - acc: 0.2357 - val_loss: 2.0302 - val_acc: 0.2433\n",
      "Epoch 28/63\n",
      "50000/50000 [==============================] - 668s 13ms/sample - loss: 2.0334 - acc: 0.2405 - val_loss: 2.0310 - val_acc: 0.2340\n",
      "Epoch 29/63\n",
      "50000/50000 [==============================] - 675s 13ms/sample - loss: 2.0332 - acc: 0.2403 - val_loss: 2.0374 - val_acc: 0.2396\n",
      "Epoch 30/63\n",
      "50000/50000 [==============================] - 666s 13ms/sample - loss: 2.0356 - acc: 0.2419 - val_loss: 2.0476 - val_acc: 0.2345\n",
      "Epoch 31/63\n",
      "50000/50000 [==============================] - 666s 13ms/sample - loss: 2.0512 - acc: 0.2349 - val_loss: 2.0614 - val_acc: 0.2261\n",
      "Epoch 32/63\n",
      "50000/50000 [==============================] - 667s 13ms/sample - loss: 2.0690 - acc: 0.2268 - val_loss: 2.0553 - val_acc: 0.2356\n",
      "Epoch 33/63\n",
      "50000/50000 [==============================] - 669s 13ms/sample - loss: 2.0551 - acc: 0.2333 - val_loss: 2.0304 - val_acc: 0.2401\n",
      "Epoch 34/63\n",
      "50000/50000 [==============================] - 588s 12ms/sample - loss: 2.0458 - acc: 0.2370 - val_loss: 2.0324 - val_acc: 0.2498\n",
      "Epoch 35/63\n",
      "50000/50000 [==============================] - 565s 11ms/sample - loss: 2.0499 - acc: 0.2362 - val_loss: 2.0242 - val_acc: 0.2441\n",
      "Epoch 36/63\n",
      "50000/50000 [==============================] - 569s 11ms/sample - loss: 2.0312 - acc: 0.2433 - val_loss: 2.0477 - val_acc: 0.2429\n",
      "Epoch 37/63\n",
      "50000/50000 [==============================] - 585s 12ms/sample - loss: 2.0382 - acc: 0.2403 - val_loss: 2.0290 - val_acc: 0.2374\n",
      "Epoch 38/63\n",
      "50000/50000 [==============================] - 595s 12ms/sample - loss: 2.0343 - acc: 0.2379 - val_loss: 2.0292 - val_acc: 0.2422\n",
      "Epoch 39/63\n",
      "50000/50000 [==============================] - 579s 12ms/sample - loss: 2.0363 - acc: 0.2425 - val_loss: 2.0223 - val_acc: 0.2381\n",
      "Epoch 40/63\n",
      "33000/50000 [==================>...........] - ETA: 3:21 - loss: 2.0327 - acc: 0.2410"
     ]
    },
    {
     "ename": "KeyboardInterrupt",
     "evalue": "",
     "output_type": "error",
     "traceback": [
      "\u001b[0;31m---------------------------------------------------------------------------\u001b[0m",
      "\u001b[0;31mKeyboardInterrupt\u001b[0m                         Traceback (most recent call last)",
      "Input \u001b[0;32mIn [6]\u001b[0m, in \u001b[0;36m<module>\u001b[0;34m\u001b[0m\n\u001b[1;32m      2\u001b[0m model\u001b[38;5;241m.\u001b[39mcompile(optimizer\u001b[38;5;241m=\u001b[39moptimizer, loss\u001b[38;5;241m=\u001b[39mloss, metrics\u001b[38;5;241m=\u001b[39m[\u001b[38;5;124m'\u001b[39m\u001b[38;5;124maccuracy\u001b[39m\u001b[38;5;124m'\u001b[39m])\n\u001b[1;32m      3\u001b[0m \u001b[38;5;66;03m# Train model\u001b[39;00m\n\u001b[0;32m----> 4\u001b[0m \u001b[43mmodel\u001b[49m\u001b[38;5;241;43m.\u001b[39;49m\u001b[43mfit\u001b[49m\u001b[43m(\u001b[49m\u001b[43mx_train\u001b[49m\u001b[43m,\u001b[49m\u001b[43m \u001b[49m\u001b[43my_train\u001b[49m\u001b[43m,\u001b[49m\n\u001b[1;32m      5\u001b[0m \u001b[43m          \u001b[49m\u001b[43mepochs\u001b[49m\u001b[38;5;241;43m=\u001b[39;49m\u001b[43mepochs\u001b[49m\u001b[43m,\u001b[49m\n\u001b[1;32m      6\u001b[0m \u001b[43m          \u001b[49m\u001b[43mvalidation_data\u001b[49m\u001b[38;5;241;43m=\u001b[39;49m\u001b[43m(\u001b[49m\u001b[43mx_test\u001b[49m\u001b[43m,\u001b[49m\u001b[43m \u001b[49m\u001b[43my_test\u001b[49m\u001b[43m)\u001b[49m\u001b[43m,\u001b[49m\n\u001b[1;32m      7\u001b[0m \u001b[43m          \u001b[49m\u001b[43mbatch_size\u001b[49m\u001b[38;5;241;43m=\u001b[39;49m\u001b[43mbatch_size\u001b[49m\u001b[43m)\u001b[49m\n",
      "File \u001b[0;32m~/miniforge3/envs/shm_tf/lib/python3.9/site-packages/keras/engine/training_v1.py:777\u001b[0m, in \u001b[0;36mModel.fit\u001b[0;34m(self, x, y, batch_size, epochs, verbose, callbacks, validation_split, validation_data, shuffle, class_weight, sample_weight, initial_epoch, steps_per_epoch, validation_steps, validation_freq, max_queue_size, workers, use_multiprocessing, **kwargs)\u001b[0m\n\u001b[1;32m    774\u001b[0m \u001b[38;5;28mself\u001b[39m\u001b[38;5;241m.\u001b[39m_check_call_args(\u001b[38;5;124m'\u001b[39m\u001b[38;5;124mfit\u001b[39m\u001b[38;5;124m'\u001b[39m)\n\u001b[1;32m    776\u001b[0m func \u001b[38;5;241m=\u001b[39m \u001b[38;5;28mself\u001b[39m\u001b[38;5;241m.\u001b[39m_select_training_loop(x)\n\u001b[0;32m--> 777\u001b[0m \u001b[38;5;28;01mreturn\u001b[39;00m \u001b[43mfunc\u001b[49m\u001b[38;5;241;43m.\u001b[39;49m\u001b[43mfit\u001b[49m\u001b[43m(\u001b[49m\n\u001b[1;32m    778\u001b[0m \u001b[43m    \u001b[49m\u001b[38;5;28;43mself\u001b[39;49m\u001b[43m,\u001b[49m\n\u001b[1;32m    779\u001b[0m \u001b[43m    \u001b[49m\u001b[43mx\u001b[49m\u001b[38;5;241;43m=\u001b[39;49m\u001b[43mx\u001b[49m\u001b[43m,\u001b[49m\n\u001b[1;32m    780\u001b[0m \u001b[43m    \u001b[49m\u001b[43my\u001b[49m\u001b[38;5;241;43m=\u001b[39;49m\u001b[43my\u001b[49m\u001b[43m,\u001b[49m\n\u001b[1;32m    781\u001b[0m \u001b[43m    \u001b[49m\u001b[43mbatch_size\u001b[49m\u001b[38;5;241;43m=\u001b[39;49m\u001b[43mbatch_size\u001b[49m\u001b[43m,\u001b[49m\n\u001b[1;32m    782\u001b[0m \u001b[43m    \u001b[49m\u001b[43mepochs\u001b[49m\u001b[38;5;241;43m=\u001b[39;49m\u001b[43mepochs\u001b[49m\u001b[43m,\u001b[49m\n\u001b[1;32m    783\u001b[0m \u001b[43m    \u001b[49m\u001b[43mverbose\u001b[49m\u001b[38;5;241;43m=\u001b[39;49m\u001b[43mverbose\u001b[49m\u001b[43m,\u001b[49m\n\u001b[1;32m    784\u001b[0m \u001b[43m    \u001b[49m\u001b[43mcallbacks\u001b[49m\u001b[38;5;241;43m=\u001b[39;49m\u001b[43mcallbacks\u001b[49m\u001b[43m,\u001b[49m\n\u001b[1;32m    785\u001b[0m \u001b[43m    \u001b[49m\u001b[43mvalidation_split\u001b[49m\u001b[38;5;241;43m=\u001b[39;49m\u001b[43mvalidation_split\u001b[49m\u001b[43m,\u001b[49m\n\u001b[1;32m    786\u001b[0m \u001b[43m    \u001b[49m\u001b[43mvalidation_data\u001b[49m\u001b[38;5;241;43m=\u001b[39;49m\u001b[43mvalidation_data\u001b[49m\u001b[43m,\u001b[49m\n\u001b[1;32m    787\u001b[0m \u001b[43m    \u001b[49m\u001b[43mshuffle\u001b[49m\u001b[38;5;241;43m=\u001b[39;49m\u001b[43mshuffle\u001b[49m\u001b[43m,\u001b[49m\n\u001b[1;32m    788\u001b[0m \u001b[43m    \u001b[49m\u001b[43mclass_weight\u001b[49m\u001b[38;5;241;43m=\u001b[39;49m\u001b[43mclass_weight\u001b[49m\u001b[43m,\u001b[49m\n\u001b[1;32m    789\u001b[0m \u001b[43m    \u001b[49m\u001b[43msample_weight\u001b[49m\u001b[38;5;241;43m=\u001b[39;49m\u001b[43msample_weight\u001b[49m\u001b[43m,\u001b[49m\n\u001b[1;32m    790\u001b[0m \u001b[43m    \u001b[49m\u001b[43minitial_epoch\u001b[49m\u001b[38;5;241;43m=\u001b[39;49m\u001b[43minitial_epoch\u001b[49m\u001b[43m,\u001b[49m\n\u001b[1;32m    791\u001b[0m \u001b[43m    \u001b[49m\u001b[43msteps_per_epoch\u001b[49m\u001b[38;5;241;43m=\u001b[39;49m\u001b[43msteps_per_epoch\u001b[49m\u001b[43m,\u001b[49m\n\u001b[1;32m    792\u001b[0m \u001b[43m    \u001b[49m\u001b[43mvalidation_steps\u001b[49m\u001b[38;5;241;43m=\u001b[39;49m\u001b[43mvalidation_steps\u001b[49m\u001b[43m,\u001b[49m\n\u001b[1;32m    793\u001b[0m \u001b[43m    \u001b[49m\u001b[43mvalidation_freq\u001b[49m\u001b[38;5;241;43m=\u001b[39;49m\u001b[43mvalidation_freq\u001b[49m\u001b[43m,\u001b[49m\n\u001b[1;32m    794\u001b[0m \u001b[43m    \u001b[49m\u001b[43mmax_queue_size\u001b[49m\u001b[38;5;241;43m=\u001b[39;49m\u001b[43mmax_queue_size\u001b[49m\u001b[43m,\u001b[49m\n\u001b[1;32m    795\u001b[0m \u001b[43m    \u001b[49m\u001b[43mworkers\u001b[49m\u001b[38;5;241;43m=\u001b[39;49m\u001b[43mworkers\u001b[49m\u001b[43m,\u001b[49m\n\u001b[1;32m    796\u001b[0m \u001b[43m    \u001b[49m\u001b[43muse_multiprocessing\u001b[49m\u001b[38;5;241;43m=\u001b[39;49m\u001b[43muse_multiprocessing\u001b[49m\u001b[43m)\u001b[49m\n",
      "File \u001b[0;32m~/miniforge3/envs/shm_tf/lib/python3.9/site-packages/keras/engine/training_arrays_v1.py:641\u001b[0m, in \u001b[0;36mArrayLikeTrainingLoop.fit\u001b[0;34m(self, model, x, y, batch_size, epochs, verbose, callbacks, validation_split, validation_data, shuffle, class_weight, sample_weight, initial_epoch, steps_per_epoch, validation_steps, validation_freq, **kwargs)\u001b[0m\n\u001b[1;32m    637\u001b[0m     \u001b[38;5;28;01mraise\u001b[39;00m \u001b[38;5;167;01mValueError\u001b[39;00m(\u001b[38;5;124m'\u001b[39m\u001b[38;5;124m`validation_steps` should not be specified if \u001b[39m\u001b[38;5;124m'\u001b[39m\n\u001b[1;32m    638\u001b[0m                      \u001b[38;5;124m'\u001b[39m\u001b[38;5;124m`validation_data` is None.\u001b[39m\u001b[38;5;124m'\u001b[39m)\n\u001b[1;32m    639\u001b[0m   val_x, val_y, val_sample_weights \u001b[38;5;241m=\u001b[39m \u001b[38;5;28;01mNone\u001b[39;00m, \u001b[38;5;28;01mNone\u001b[39;00m, \u001b[38;5;28;01mNone\u001b[39;00m\n\u001b[0;32m--> 641\u001b[0m \u001b[38;5;28;01mreturn\u001b[39;00m \u001b[43mfit_loop\u001b[49m\u001b[43m(\u001b[49m\n\u001b[1;32m    642\u001b[0m \u001b[43m    \u001b[49m\u001b[43mmodel\u001b[49m\u001b[43m,\u001b[49m\n\u001b[1;32m    643\u001b[0m \u001b[43m    \u001b[49m\u001b[43minputs\u001b[49m\u001b[38;5;241;43m=\u001b[39;49m\u001b[43mx\u001b[49m\u001b[43m,\u001b[49m\n\u001b[1;32m    644\u001b[0m \u001b[43m    \u001b[49m\u001b[43mtargets\u001b[49m\u001b[38;5;241;43m=\u001b[39;49m\u001b[43my\u001b[49m\u001b[43m,\u001b[49m\n\u001b[1;32m    645\u001b[0m \u001b[43m    \u001b[49m\u001b[43msample_weights\u001b[49m\u001b[38;5;241;43m=\u001b[39;49m\u001b[43msample_weights\u001b[49m\u001b[43m,\u001b[49m\n\u001b[1;32m    646\u001b[0m \u001b[43m    \u001b[49m\u001b[43mbatch_size\u001b[49m\u001b[38;5;241;43m=\u001b[39;49m\u001b[43mbatch_size\u001b[49m\u001b[43m,\u001b[49m\n\u001b[1;32m    647\u001b[0m \u001b[43m    \u001b[49m\u001b[43mepochs\u001b[49m\u001b[38;5;241;43m=\u001b[39;49m\u001b[43mepochs\u001b[49m\u001b[43m,\u001b[49m\n\u001b[1;32m    648\u001b[0m \u001b[43m    \u001b[49m\u001b[43mverbose\u001b[49m\u001b[38;5;241;43m=\u001b[39;49m\u001b[43mverbose\u001b[49m\u001b[43m,\u001b[49m\n\u001b[1;32m    649\u001b[0m \u001b[43m    \u001b[49m\u001b[43mcallbacks\u001b[49m\u001b[38;5;241;43m=\u001b[39;49m\u001b[43mcallbacks\u001b[49m\u001b[43m,\u001b[49m\n\u001b[1;32m    650\u001b[0m \u001b[43m    \u001b[49m\u001b[43mval_inputs\u001b[49m\u001b[38;5;241;43m=\u001b[39;49m\u001b[43mval_x\u001b[49m\u001b[43m,\u001b[49m\n\u001b[1;32m    651\u001b[0m \u001b[43m    \u001b[49m\u001b[43mval_targets\u001b[49m\u001b[38;5;241;43m=\u001b[39;49m\u001b[43mval_y\u001b[49m\u001b[43m,\u001b[49m\n\u001b[1;32m    652\u001b[0m \u001b[43m    \u001b[49m\u001b[43mval_sample_weights\u001b[49m\u001b[38;5;241;43m=\u001b[39;49m\u001b[43mval_sample_weights\u001b[49m\u001b[43m,\u001b[49m\n\u001b[1;32m    653\u001b[0m \u001b[43m    \u001b[49m\u001b[43mshuffle\u001b[49m\u001b[38;5;241;43m=\u001b[39;49m\u001b[43mshuffle\u001b[49m\u001b[43m,\u001b[49m\n\u001b[1;32m    654\u001b[0m \u001b[43m    \u001b[49m\u001b[43minitial_epoch\u001b[49m\u001b[38;5;241;43m=\u001b[39;49m\u001b[43minitial_epoch\u001b[49m\u001b[43m,\u001b[49m\n\u001b[1;32m    655\u001b[0m \u001b[43m    \u001b[49m\u001b[43msteps_per_epoch\u001b[49m\u001b[38;5;241;43m=\u001b[39;49m\u001b[43msteps_per_epoch\u001b[49m\u001b[43m,\u001b[49m\n\u001b[1;32m    656\u001b[0m \u001b[43m    \u001b[49m\u001b[43mvalidation_steps\u001b[49m\u001b[38;5;241;43m=\u001b[39;49m\u001b[43mvalidation_steps\u001b[49m\u001b[43m,\u001b[49m\n\u001b[1;32m    657\u001b[0m \u001b[43m    \u001b[49m\u001b[43mvalidation_freq\u001b[49m\u001b[38;5;241;43m=\u001b[39;49m\u001b[43mvalidation_freq\u001b[49m\u001b[43m,\u001b[49m\n\u001b[1;32m    658\u001b[0m \u001b[43m    \u001b[49m\u001b[43msteps_name\u001b[49m\u001b[38;5;241;43m=\u001b[39;49m\u001b[38;5;124;43m'\u001b[39;49m\u001b[38;5;124;43msteps_per_epoch\u001b[39;49m\u001b[38;5;124;43m'\u001b[39;49m\u001b[43m)\u001b[49m\n",
      "File \u001b[0;32m~/miniforge3/envs/shm_tf/lib/python3.9/site-packages/keras/engine/training_arrays_v1.py:377\u001b[0m, in \u001b[0;36mmodel_iteration\u001b[0;34m(model, inputs, targets, sample_weights, batch_size, epochs, verbose, callbacks, val_inputs, val_targets, val_sample_weights, shuffle, initial_epoch, steps_per_epoch, validation_steps, validation_freq, mode, validation_in_fit, prepared_feed_values_from_dataset, steps_name, **kwargs)\u001b[0m\n\u001b[1;32m    374\u001b[0m callbacks\u001b[38;5;241m.\u001b[39m_call_batch_hook(mode, \u001b[38;5;124m'\u001b[39m\u001b[38;5;124mbegin\u001b[39m\u001b[38;5;124m'\u001b[39m, batch_index, batch_logs)\n\u001b[1;32m    376\u001b[0m \u001b[38;5;66;03m# Get outputs.\u001b[39;00m\n\u001b[0;32m--> 377\u001b[0m batch_outs \u001b[38;5;241m=\u001b[39m \u001b[43mf\u001b[49m\u001b[43m(\u001b[49m\u001b[43mins_batch\u001b[49m\u001b[43m)\u001b[49m\n\u001b[1;32m    378\u001b[0m \u001b[38;5;28;01mif\u001b[39;00m \u001b[38;5;129;01mnot\u001b[39;00m \u001b[38;5;28misinstance\u001b[39m(batch_outs, \u001b[38;5;28mlist\u001b[39m):\n\u001b[1;32m    379\u001b[0m   batch_outs \u001b[38;5;241m=\u001b[39m [batch_outs]\n",
      "File \u001b[0;32m~/miniforge3/envs/shm_tf/lib/python3.9/site-packages/keras/backend.py:4275\u001b[0m, in \u001b[0;36mGraphExecutionFunction.__call__\u001b[0;34m(self, inputs)\u001b[0m\n\u001b[1;32m   4269\u001b[0m \u001b[38;5;28;01mif\u001b[39;00m (\u001b[38;5;28mself\u001b[39m\u001b[38;5;241m.\u001b[39m_callable_fn \u001b[38;5;129;01mis\u001b[39;00m \u001b[38;5;28;01mNone\u001b[39;00m \u001b[38;5;129;01mor\u001b[39;00m feed_arrays \u001b[38;5;241m!=\u001b[39m \u001b[38;5;28mself\u001b[39m\u001b[38;5;241m.\u001b[39m_feed_arrays \u001b[38;5;129;01mor\u001b[39;00m\n\u001b[1;32m   4270\u001b[0m     symbol_vals \u001b[38;5;241m!=\u001b[39m \u001b[38;5;28mself\u001b[39m\u001b[38;5;241m.\u001b[39m_symbol_vals \u001b[38;5;129;01mor\u001b[39;00m\n\u001b[1;32m   4271\u001b[0m     feed_symbols \u001b[38;5;241m!=\u001b[39m \u001b[38;5;28mself\u001b[39m\u001b[38;5;241m.\u001b[39m_feed_symbols \u001b[38;5;129;01mor\u001b[39;00m \u001b[38;5;28mself\u001b[39m\u001b[38;5;241m.\u001b[39mfetches \u001b[38;5;241m!=\u001b[39m \u001b[38;5;28mself\u001b[39m\u001b[38;5;241m.\u001b[39m_fetches \u001b[38;5;129;01mor\u001b[39;00m\n\u001b[1;32m   4272\u001b[0m     session \u001b[38;5;241m!=\u001b[39m \u001b[38;5;28mself\u001b[39m\u001b[38;5;241m.\u001b[39m_session):\n\u001b[1;32m   4273\u001b[0m   \u001b[38;5;28mself\u001b[39m\u001b[38;5;241m.\u001b[39m_make_callable(feed_arrays, feed_symbols, symbol_vals, session)\n\u001b[0;32m-> 4275\u001b[0m fetched \u001b[38;5;241m=\u001b[39m \u001b[38;5;28;43mself\u001b[39;49m\u001b[38;5;241;43m.\u001b[39;49m\u001b[43m_callable_fn\u001b[49m\u001b[43m(\u001b[49m\u001b[38;5;241;43m*\u001b[39;49m\u001b[43marray_vals\u001b[49m\u001b[43m,\u001b[49m\n\u001b[1;32m   4276\u001b[0m \u001b[43m                            \u001b[49m\u001b[43mrun_metadata\u001b[49m\u001b[38;5;241;43m=\u001b[39;49m\u001b[38;5;28;43mself\u001b[39;49m\u001b[38;5;241;43m.\u001b[39;49m\u001b[43mrun_metadata\u001b[49m\u001b[43m)\u001b[49m\n\u001b[1;32m   4277\u001b[0m \u001b[38;5;28mself\u001b[39m\u001b[38;5;241m.\u001b[39m_call_fetch_callbacks(fetched[\u001b[38;5;241m-\u001b[39m\u001b[38;5;28mlen\u001b[39m(\u001b[38;5;28mself\u001b[39m\u001b[38;5;241m.\u001b[39m_fetches):])\n\u001b[1;32m   4278\u001b[0m output_structure \u001b[38;5;241m=\u001b[39m tf\u001b[38;5;241m.\u001b[39mnest\u001b[38;5;241m.\u001b[39mpack_sequence_as(\n\u001b[1;32m   4279\u001b[0m     \u001b[38;5;28mself\u001b[39m\u001b[38;5;241m.\u001b[39m_outputs_structure,\n\u001b[1;32m   4280\u001b[0m     fetched[:\u001b[38;5;28mlen\u001b[39m(\u001b[38;5;28mself\u001b[39m\u001b[38;5;241m.\u001b[39moutputs)],\n\u001b[1;32m   4281\u001b[0m     expand_composites\u001b[38;5;241m=\u001b[39m\u001b[38;5;28;01mTrue\u001b[39;00m)\n",
      "File \u001b[0;32m~/miniforge3/envs/shm_tf/lib/python3.9/site-packages/tensorflow/python/client/session.py:1480\u001b[0m, in \u001b[0;36mBaseSession._Callable.__call__\u001b[0;34m(self, *args, **kwargs)\u001b[0m\n\u001b[1;32m   1478\u001b[0m \u001b[38;5;28;01mtry\u001b[39;00m:\n\u001b[1;32m   1479\u001b[0m   run_metadata_ptr \u001b[38;5;241m=\u001b[39m tf_session\u001b[38;5;241m.\u001b[39mTF_NewBuffer() \u001b[38;5;28;01mif\u001b[39;00m run_metadata \u001b[38;5;28;01melse\u001b[39;00m \u001b[38;5;28;01mNone\u001b[39;00m\n\u001b[0;32m-> 1480\u001b[0m   ret \u001b[38;5;241m=\u001b[39m \u001b[43mtf_session\u001b[49m\u001b[38;5;241;43m.\u001b[39;49m\u001b[43mTF_SessionRunCallable\u001b[49m\u001b[43m(\u001b[49m\u001b[38;5;28;43mself\u001b[39;49m\u001b[38;5;241;43m.\u001b[39;49m\u001b[43m_session\u001b[49m\u001b[38;5;241;43m.\u001b[39;49m\u001b[43m_session\u001b[49m\u001b[43m,\u001b[49m\n\u001b[1;32m   1481\u001b[0m \u001b[43m                                         \u001b[49m\u001b[38;5;28;43mself\u001b[39;49m\u001b[38;5;241;43m.\u001b[39;49m\u001b[43m_handle\u001b[49m\u001b[43m,\u001b[49m\u001b[43m \u001b[49m\u001b[43margs\u001b[49m\u001b[43m,\u001b[49m\n\u001b[1;32m   1482\u001b[0m \u001b[43m                                         \u001b[49m\u001b[43mrun_metadata_ptr\u001b[49m\u001b[43m)\u001b[49m\n\u001b[1;32m   1483\u001b[0m   \u001b[38;5;28;01mif\u001b[39;00m run_metadata:\n\u001b[1;32m   1484\u001b[0m     proto_data \u001b[38;5;241m=\u001b[39m tf_session\u001b[38;5;241m.\u001b[39mTF_GetBuffer(run_metadata_ptr)\n",
      "\u001b[0;31mKeyboardInterrupt\u001b[0m: "
     ]
    }
   ],
   "source": [
    "# Compile model\n",
    "model.compile(optimizer=optimizer, loss=loss, metrics=['accuracy'])\n",
    "# Train model\n",
    "model.fit(x_train, y_train,\n",
    "          epochs=epochs,\n",
    "          validation_data=(x_test, y_test),\n",
    "          batch_size=batch_size)"
   ]
  },
  {
   "cell_type": "code",
   "execution_count": null,
   "id": "c746c95b",
   "metadata": {},
   "outputs": [],
   "source": []
  },
  {
   "cell_type": "markdown",
   "id": "69813367",
   "metadata": {},
   "source": [
    "### Model1: Simple CNN"
   ]
  },
  {
   "cell_type": "code",
   "execution_count": 11,
   "id": "e51ed758",
   "metadata": {},
   "outputs": [],
   "source": [
    "# Hyper-parameters\n",
    "epochs = 20\n",
    "batch_size = 500\n",
    "\n",
    "l2_norm_clip = 1.5\n",
    "noise_multiplier = 1.3\n",
    "num_microbatches = 250\n",
    "learning_rate = 0.25\n",
    "\n",
    "if batch_size % num_microbatches != 0:\n",
    "    raise ValueError('Batch size should be an integer multiple of the number of microbatches')"
   ]
  },
  {
   "cell_type": "code",
   "execution_count": 12,
   "id": "cc133894",
   "metadata": {},
   "outputs": [],
   "source": [
    "# Define model\n",
    "model = tf.keras.Sequential([\n",
    "    tf.keras.layers.Conv2D(16, 8,\n",
    "                           strides=2,\n",
    "                           padding='same',\n",
    "                           activation='relu',\n",
    "                           input_shape=(32, 32, 3)),\n",
    "    tf.keras.layers.MaxPool2D(2, 1),\n",
    "    tf.keras.layers.Conv2D(32, 4,\n",
    "                           strides=2,\n",
    "                           padding='valid',\n",
    "                           activation='relu'),\n",
    "    tf.keras.layers.MaxPool2D(2, 1),\n",
    "    tf.keras.layers.Flatten(),\n",
    "    tf.keras.layers.Dense(32, activation='relu'),\n",
    "    tf.keras.layers.Dense(10)\n",
    "])"
   ]
  },
  {
   "cell_type": "code",
   "execution_count": 13,
   "id": "7017c9a9",
   "metadata": {},
   "outputs": [],
   "source": [
    "# define optimizer (dp-sgd) \n",
    "optimizer = tensorflow_privacy.DPKerasSGDOptimizer(\n",
    "    l2_norm_clip=l2_norm_clip,\n",
    "    noise_multiplier=noise_multiplier,\n",
    "    num_microbatches=num_microbatches,\n",
    "    learning_rate=learning_rate)\n",
    "# define loss function\n",
    "loss = tf.keras.losses.CategoricalCrossentropy(\n",
    "    from_logits=True, reduction=tf.losses.Reduction.NONE)"
   ]
  },
  {
   "cell_type": "code",
   "execution_count": 14,
   "id": "6e0fb7f2",
   "metadata": {},
   "outputs": [
    {
     "name": "stdout",
     "output_type": "stream",
     "text": [
      "Train on 50000 samples, validate on 10000 samples\n"
     ]
    },
    {
     "name": "stderr",
     "output_type": "stream",
     "text": [
      "2022-03-08 16:42:30.484258: I tensorflow/core/grappler/optimizers/custom_graph_optimizer_registry.cc:113] Plugin optimizer for device_type GPU is enabled.\n",
      "2022-03-08 16:42:31.402756: I tensorflow/core/grappler/optimizers/custom_graph_optimizer_registry.cc:113] Plugin optimizer for device_type GPU is enabled.\n"
     ]
    },
    {
     "name": "stdout",
     "output_type": "stream",
     "text": [
      "Epoch 1/20\n"
     ]
    },
    {
     "name": "stderr",
     "output_type": "stream",
     "text": [
      "2022-03-08 16:42:31.686466: I tensorflow/core/grappler/optimizers/custom_graph_optimizer_registry.cc:113] Plugin optimizer for device_type GPU is enabled.\n",
      "2022-03-08 16:42:31.846137: I tensorflow/core/grappler/optimizers/custom_graph_optimizer_registry.cc:113] Plugin optimizer for device_type GPU is enabled.\n"
     ]
    },
    {
     "name": "stdout",
     "output_type": "stream",
     "text": [
      "50000/50000 [==============================] - ETA: 0s - loss: 2.2188 - acc: 0.1664 "
     ]
    },
    {
     "name": "stderr",
     "output_type": "stream",
     "text": [
      "2022-03-08 17:04:09.816648: I tensorflow/core/grappler/optimizers/custom_graph_optimizer_registry.cc:113] Plugin optimizer for device_type GPU is enabled.\n"
     ]
    },
    {
     "name": "stdout",
     "output_type": "stream",
     "text": [
      "50000/50000 [==============================] - 1299s 26ms/sample - loss: 2.2188 - acc: 0.1664 - val_loss: 2.1000 - val_acc: 0.2320\n",
      "Epoch 2/20\n",
      "50000/50000 [==============================] - 1223s 24ms/sample - loss: 2.0589 - acc: 0.2534 - val_loss: 1.9255 - val_acc: 0.3094\n",
      "Epoch 3/20\n",
      "50000/50000 [==============================] - 1212s 24ms/sample - loss: 1.9223 - acc: 0.3040 - val_loss: 1.8572 - val_acc: 0.3305\n",
      "Epoch 4/20\n",
      "50000/50000 [==============================] - 1217s 24ms/sample - loss: 1.8465 - acc: 0.3341 - val_loss: 1.8674 - val_acc: 0.3170\n",
      "Epoch 5/20\n",
      "50000/50000 [==============================] - 1208s 24ms/sample - loss: 1.7838 - acc: 0.3603 - val_loss: 1.7684 - val_acc: 0.3776\n",
      "Epoch 6/20\n",
      "50000/50000 [==============================] - 1221s 24ms/sample - loss: 1.7363 - acc: 0.3805 - val_loss: 1.7594 - val_acc: 0.3869\n",
      "Epoch 7/20\n",
      "50000/50000 [==============================] - 1227s 25ms/sample - loss: 1.6895 - acc: 0.4000 - val_loss: 1.7437 - val_acc: 0.3961\n",
      "Epoch 8/20\n",
      "50000/50000 [==============================] - 1232s 25ms/sample - loss: 1.6553 - acc: 0.4126 - val_loss: 1.7729 - val_acc: 0.3945\n",
      "Epoch 9/20\n",
      "50000/50000 [==============================] - 5825s 117ms/sample - loss: 1.6323 - acc: 0.4222 - val_loss: 1.6060 - val_acc: 0.4333\n",
      "Epoch 10/20\n",
      "50000/50000 [==============================] - 1117s 22ms/sample - loss: 1.6018 - acc: 0.4336 - val_loss: 1.5822 - val_acc: 0.4450\n",
      "Epoch 11/20\n",
      "50000/50000 [==============================] - 1039s 21ms/sample - loss: 1.5889 - acc: 0.4379 - val_loss: 1.5902 - val_acc: 0.4357\n",
      "Epoch 12/20\n",
      "50000/50000 [==============================] - 1025s 20ms/sample - loss: 1.5790 - acc: 0.4460 - val_loss: 1.5426 - val_acc: 0.4531\n",
      "Epoch 13/20\n",
      "50000/50000 [==============================] - 1025s 20ms/sample - loss: 1.5639 - acc: 0.4498 - val_loss: 1.5619 - val_acc: 0.4531\n",
      "Epoch 14/20\n",
      "50000/50000 [==============================] - 1025s 21ms/sample - loss: 1.5480 - acc: 0.4561 - val_loss: 1.5501 - val_acc: 0.4573\n",
      "Epoch 15/20\n",
      "50000/50000 [==============================] - 1039s 21ms/sample - loss: 1.5547 - acc: 0.4553 - val_loss: 1.5438 - val_acc: 0.4605\n",
      "Epoch 16/20\n",
      "50000/50000 [==============================] - 1042s 21ms/sample - loss: 1.5478 - acc: 0.4599 - val_loss: 1.5256 - val_acc: 0.4664\n",
      "Epoch 17/20\n",
      "50000/50000 [==============================] - 1023s 20ms/sample - loss: 1.5428 - acc: 0.4647 - val_loss: 1.5338 - val_acc: 0.4664\n",
      "Epoch 18/20\n",
      "50000/50000 [==============================] - 1027s 21ms/sample - loss: 1.5238 - acc: 0.4682 - val_loss: 1.5316 - val_acc: 0.4623\n",
      "Epoch 19/20\n",
      "50000/50000 [==============================] - 1030s 21ms/sample - loss: 1.5256 - acc: 0.4698 - val_loss: 1.5590 - val_acc: 0.4522\n",
      "Epoch 20/20\n",
      "50000/50000 [==============================] - 1020s 20ms/sample - loss: 1.5127 - acc: 0.4746 - val_loss: 1.5057 - val_acc: 0.4736\n"
     ]
    },
    {
     "data": {
      "text/plain": [
       "<keras.callbacks.History at 0x4a21c5700>"
      ]
     },
     "execution_count": 14,
     "metadata": {},
     "output_type": "execute_result"
    }
   ],
   "source": [
    "# Compile model\n",
    "model.compile(optimizer=optimizer, loss=loss, metrics=['accuracy'])\n",
    "# Train model\n",
    "model.fit(x_train, y_train,\n",
    "          epochs=epochs,\n",
    "          validation_data=(x_test, y_test),\n",
    "          batch_size=batch_size)"
   ]
  },
  {
   "cell_type": "code",
   "execution_count": 15,
   "id": "dad27007",
   "metadata": {},
   "outputs": [
    {
     "name": "stdout",
     "output_type": "stream",
     "text": [
      "DP-SGD with sampling rate = 1% and noise_multiplier = 1.3 iterated over 2000 steps satisfies differential privacy with eps = 1.8 and delta = 1e-05.\n",
      "The optimal RDP order is 11.0.\n"
     ]
    },
    {
     "data": {
      "text/plain": [
       "(1.798929515280597, 11.0)"
      ]
     },
     "execution_count": 15,
     "metadata": {},
     "output_type": "execute_result"
    }
   ],
   "source": [
    "# Calculate privacy performance\n",
    "compute_dp_sgd_privacy.compute_dp_sgd_privacy(n=x_train.shape[0],\n",
    "                                              batch_size=batch_size,\n",
    "                                              noise_multiplier=noise_multiplier,\n",
    "                                              epochs=epochs,\n",
    "                                              delta=1e-5)"
   ]
  },
  {
   "cell_type": "markdown",
   "id": "e15d91bb",
   "metadata": {},
   "source": [
    "### Model2: VGG with transfer learning"
   ]
  },
  {
   "cell_type": "code",
   "execution_count": 3,
   "id": "d9e42f17",
   "metadata": {},
   "outputs": [],
   "source": [
    "# Hyper-parameters\n",
    "epochs = 50\n",
    "batch_size = 1250\n",
    "\n",
    "l2_norm_clip = 1.5\n",
    "noise_multiplier = 1.3\n",
    "num_microbatches = 250\n",
    "learning_rate = 0.25\n",
    "\n",
    "if batch_size % num_microbatches != 0:\n",
    "    raise ValueError('Batch size should be an integer multiple of the number of microbatches')"
   ]
  },
  {
   "cell_type": "code",
   "execution_count": 4,
   "id": "47989ed6",
   "metadata": {},
   "outputs": [
    {
     "name": "stdout",
     "output_type": "stream",
     "text": [
      "Metal device set to: Apple M1 Pro\n"
     ]
    },
    {
     "name": "stderr",
     "output_type": "stream",
     "text": [
      "2022-03-14 00:07:48.042660: I tensorflow/core/common_runtime/pluggable_device/pluggable_device_factory.cc:305] Could not identify NUMA node of platform GPU ID 0, defaulting to 0. Your kernel may not have been built with NUMA support.\n",
      "2022-03-14 00:07:48.042815: I tensorflow/core/common_runtime/pluggable_device/pluggable_device_factory.cc:271] Created TensorFlow device (/job:localhost/replica:0/task:0/device:GPU:0 with 0 MB memory) -> physical PluggableDevice (device: 0, name: METAL, pci bus id: <undefined>)\n",
      "2022-03-14 00:07:48.050509: W tensorflow/core/platform/profile_utils/cpu_utils.cc:128] Failed to get CPU frequency: 0 Hz\n",
      "2022-03-14 00:07:48.050609: I tensorflow/core/grappler/optimizers/custom_graph_optimizer_registry.cc:113] Plugin optimizer for device_type GPU is enabled.\n",
      "2022-03-14 00:07:48.065426: I tensorflow/core/grappler/optimizers/custom_graph_optimizer_registry.cc:113] Plugin optimizer for device_type GPU is enabled.\n",
      "2022-03-14 00:07:48.153230: I tensorflow/core/grappler/optimizers/custom_graph_optimizer_registry.cc:113] Plugin optimizer for device_type GPU is enabled.\n"
     ]
    }
   ],
   "source": [
    "#Building a VGG model with pretrained weights\n",
    "\n",
    "vgg_model=tf.keras.Sequential()\n",
    "\n",
    "#https://keras.io/api/applications/vgg/#vgg16-function\n",
    "#https://keras.io/guides/transfer_learning/\n",
    "#https://chroniclesofai.com/transfer-learning-with-keras-resnet-50/\n",
    "pre_vgg_model=tf.keras.applications.VGG16(include_top=False,weights=\"imagenet\",\n",
    "                                          classes=10,pooling=max,input_shape=(32,32,3))\n",
    "pre_vgg_model.trainable=False\n",
    "vgg_model.add(pre_vgg_model)\n",
    "vgg_model.add(tf.keras.layers.Flatten())\n",
    "vgg_model.add(tf.keras.layers.Dense(512, activation='tanh'))\n",
    "vgg_model.add(tf.keras.layers.Dense(10, activation='softmax'))\n"
   ]
  },
  {
   "cell_type": "code",
   "execution_count": 5,
   "id": "f45e1ca3",
   "metadata": {},
   "outputs": [
    {
     "name": "stdout",
     "output_type": "stream",
     "text": [
      "Model: \"sequential\"\n",
      "_________________________________________________________________\n",
      " Layer (type)                Output Shape              Param #   \n",
      "=================================================================\n",
      " vgg16 (Functional)          (None, 1, 1, 512)         14714688  \n",
      "                                                                 \n",
      " flatten (Flatten)           (None, 512)               0         \n",
      "                                                                 \n",
      " dense (Dense)               (None, 512)               262656    \n",
      "                                                                 \n",
      " dense_1 (Dense)             (None, 10)                5130      \n",
      "                                                                 \n",
      "=================================================================\n",
      "Total params: 14,982,474\n",
      "Trainable params: 267,786\n",
      "Non-trainable params: 14,714,688\n",
      "_________________________________________________________________\n"
     ]
    }
   ],
   "source": [
    "vgg_model.summary()"
   ]
  },
  {
   "cell_type": "code",
   "execution_count": 6,
   "id": "c1d190e6",
   "metadata": {},
   "outputs": [],
   "source": [
    "# define optimizer (dp-sgd) \n",
    "vgg_optimizer = tensorflow_privacy.DPKerasSGDOptimizer(\n",
    "    l2_norm_clip=l2_norm_clip,\n",
    "    noise_multiplier=noise_multiplier,\n",
    "    num_microbatches=num_microbatches,\n",
    "    learning_rate=learning_rate)\n",
    "# define loss function\n",
    "vgg_loss = tf.keras.losses.CategoricalCrossentropy(\n",
    "    from_logits=True, reduction=tf.losses.Reduction.NONE)"
   ]
  },
  {
   "cell_type": "code",
   "execution_count": 7,
   "id": "8073901b",
   "metadata": {
    "scrolled": false
   },
   "outputs": [
    {
     "name": "stderr",
     "output_type": "stream",
     "text": [
      "/Users/Mahos/miniforge3/envs/shm_tf/lib/python3.9/site-packages/tensorflow/python/util/dispatch.py:1082: UserWarning: \"`categorical_crossentropy` received `from_logits=True`, but the `output` argument was produced by a sigmoid or softmax activation and thus does not represent logits. Was this intended?\"\n",
      "  return dispatch_target(*args, **kwargs)\n"
     ]
    },
    {
     "name": "stdout",
     "output_type": "stream",
     "text": [
      "Train on 50000 samples, validate on 10000 samples\n"
     ]
    },
    {
     "name": "stderr",
     "output_type": "stream",
     "text": [
      "2022-03-14 00:08:06.080186: I tensorflow/core/grappler/optimizers/custom_graph_optimizer_registry.cc:113] Plugin optimizer for device_type GPU is enabled.\n"
     ]
    },
    {
     "name": "stdout",
     "output_type": "stream",
     "text": [
      "Epoch 1/50\n"
     ]
    },
    {
     "name": "stderr",
     "output_type": "stream",
     "text": [
      "2022-03-14 00:08:06.388985: I tensorflow/core/grappler/optimizers/custom_graph_optimizer_registry.cc:113] Plugin optimizer for device_type GPU is enabled.\n",
      "2022-03-14 00:08:06.466079: I tensorflow/core/grappler/optimizers/custom_graph_optimizer_registry.cc:113] Plugin optimizer for device_type GPU is enabled.\n",
      "2022-03-14 00:08:06.528768: I tensorflow/core/grappler/optimizers/custom_graph_optimizer_registry.cc:113] Plugin optimizer for device_type GPU is enabled.\n"
     ]
    },
    {
     "name": "stdout",
     "output_type": "stream",
     "text": [
      "50000/50000 [==============================] - ETA: 0s - loss: 2.0519 - acc: 0.2842"
     ]
    },
    {
     "name": "stderr",
     "output_type": "stream",
     "text": [
      "/Users/Mahos/miniforge3/envs/shm_tf/lib/python3.9/site-packages/keras/engine/training_v1.py:2057: UserWarning: `Model.state_updates` will be removed in a future version. This property should not be used in TensorFlow 2.0, as `updates` are applied automatically.\n",
      "  updates = self.state_updates\n",
      "2022-03-14 00:10:55.361394: I tensorflow/core/grappler/optimizers/custom_graph_optimizer_registry.cc:113] Plugin optimizer for device_type GPU is enabled.\n"
     ]
    },
    {
     "name": "stdout",
     "output_type": "stream",
     "text": [
      "50000/50000 [==============================] - 174s 3ms/sample - loss: 2.0519 - acc: 0.2842 - val_loss: 1.8509 - val_acc: 0.3751\n",
      "Epoch 2/50\n",
      "50000/50000 [==============================] - 158s 3ms/sample - loss: 1.7477 - acc: 0.4120 - val_loss: 1.6785 - val_acc: 0.4330\n",
      "Epoch 3/50\n",
      "50000/50000 [==============================] - 157s 3ms/sample - loss: 1.6229 - acc: 0.4513 - val_loss: 1.5985 - val_acc: 0.4520\n",
      "Epoch 4/50\n",
      "50000/50000 [==============================] - 158s 3ms/sample - loss: 1.5563 - acc: 0.4692 - val_loss: 1.5471 - val_acc: 0.4685\n",
      "Epoch 5/50\n",
      "50000/50000 [==============================] - 156s 3ms/sample - loss: 1.5081 - acc: 0.4849 - val_loss: 1.5045 - val_acc: 0.4841\n",
      "Epoch 6/50\n",
      "50000/50000 [==============================] - 158s 3ms/sample - loss: 1.4763 - acc: 0.4935 - val_loss: 1.4800 - val_acc: 0.4906\n",
      "Epoch 7/50\n",
      "50000/50000 [==============================] - 160s 3ms/sample - loss: 1.4505 - acc: 0.5006 - val_loss: 1.4585 - val_acc: 0.4972\n",
      "Epoch 8/50\n",
      "50000/50000 [==============================] - 159s 3ms/sample - loss: 1.4295 - acc: 0.5093 - val_loss: 1.4394 - val_acc: 0.5004\n",
      "Epoch 9/50\n",
      "50000/50000 [==============================] - 159s 3ms/sample - loss: 1.4117 - acc: 0.5131 - val_loss: 1.4268 - val_acc: 0.5037\n",
      "Epoch 10/50\n",
      "50000/50000 [==============================] - 156s 3ms/sample - loss: 1.3984 - acc: 0.5166 - val_loss: 1.4145 - val_acc: 0.5110\n",
      "Epoch 11/50\n",
      "50000/50000 [==============================] - 158s 3ms/sample - loss: 1.3853 - acc: 0.5222 - val_loss: 1.4014 - val_acc: 0.5159\n",
      "Epoch 12/50\n",
      "50000/50000 [==============================] - 162s 3ms/sample - loss: 1.3743 - acc: 0.5255 - val_loss: 1.3953 - val_acc: 0.5144\n",
      "Epoch 13/50\n",
      "50000/50000 [==============================] - 161s 3ms/sample - loss: 1.3656 - acc: 0.5262 - val_loss: 1.3848 - val_acc: 0.5187\n",
      "Epoch 14/50\n",
      "50000/50000 [==============================] - 164s 3ms/sample - loss: 1.3536 - acc: 0.5314 - val_loss: 1.3715 - val_acc: 0.5244\n",
      "Epoch 15/50\n",
      "50000/50000 [==============================] - 164s 3ms/sample - loss: 1.3463 - acc: 0.5334 - val_loss: 1.3725 - val_acc: 0.5193\n",
      "Epoch 16/50\n",
      "50000/50000 [==============================] - 165s 3ms/sample - loss: 1.3385 - acc: 0.5367 - val_loss: 1.3642 - val_acc: 0.5287\n",
      "Epoch 17/50\n",
      "50000/50000 [==============================] - 169s 3ms/sample - loss: 1.3323 - acc: 0.5396 - val_loss: 1.3622 - val_acc: 0.5246\n",
      "Epoch 18/50\n",
      "50000/50000 [==============================] - 170s 3ms/sample - loss: 1.3283 - acc: 0.5411 - val_loss: 1.3505 - val_acc: 0.5329\n",
      "Epoch 19/50\n",
      "50000/50000 [==============================] - 175s 4ms/sample - loss: 1.3227 - acc: 0.5424 - val_loss: 1.3690 - val_acc: 0.5173\n",
      "Epoch 20/50\n",
      "50000/50000 [==============================] - 168s 3ms/sample - loss: 1.3210 - acc: 0.5429 - val_loss: 1.3503 - val_acc: 0.5290\n",
      "Epoch 21/50\n",
      "50000/50000 [==============================] - 166s 3ms/sample - loss: 1.3123 - acc: 0.5451 - val_loss: 1.3422 - val_acc: 0.5321\n",
      "Epoch 22/50\n",
      "50000/50000 [==============================] - 166s 3ms/sample - loss: 1.3059 - acc: 0.5465 - val_loss: 1.3331 - val_acc: 0.5363\n",
      "Epoch 23/50\n",
      "50000/50000 [==============================] - 159s 3ms/sample - loss: 1.3027 - acc: 0.5487 - val_loss: 1.3360 - val_acc: 0.5342\n",
      "Epoch 24/50\n",
      "50000/50000 [==============================] - 156s 3ms/sample - loss: 1.2996 - acc: 0.5503 - val_loss: 1.3369 - val_acc: 0.5349\n",
      "Epoch 25/50\n",
      "50000/50000 [==============================] - 126s 3ms/sample - loss: 1.2927 - acc: 0.5531 - val_loss: 1.3292 - val_acc: 0.5358\n",
      "Epoch 26/50\n",
      "50000/50000 [==============================] - 127s 3ms/sample - loss: 1.2901 - acc: 0.5526 - val_loss: 1.3230 - val_acc: 0.5387\n",
      "Epoch 27/50\n",
      "50000/50000 [==============================] - 124s 2ms/sample - loss: 1.2838 - acc: 0.5552 - val_loss: 1.3161 - val_acc: 0.5415\n",
      "Epoch 28/50\n",
      "50000/50000 [==============================] - 126s 3ms/sample - loss: 1.2848 - acc: 0.5550 - val_loss: 1.3234 - val_acc: 0.5381\n",
      "Epoch 29/50\n",
      "50000/50000 [==============================] - 134s 3ms/sample - loss: 1.2830 - acc: 0.5548 - val_loss: 1.3070 - val_acc: 0.5435\n",
      "Epoch 30/50\n",
      "50000/50000 [==============================] - 127s 3ms/sample - loss: 1.2765 - acc: 0.5567 - val_loss: 1.3153 - val_acc: 0.5378\n",
      "Epoch 31/50\n",
      "50000/50000 [==============================] - 128s 3ms/sample - loss: 1.2722 - acc: 0.5580 - val_loss: 1.3103 - val_acc: 0.5443\n",
      "Epoch 32/50\n",
      "50000/50000 [==============================] - 127s 3ms/sample - loss: 1.2720 - acc: 0.5590 - val_loss: 1.3040 - val_acc: 0.5469\n",
      "Epoch 33/50\n",
      "50000/50000 [==============================] - 123s 2ms/sample - loss: 1.2703 - acc: 0.5585 - val_loss: 1.3111 - val_acc: 0.5476\n",
      "Epoch 34/50\n",
      "50000/50000 [==============================] - 124s 2ms/sample - loss: 1.2682 - acc: 0.5604 - val_loss: 1.3067 - val_acc: 0.5481\n",
      "Epoch 35/50\n",
      "50000/50000 [==============================] - 126s 3ms/sample - loss: 1.2637 - acc: 0.5625 - val_loss: 1.2960 - val_acc: 0.5515\n",
      "Epoch 36/50\n",
      "50000/50000 [==============================] - 128s 3ms/sample - loss: 1.2615 - acc: 0.5617 - val_loss: 1.3034 - val_acc: 0.5486\n",
      "Epoch 37/50\n",
      "50000/50000 [==============================] - 127s 3ms/sample - loss: 1.2601 - acc: 0.5620 - val_loss: 1.2934 - val_acc: 0.5502\n",
      "Epoch 38/50\n",
      "50000/50000 [==============================] - 129s 3ms/sample - loss: 1.2588 - acc: 0.5633 - val_loss: 1.2942 - val_acc: 0.5520\n",
      "Epoch 39/50\n",
      "50000/50000 [==============================] - 128s 3ms/sample - loss: 1.2599 - acc: 0.5619 - val_loss: 1.3036 - val_acc: 0.5458\n",
      "Epoch 40/50\n",
      "50000/50000 [==============================] - 128s 3ms/sample - loss: 1.2540 - acc: 0.5641 - val_loss: 1.2970 - val_acc: 0.5545\n",
      "Epoch 41/50\n",
      "50000/50000 [==============================] - 128s 3ms/sample - loss: 1.2506 - acc: 0.5659 - val_loss: 1.2816 - val_acc: 0.5528\n",
      "Epoch 42/50\n",
      "50000/50000 [==============================] - 128s 3ms/sample - loss: 1.2485 - acc: 0.5671 - val_loss: 1.2910 - val_acc: 0.5529\n",
      "Epoch 43/50\n",
      "50000/50000 [==============================] - 128s 3ms/sample - loss: 1.2462 - acc: 0.5678 - val_loss: 1.2787 - val_acc: 0.5537\n",
      "Epoch 44/50\n",
      "50000/50000 [==============================] - 128s 3ms/sample - loss: 1.2482 - acc: 0.5668 - val_loss: 1.2957 - val_acc: 0.5436\n",
      "Epoch 45/50\n",
      "50000/50000 [==============================] - 129s 3ms/sample - loss: 1.2422 - acc: 0.5703 - val_loss: 1.2873 - val_acc: 0.5531\n",
      "Epoch 46/50\n",
      "50000/50000 [==============================] - 128s 3ms/sample - loss: 1.2425 - acc: 0.5698 - val_loss: 1.2831 - val_acc: 0.5557\n",
      "Epoch 47/50\n",
      "50000/50000 [==============================] - 127s 3ms/sample - loss: 1.2446 - acc: 0.5687 - val_loss: 1.2761 - val_acc: 0.5585\n",
      "Epoch 48/50\n",
      "50000/50000 [==============================] - 129s 3ms/sample - loss: 1.2382 - acc: 0.5709 - val_loss: 1.2810 - val_acc: 0.5508\n",
      "Epoch 49/50\n",
      "50000/50000 [==============================] - 128s 3ms/sample - loss: 1.2398 - acc: 0.5699 - val_loss: 1.2748 - val_acc: 0.5572\n",
      "Epoch 50/50\n",
      "50000/50000 [==============================] - 127s 3ms/sample - loss: 1.2376 - acc: 0.5711 - val_loss: 1.2765 - val_acc: 0.5539\n"
     ]
    },
    {
     "data": {
      "text/plain": [
       "<keras.callbacks.History at 0x157600100>"
      ]
     },
     "execution_count": 7,
     "metadata": {},
     "output_type": "execute_result"
    }
   ],
   "source": [
    "# Compile model\n",
    "vgg_model.compile(optimizer=vgg_optimizer, loss=vgg_loss, metrics=['accuracy'])\n",
    "# Train model\n",
    "vgg_model.fit(x_train, y_train,\n",
    "          epochs=epochs,\n",
    "          validation_data=(x_test, y_test),\n",
    "          batch_size=batch_size)"
   ]
  },
  {
   "cell_type": "code",
   "execution_count": 8,
   "id": "1e37c9cb",
   "metadata": {},
   "outputs": [],
   "source": [
    "# noise_multiplier = FLAGS.noise_multiplier\n",
    "# sampling_probability = FLAGS.batch_size / 60000\n",
    "# steps = FLAGS.epochs * 60000 // FLAGS.batch_size"
   ]
  },
  {
   "cell_type": "code",
   "execution_count": 9,
   "id": "0d5da992",
   "metadata": {},
   "outputs": [],
   "source": [
    "# from absl import app\n",
    "# from absl import flags\n",
    "# from absl import logging\n",
    "# FLAGS = flags.FLAGS\n",
    "orders = [1 + x / 10. for x in range(1, 100)] + list(range(12, 64))\n",
    "rdp = compute_rdp(q = batch_size / 50000,\n",
    "                  noise_multiplier = noise_multiplier,\n",
    "                  steps = epochs * 50000 // batch_size,\n",
    "                  orders=orders)"
   ]
  },
  {
   "cell_type": "code",
   "execution_count": 10,
   "id": "ae030b39",
   "metadata": {},
   "outputs": [
    {
     "data": {
      "text/plain": [
       "4.980956406486334"
      ]
     },
     "execution_count": 10,
     "metadata": {},
     "output_type": "execute_result"
    }
   ],
   "source": [
    "epsilon = get_privacy_spent(orders, rdp, target_delta=1e-5)[0]\n",
    "epsilon"
   ]
  },
  {
   "cell_type": "code",
   "execution_count": null,
   "id": "bdb734b4",
   "metadata": {},
   "outputs": [],
   "source": []
  }
 ],
 "metadata": {
  "kernelspec": {
   "display_name": "Python 3 (ipykernel)",
   "language": "python",
   "name": "python3"
  },
  "language_info": {
   "codemirror_mode": {
    "name": "ipython",
    "version": 3
   },
   "file_extension": ".py",
   "mimetype": "text/x-python",
   "name": "python",
   "nbconvert_exporter": "python",
   "pygments_lexer": "ipython3",
   "version": "3.9.10"
  }
 },
 "nbformat": 4,
 "nbformat_minor": 5
}
