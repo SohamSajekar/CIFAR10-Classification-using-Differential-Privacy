{
 "cells": [
  {
   "cell_type": "code",
   "execution_count": 1,
   "id": "074e486c",
   "metadata": {},
   "outputs": [],
   "source": [
    "import numpy as np\n",
    "import pandas as pd\n",
    "import tensorflow as tf\n",
    "import tensorflow_privacy\n",
    "import matplotlib.pyplot as plt\n",
    "from tensorflow.keras.datasets import cifar10\n",
    "from tensorflow_privacy.privacy.analysis import compute_dp_sgd_privacy\n",
    "%matplotlib inline"
   ]
  },
  {
   "cell_type": "code",
   "execution_count": 2,
   "id": "ff56b8f7",
   "metadata": {},
   "outputs": [
    {
     "name": "stdout",
     "output_type": "stream",
     "text": [
      "training: (50000, 32, 32, 3) (50000, 1)\n",
      "testing: (10000, 32, 32, 3) (10000, 1)\n"
     ]
    }
   ],
   "source": [
    "# Loading cifar10 image dataset\n",
    "data_train, data_test = cifar10.load_data()\n",
    "x_train, y_train = data_train\n",
    "x_test, y_test = data_test\n",
    "\n",
    "# Normalizing pixel values of images\n",
    "x_train = x_train / 255.0\n",
    "x_test = x_test / 255.0\n",
    "\n",
    "# Flattening images in dataset\n",
    "y_train = y_train.flatten().reshape(y_train.shape[0], 1)\n",
    "y_test = y_test.flatten().reshape(y_test.shape[0], 1)\n",
    "\n",
    "# One hot encoding of labels/target column\n",
    "# y_train = tf.keras.utils.to_categorical(y_train, num_classes=10)\n",
    "# y_test = tf.keras.utils.to_categorical(y_test, num_classes=10)\n",
    "\n",
    "print(\"training:\", x_train.shape, y_train.shape)\n",
    "print(\"testing:\", x_test.shape, y_test.shape)"
   ]
  },
  {
   "cell_type": "code",
   "execution_count": 3,
   "id": "d1ccfabc",
   "metadata": {},
   "outputs": [],
   "source": [
    "## Model1: Simple CNN"
   ]
  },
  {
   "cell_type": "code",
   "execution_count": 4,
   "id": "ace00f73",
   "metadata": {},
   "outputs": [],
   "source": [
    "## Model2: ResNet with transfer learning"
   ]
  },
  {
   "cell_type": "code",
   "execution_count": 5,
   "id": "b4262d67",
   "metadata": {},
   "outputs": [],
   "source": [
    "## Model3: HOG classification"
   ]
  },
  {
   "cell_type": "code",
   "execution_count": null,
   "id": "c2e8335f",
   "metadata": {},
   "outputs": [],
   "source": []
  }
 ],
 "metadata": {
  "kernelspec": {
   "display_name": "Python 3 (ipykernel)",
   "language": "python",
   "name": "python3"
  },
  "language_info": {
   "codemirror_mode": {
    "name": "ipython",
    "version": 3
   },
   "file_extension": ".py",
   "mimetype": "text/x-python",
   "name": "python",
   "nbconvert_exporter": "python",
   "pygments_lexer": "ipython3",
   "version": "3.9.10"
  }
 },
 "nbformat": 4,
 "nbformat_minor": 5
}
