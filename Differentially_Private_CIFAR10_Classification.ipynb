{
 "cells": [
  {
   "cell_type": "markdown",
   "id": "84d0b2ea",
   "metadata": {},
   "source": [
    "### Import libraries"
   ]
  },
  {
   "cell_type": "code",
   "execution_count": 17,
   "id": "074e486c",
   "metadata": {},
   "outputs": [],
   "source": [
    "import numpy as np\n",
    "import pandas as pd\n",
    "from absl import flags\n",
    "import tensorflow as tf\n",
    "import tensorflow_privacy\n",
    "import matplotlib.pyplot as plt\n",
    "from tensorflow.keras.datasets import cifar10\n",
    "from tensorflow_privacy.privacy.analysis import compute_dp_sgd_privacy\n",
    "from tensorflow_privacy.privacy.analysis.rdp_accountant import compute_rdp\n",
    "from tensorflow_privacy.privacy.analysis.rdp_accountant import get_privacy_spent\n",
    "%matplotlib inline\n",
    "tf.get_logger().setLevel('ERROR')\n",
    "tf.compat.v1.disable_v2_behavior()\n",
    "\n",
    "\n"
   ]
  },
  {
   "cell_type": "markdown",
   "id": "83ae37ef",
   "metadata": {},
   "source": [
    "### Load Dataset"
   ]
  },
  {
   "cell_type": "code",
   "execution_count": 8,
   "id": "cecc27bc",
   "metadata": {},
   "outputs": [
    {
     "name": "stdout",
     "output_type": "stream",
     "text": [
      "training: (50000, 32, 32, 3) (50000, 10)\n",
      "testing: (10000, 32, 32, 3) (10000, 10)\n"
     ]
    }
   ],
   "source": [
    "# Loading cifar10 image dataset\n",
    "data_train, data_test = cifar10.load_data()\n",
    "x_train, y_train = data_train\n",
    "x_test, y_test = data_test\n",
    "\n",
    "# Normalizing pixel values of images\n",
    "x_train = x_train / 255.0\n",
    "x_test = x_test / 255.0\n",
    "\n",
    "# Flattening images in dataset\n",
    "y_train = y_train.flatten().reshape(y_train.shape[0], 1)\n",
    "y_test = y_test.flatten().reshape(y_test.shape[0], 1)\n",
    "\n",
    "# One hot encoding of labels/target column\n",
    "y_train = tf.keras.utils.to_categorical(y_train, num_classes=10)\n",
    "y_test = tf.keras.utils.to_categorical(y_test, num_classes=10)\n",
    "\n",
    "print(\"training:\", x_train.shape, y_train.shape)\n",
    "print(\"testing:\", x_test.shape, y_test.shape)"
   ]
  },
  {
   "cell_type": "markdown",
   "id": "69813367",
   "metadata": {},
   "source": [
    "### Model1: Simple CNN"
   ]
  },
  {
   "cell_type": "code",
   "execution_count": 11,
   "id": "e51ed758",
   "metadata": {},
   "outputs": [],
   "source": [
    "# Hyper-parameters\n",
    "epochs = 20\n",
    "batch_size = 500\n",
    "\n",
    "l2_norm_clip = 1.5\n",
    "noise_multiplier = 1.3\n",
    "num_microbatches = 250\n",
    "learning_rate = 0.25\n",
    "\n",
    "if batch_size % num_microbatches != 0:\n",
    "    raise ValueError('Batch size should be an integer multiple of the number of microbatches')"
   ]
  },
  {
   "cell_type": "code",
   "execution_count": 12,
   "id": "cc133894",
   "metadata": {},
   "outputs": [],
   "source": [
    "# Define model\n",
    "model = tf.keras.Sequential([\n",
    "    tf.keras.layers.Conv2D(16, 8,\n",
    "                           strides=2,\n",
    "                           padding='same',\n",
    "                           activation='relu',\n",
    "                           input_shape=(32, 32, 3)),\n",
    "    tf.keras.layers.MaxPool2D(2, 1),\n",
    "    tf.keras.layers.Conv2D(32, 4,\n",
    "                           strides=2,\n",
    "                           padding='valid',\n",
    "                           activation='relu'),\n",
    "    tf.keras.layers.MaxPool2D(2, 1),\n",
    "    tf.keras.layers.Flatten(),\n",
    "    tf.keras.layers.Dense(32, activation='relu'),\n",
    "    tf.keras.layers.Dense(10)\n",
    "])"
   ]
  },
  {
   "cell_type": "code",
   "execution_count": 13,
   "id": "7017c9a9",
   "metadata": {},
   "outputs": [],
   "source": [
    "# define optimizer (dp-sgd) \n",
    "optimizer = tensorflow_privacy.DPKerasSGDOptimizer(\n",
    "    l2_norm_clip=l2_norm_clip,\n",
    "    noise_multiplier=noise_multiplier,\n",
    "    num_microbatches=num_microbatches,\n",
    "    learning_rate=learning_rate)\n",
    "# define loss function\n",
    "loss = tf.keras.losses.CategoricalCrossentropy(\n",
    "    from_logits=True, reduction=tf.losses.Reduction.NONE)"
   ]
  },
  {
   "cell_type": "code",
   "execution_count": 14,
   "id": "6e0fb7f2",
   "metadata": {},
   "outputs": [
    {
     "name": "stdout",
     "output_type": "stream",
     "text": [
      "Train on 50000 samples, validate on 10000 samples\n"
     ]
    },
    {
     "name": "stderr",
     "output_type": "stream",
     "text": [
      "2022-03-08 16:42:30.484258: I tensorflow/core/grappler/optimizers/custom_graph_optimizer_registry.cc:113] Plugin optimizer for device_type GPU is enabled.\n",
      "2022-03-08 16:42:31.402756: I tensorflow/core/grappler/optimizers/custom_graph_optimizer_registry.cc:113] Plugin optimizer for device_type GPU is enabled.\n"
     ]
    },
    {
     "name": "stdout",
     "output_type": "stream",
     "text": [
      "Epoch 1/20\n"
     ]
    },
    {
     "name": "stderr",
     "output_type": "stream",
     "text": [
      "2022-03-08 16:42:31.686466: I tensorflow/core/grappler/optimizers/custom_graph_optimizer_registry.cc:113] Plugin optimizer for device_type GPU is enabled.\n",
      "2022-03-08 16:42:31.846137: I tensorflow/core/grappler/optimizers/custom_graph_optimizer_registry.cc:113] Plugin optimizer for device_type GPU is enabled.\n"
     ]
    },
    {
     "name": "stdout",
     "output_type": "stream",
     "text": [
      "50000/50000 [==============================] - ETA: 0s - loss: 2.2188 - acc: 0.1664 "
     ]
    },
    {
     "name": "stderr",
     "output_type": "stream",
     "text": [
      "2022-03-08 17:04:09.816648: I tensorflow/core/grappler/optimizers/custom_graph_optimizer_registry.cc:113] Plugin optimizer for device_type GPU is enabled.\n"
     ]
    },
    {
     "name": "stdout",
     "output_type": "stream",
     "text": [
      "50000/50000 [==============================] - 1299s 26ms/sample - loss: 2.2188 - acc: 0.1664 - val_loss: 2.1000 - val_acc: 0.2320\n",
      "Epoch 2/20\n",
      "50000/50000 [==============================] - 1223s 24ms/sample - loss: 2.0589 - acc: 0.2534 - val_loss: 1.9255 - val_acc: 0.3094\n",
      "Epoch 3/20\n",
      "50000/50000 [==============================] - 1212s 24ms/sample - loss: 1.9223 - acc: 0.3040 - val_loss: 1.8572 - val_acc: 0.3305\n",
      "Epoch 4/20\n",
      "50000/50000 [==============================] - 1217s 24ms/sample - loss: 1.8465 - acc: 0.3341 - val_loss: 1.8674 - val_acc: 0.3170\n",
      "Epoch 5/20\n",
      "50000/50000 [==============================] - 1208s 24ms/sample - loss: 1.7838 - acc: 0.3603 - val_loss: 1.7684 - val_acc: 0.3776\n",
      "Epoch 6/20\n",
      "50000/50000 [==============================] - 1221s 24ms/sample - loss: 1.7363 - acc: 0.3805 - val_loss: 1.7594 - val_acc: 0.3869\n",
      "Epoch 7/20\n",
      "50000/50000 [==============================] - 1227s 25ms/sample - loss: 1.6895 - acc: 0.4000 - val_loss: 1.7437 - val_acc: 0.3961\n",
      "Epoch 8/20\n",
      "50000/50000 [==============================] - 1232s 25ms/sample - loss: 1.6553 - acc: 0.4126 - val_loss: 1.7729 - val_acc: 0.3945\n",
      "Epoch 9/20\n",
      "50000/50000 [==============================] - 5825s 117ms/sample - loss: 1.6323 - acc: 0.4222 - val_loss: 1.6060 - val_acc: 0.4333\n",
      "Epoch 10/20\n",
      "50000/50000 [==============================] - 1117s 22ms/sample - loss: 1.6018 - acc: 0.4336 - val_loss: 1.5822 - val_acc: 0.4450\n",
      "Epoch 11/20\n",
      "50000/50000 [==============================] - 1039s 21ms/sample - loss: 1.5889 - acc: 0.4379 - val_loss: 1.5902 - val_acc: 0.4357\n",
      "Epoch 12/20\n",
      "50000/50000 [==============================] - 1025s 20ms/sample - loss: 1.5790 - acc: 0.4460 - val_loss: 1.5426 - val_acc: 0.4531\n",
      "Epoch 13/20\n",
      "50000/50000 [==============================] - 1025s 20ms/sample - loss: 1.5639 - acc: 0.4498 - val_loss: 1.5619 - val_acc: 0.4531\n",
      "Epoch 14/20\n",
      "50000/50000 [==============================] - 1025s 21ms/sample - loss: 1.5480 - acc: 0.4561 - val_loss: 1.5501 - val_acc: 0.4573\n",
      "Epoch 15/20\n",
      "50000/50000 [==============================] - 1039s 21ms/sample - loss: 1.5547 - acc: 0.4553 - val_loss: 1.5438 - val_acc: 0.4605\n",
      "Epoch 16/20\n",
      "50000/50000 [==============================] - 1042s 21ms/sample - loss: 1.5478 - acc: 0.4599 - val_loss: 1.5256 - val_acc: 0.4664\n",
      "Epoch 17/20\n",
      "50000/50000 [==============================] - 1023s 20ms/sample - loss: 1.5428 - acc: 0.4647 - val_loss: 1.5338 - val_acc: 0.4664\n",
      "Epoch 18/20\n",
      "50000/50000 [==============================] - 1027s 21ms/sample - loss: 1.5238 - acc: 0.4682 - val_loss: 1.5316 - val_acc: 0.4623\n",
      "Epoch 19/20\n",
      "50000/50000 [==============================] - 1030s 21ms/sample - loss: 1.5256 - acc: 0.4698 - val_loss: 1.5590 - val_acc: 0.4522\n",
      "Epoch 20/20\n",
      "50000/50000 [==============================] - 1020s 20ms/sample - loss: 1.5127 - acc: 0.4746 - val_loss: 1.5057 - val_acc: 0.4736\n"
     ]
    },
    {
     "data": {
      "text/plain": [
       "<keras.callbacks.History at 0x4a21c5700>"
      ]
     },
     "execution_count": 14,
     "metadata": {},
     "output_type": "execute_result"
    }
   ],
   "source": [
    "# Compile model\n",
    "model.compile(optimizer=optimizer, loss=loss, metrics=['accuracy'])\n",
    "# Train model\n",
    "model.fit(x_train, y_train,\n",
    "          epochs=epochs,\n",
    "          validation_data=(x_test, y_test),\n",
    "          batch_size=batch_size)"
   ]
  },
  {
   "cell_type": "code",
   "execution_count": 15,
   "id": "dad27007",
   "metadata": {},
   "outputs": [
    {
     "name": "stdout",
     "output_type": "stream",
     "text": [
      "DP-SGD with sampling rate = 1% and noise_multiplier = 1.3 iterated over 2000 steps satisfies differential privacy with eps = 1.8 and delta = 1e-05.\n",
      "The optimal RDP order is 11.0.\n"
     ]
    },
    {
     "data": {
      "text/plain": [
       "(1.798929515280597, 11.0)"
      ]
     },
     "execution_count": 15,
     "metadata": {},
     "output_type": "execute_result"
    }
   ],
   "source": [
    "# Calculate privacy performance\n",
    "compute_dp_sgd_privacy.compute_dp_sgd_privacy(n=x_train.shape[0],\n",
    "                                              batch_size=batch_size,\n",
    "                                              noise_multiplier=noise_multiplier,\n",
    "                                              epochs=epochs,\n",
    "                                              delta=1e-5)"
   ]
  },
  {
   "cell_type": "markdown",
   "id": "e15d91bb",
   "metadata": {},
   "source": [
    "### Model2: ResNet with transfer learning"
   ]
  },
  {
   "cell_type": "code",
   "execution_count": 26,
   "id": "d9e42f17",
   "metadata": {},
   "outputs": [],
   "source": [
    "# Hyper-parameters\n",
    "epochs = 50\n",
    "batch_size = 500\n",
    "\n",
    "l2_norm_clip = 1.5\n",
    "noise_multiplier = 1.3\n",
    "num_microbatches = 250\n",
    "learning_rate = 0.25\n",
    "\n",
    "if batch_size % num_microbatches != 0:\n",
    "    raise ValueError('Batch size should be an integer multiple of the number of microbatches')"
   ]
  },
  {
   "cell_type": "code",
   "execution_count": 27,
   "id": "47989ed6",
   "metadata": {},
   "outputs": [
    {
     "name": "stderr",
     "output_type": "stream",
     "text": [
      "2022-03-10 16:03:04.808216: I tensorflow/core/grappler/optimizers/custom_graph_optimizer_registry.cc:113] Plugin optimizer for device_type GPU is enabled.\n",
      "2022-03-10 16:03:05.178870: I tensorflow/core/grappler/optimizers/custom_graph_optimizer_registry.cc:113] Plugin optimizer for device_type GPU is enabled.\n",
      "2022-03-10 16:03:05.623496: I tensorflow/core/grappler/optimizers/custom_graph_optimizer_registry.cc:113] Plugin optimizer for device_type GPU is enabled.\n"
     ]
    }
   ],
   "source": [
    "#Building a ResNet model with pretrained weights\n",
    "\n",
    "vgg_model=tf.keras.Sequential()\n",
    "\n",
    "#https://keras.io/api/applications/vgg/#vgg16-function\n",
    "#https://keras.io/guides/transfer_learning/\n",
    "#https://chroniclesofai.com/transfer-learning-with-keras-resnet-50/\n",
    "pre_vgg_model=tf.keras.applications.VGG16(include_top=False,weights=\"imagenet\",classes=10,pooling=max,input_shape=(32,32,3))\n",
    "pre_vgg_model.trainable=False\n",
    "vgg_model.add(pre_vgg_model)\n",
    "vgg_model.add(tf.keras.layers.Flatten())\n",
    "vgg_model.add(tf.keras.layers.Dense(512, activation='relu'))\n",
    "vgg_model.add(tf.keras.layers.Dense(10, activation='softmax'))\n"
   ]
  },
  {
   "cell_type": "code",
   "execution_count": 28,
   "id": "f45e1ca3",
   "metadata": {},
   "outputs": [
    {
     "name": "stdout",
     "output_type": "stream",
     "text": [
      "Model: \"sequential_4\"\n",
      "_________________________________________________________________\n",
      " Layer (type)                Output Shape              Param #   \n",
      "=================================================================\n",
      " vgg16 (Functional)          (None, 1, 1, 512)         14714688  \n",
      "                                                                 \n",
      " flatten_2 (Flatten)         (None, 512)               0         \n",
      "                                                                 \n",
      " dense_4 (Dense)             (None, 512)               262656    \n",
      "                                                                 \n",
      " dense_5 (Dense)             (None, 10)                5130      \n",
      "                                                                 \n",
      "=================================================================\n",
      "Total params: 14,982,474\n",
      "Trainable params: 267,786\n",
      "Non-trainable params: 14,714,688\n",
      "_________________________________________________________________\n"
     ]
    }
   ],
   "source": [
    "vgg_model.summary()"
   ]
  },
  {
   "cell_type": "code",
   "execution_count": 29,
   "id": "c1d190e6",
   "metadata": {},
   "outputs": [],
   "source": [
    "\n",
    "# define optimizer (dp-sgd) \n",
    "vgg_optimizer = tensorflow_privacy.DPKerasSGDOptimizer(\n",
    "    l2_norm_clip=l2_norm_clip,\n",
    "    noise_multiplier=noise_multiplier,\n",
    "    num_microbatches=num_microbatches,\n",
    "    learning_rate=learning_rate)\n",
    "# define loss function\n",
    "vgg_loss = tf.keras.losses.CategoricalCrossentropy(\n",
    "    from_logits=True, reduction=tf.losses.Reduction.NONE)"
   ]
  },
  {
   "cell_type": "code",
   "execution_count": 30,
   "id": "8073901b",
   "metadata": {},
   "outputs": [
    {
     "name": "stdout",
     "output_type": "stream",
     "text": [
      "Train on 50000 samples, validate on 10000 samples\n"
     ]
    },
    {
     "name": "stderr",
     "output_type": "stream",
     "text": [
      "2022-03-10 16:03:18.918033: I tensorflow/core/grappler/optimizers/custom_graph_optimizer_registry.cc:113] Plugin optimizer for device_type GPU is enabled.\n",
      "2022-03-10 16:03:19.508836: I tensorflow/core/grappler/optimizers/custom_graph_optimizer_registry.cc:113] Plugin optimizer for device_type GPU is enabled.\n",
      "2022-03-10 16:03:19.670580: I tensorflow/core/grappler/optimizers/custom_graph_optimizer_registry.cc:113] Plugin optimizer for device_type GPU is enabled.\n"
     ]
    },
    {
     "name": "stdout",
     "output_type": "stream",
     "text": [
      "Epoch 1/50\n"
     ]
    },
    {
     "name": "stderr",
     "output_type": "stream",
     "text": [
      "2022-03-10 16:03:19.988683: I tensorflow/core/grappler/optimizers/custom_graph_optimizer_registry.cc:113] Plugin optimizer for device_type GPU is enabled.\n"
     ]
    },
    {
     "name": "stdout",
     "output_type": "stream",
     "text": [
      "50000/50000 [==============================] - ETA: 0s - loss: 1.9535 - acc: 0.3352"
     ]
    },
    {
     "name": "stderr",
     "output_type": "stream",
     "text": [
      "2022-03-10 16:12:39.952061: I tensorflow/core/grappler/optimizers/custom_graph_optimizer_registry.cc:113] Plugin optimizer for device_type GPU is enabled.\n"
     ]
    },
    {
     "name": "stdout",
     "output_type": "stream",
     "text": [
      "50000/50000 [==============================] - 568s 11ms/sample - loss: 1.9535 - acc: 0.3352 - val_loss: 1.7484 - val_acc: 0.3937\n",
      "Epoch 2/50\n",
      "50000/50000 [==============================] - 508s 10ms/sample - loss: 1.6478 - acc: 0.4352 - val_loss: 1.5992 - val_acc: 0.4455\n",
      "Epoch 3/50\n",
      "50000/50000 [==============================] - 520s 10ms/sample - loss: 1.5467 - acc: 0.4633 - val_loss: 1.5284 - val_acc: 0.4649\n",
      "Epoch 4/50\n",
      "50000/50000 [==============================] - 525s 11ms/sample - loss: 1.4940 - acc: 0.4773 - val_loss: 1.4873 - val_acc: 0.4801\n",
      "Epoch 5/50\n",
      "50000/50000 [==============================] - 524s 10ms/sample - loss: 1.4583 - acc: 0.4924 - val_loss: 1.4691 - val_acc: 0.4873\n",
      "Epoch 6/50\n",
      "50000/50000 [==============================] - 529s 11ms/sample - loss: 1.4342 - acc: 0.5014 - val_loss: 1.4475 - val_acc: 0.4916\n",
      "Epoch 7/50\n",
      "50000/50000 [==============================] - 516s 10ms/sample - loss: 1.4157 - acc: 0.5084 - val_loss: 1.4292 - val_acc: 0.5010\n",
      "Epoch 8/50\n",
      "50000/50000 [==============================] - 525s 10ms/sample - loss: 1.4014 - acc: 0.5139 - val_loss: 1.4225 - val_acc: 0.5049\n",
      "Epoch 9/50\n",
      "50000/50000 [==============================] - 529s 11ms/sample - loss: 1.3859 - acc: 0.5200 - val_loss: 1.4057 - val_acc: 0.5127\n",
      "Epoch 10/50\n",
      "50000/50000 [==============================] - 522s 10ms/sample - loss: 1.3790 - acc: 0.5226 - val_loss: 1.4035 - val_acc: 0.5169\n",
      "Epoch 11/50\n",
      "50000/50000 [==============================] - 516s 10ms/sample - loss: 1.3729 - acc: 0.5268 - val_loss: 1.3948 - val_acc: 0.5190\n",
      "Epoch 12/50\n",
      "50000/50000 [==============================] - 518s 10ms/sample - loss: 1.3683 - acc: 0.5287 - val_loss: 1.3967 - val_acc: 0.5220\n",
      "Epoch 13/50\n",
      "50000/50000 [==============================] - 523s 10ms/sample - loss: 1.3622 - acc: 0.5333 - val_loss: 1.3948 - val_acc: 0.5231\n",
      "Epoch 14/50\n",
      "50000/50000 [==============================] - 516s 10ms/sample - loss: 1.3579 - acc: 0.5358 - val_loss: 1.3824 - val_acc: 0.5262\n",
      "Epoch 15/50\n",
      "50000/50000 [==============================] - 514s 10ms/sample - loss: 1.3513 - acc: 0.5393 - val_loss: 1.3819 - val_acc: 0.5260\n",
      "Epoch 16/50\n",
      "50000/50000 [==============================] - 514s 10ms/sample - loss: 1.3535 - acc: 0.5377 - val_loss: 1.3846 - val_acc: 0.5281\n",
      "Epoch 17/50\n",
      "50000/50000 [==============================] - 527s 11ms/sample - loss: 1.3459 - acc: 0.5422 - val_loss: 1.3753 - val_acc: 0.5299\n",
      "Epoch 18/50\n",
      "50000/50000 [==============================] - 511s 10ms/sample - loss: 1.3406 - acc: 0.5426 - val_loss: 1.3880 - val_acc: 0.5243\n",
      "Epoch 19/50\n",
      "50000/50000 [==============================] - 511s 10ms/sample - loss: 1.3389 - acc: 0.5450 - val_loss: 1.3707 - val_acc: 0.5354\n",
      "Epoch 20/50\n",
      "50000/50000 [==============================] - 519s 10ms/sample - loss: 1.3350 - acc: 0.5476 - val_loss: 1.3792 - val_acc: 0.5309\n",
      "Epoch 21/50\n",
      "50000/50000 [==============================] - 529s 11ms/sample - loss: 1.3312 - acc: 0.5476 - val_loss: 1.3615 - val_acc: 0.5374\n",
      "Epoch 22/50\n",
      "50000/50000 [==============================] - 544s 11ms/sample - loss: 1.3290 - acc: 0.5465 - val_loss: 1.3809 - val_acc: 0.5312\n",
      "Epoch 23/50\n",
      "50000/50000 [==============================] - 542s 11ms/sample - loss: 1.3326 - acc: 0.5467 - val_loss: 1.3743 - val_acc: 0.5322\n",
      "Epoch 24/50\n",
      "50000/50000 [==============================] - 551s 11ms/sample - loss: 1.3337 - acc: 0.5511 - val_loss: 1.3763 - val_acc: 0.5358\n",
      "Epoch 25/50\n",
      "50000/50000 [==============================] - 522s 10ms/sample - loss: 1.3344 - acc: 0.5493 - val_loss: 1.3729 - val_acc: 0.5407\n",
      "Epoch 26/50\n",
      "50000/50000 [==============================] - 507s 10ms/sample - loss: 1.3388 - acc: 0.5502 - val_loss: 1.3835 - val_acc: 0.5333\n",
      "Epoch 27/50\n",
      "50000/50000 [==============================] - 519s 10ms/sample - loss: 1.3401 - acc: 0.5510 - val_loss: 1.3873 - val_acc: 0.5367\n",
      "Epoch 28/50\n",
      "50000/50000 [==============================] - 512s 10ms/sample - loss: 1.3359 - acc: 0.5531 - val_loss: 1.3812 - val_acc: 0.5364\n",
      "Epoch 29/50\n",
      "50000/50000 [==============================] - 504s 10ms/sample - loss: 1.3334 - acc: 0.5548 - val_loss: 1.3989 - val_acc: 0.5348\n",
      "Epoch 30/50\n",
      "50000/50000 [==============================] - 516s 10ms/sample - loss: 1.3338 - acc: 0.5538 - val_loss: 1.3829 - val_acc: 0.5417\n",
      "Epoch 31/50\n",
      "50000/50000 [==============================] - 522s 10ms/sample - loss: 1.3295 - acc: 0.5567 - val_loss: 1.3911 - val_acc: 0.5350\n",
      "Epoch 32/50\n",
      "50000/50000 [==============================] - 520s 10ms/sample - loss: 1.3274 - acc: 0.5589 - val_loss: 1.3754 - val_acc: 0.5399\n",
      "Epoch 33/50\n",
      "50000/50000 [==============================] - 518s 10ms/sample - loss: 1.3271 - acc: 0.5611 - val_loss: 1.3740 - val_acc: 0.5426\n",
      "Epoch 34/50\n",
      "50000/50000 [==============================] - 522s 10ms/sample - loss: 1.3262 - acc: 0.5601 - val_loss: 1.3703 - val_acc: 0.5444\n",
      "Epoch 35/50\n",
      "50000/50000 [==============================] - 518s 10ms/sample - loss: 1.3292 - acc: 0.5585 - val_loss: 1.3930 - val_acc: 0.5416\n",
      "Epoch 36/50\n",
      "50000/50000 [==============================] - 534s 11ms/sample - loss: 1.3261 - acc: 0.5609 - val_loss: 1.3793 - val_acc: 0.5433\n",
      "Epoch 37/50\n",
      "50000/50000 [==============================] - 564s 11ms/sample - loss: 1.3262 - acc: 0.5612 - val_loss: 1.3946 - val_acc: 0.5433\n",
      "Epoch 38/50\n",
      "50000/50000 [==============================] - 520s 10ms/sample - loss: 1.3294 - acc: 0.5610 - val_loss: 1.3929 - val_acc: 0.5445\n",
      "Epoch 39/50\n",
      "50000/50000 [==============================] - 498s 10ms/sample - loss: 1.3321 - acc: 0.5623 - val_loss: 1.3951 - val_acc: 0.5425\n",
      "Epoch 40/50\n",
      "50000/50000 [==============================] - 511s 10ms/sample - loss: 1.3324 - acc: 0.5619 - val_loss: 1.3809 - val_acc: 0.5469\n",
      "Epoch 41/50\n",
      "50000/50000 [==============================] - 510s 10ms/sample - loss: 1.3318 - acc: 0.5618 - val_loss: 1.4073 - val_acc: 0.5465\n",
      "Epoch 42/50\n",
      "50000/50000 [==============================] - 498s 10ms/sample - loss: 1.3394 - acc: 0.5632 - val_loss: 1.4577 - val_acc: 0.5349\n",
      "Epoch 43/50\n",
      "50000/50000 [==============================] - 508s 10ms/sample - loss: 1.3456 - acc: 0.5629 - val_loss: 1.4064 - val_acc: 0.5391\n",
      "Epoch 44/50\n",
      "50000/50000 [==============================] - 529s 11ms/sample - loss: 1.3465 - acc: 0.5620 - val_loss: 1.4056 - val_acc: 0.5445\n",
      "Epoch 45/50\n",
      "50000/50000 [==============================] - 501s 10ms/sample - loss: 1.3437 - acc: 0.5610 - val_loss: 1.4081 - val_acc: 0.5447\n",
      "Epoch 46/50\n",
      "50000/50000 [==============================] - 496s 10ms/sample - loss: 1.3433 - acc: 0.5631 - val_loss: 1.4030 - val_acc: 0.5425\n",
      "Epoch 47/50\n",
      "50000/50000 [==============================] - 500s 10ms/sample - loss: 1.3456 - acc: 0.5649 - val_loss: 1.4020 - val_acc: 0.5422\n",
      "Epoch 48/50\n",
      "50000/50000 [==============================] - 497s 10ms/sample - loss: 1.3490 - acc: 0.5656 - val_loss: 1.4108 - val_acc: 0.5452\n",
      "Epoch 49/50\n",
      "50000/50000 [==============================] - 503s 10ms/sample - loss: 1.3564 - acc: 0.5622 - val_loss: 1.4157 - val_acc: 0.5464\n",
      "Epoch 50/50\n",
      "50000/50000 [==============================] - 498s 10ms/sample - loss: 1.3521 - acc: 0.5635 - val_loss: 1.4224 - val_acc: 0.5443\n"
     ]
    },
    {
     "data": {
      "text/plain": [
       "<keras.callbacks.History at 0x148091b80>"
      ]
     },
     "execution_count": 30,
     "metadata": {},
     "output_type": "execute_result"
    }
   ],
   "source": [
    "# Compile model\n",
    "vgg_model.compile(optimizer=vgg_optimizer, loss=vgg_loss, metrics=['accuracy'])\n",
    "# Train model\n",
    "vgg_model.fit(x_train, y_train,\n",
    "          epochs=epochs,\n",
    "          validation_data=(x_test, y_test),\n",
    "          batch_size=batch_size)\n"
   ]
  },
  {
   "cell_type": "code",
   "execution_count": 31,
   "id": "1e37c9cb",
   "metadata": {},
   "outputs": [],
   "source": [
    "# noise_multiplier = FLAGS.noise_multiplier\n",
    "# sampling_probability = FLAGS.batch_size / 60000\n",
    "# steps = FLAGS.epochs * 60000 // FLAGS.batch_size"
   ]
  },
  {
   "cell_type": "code",
   "execution_count": 32,
   "id": "0d5da992",
   "metadata": {},
   "outputs": [],
   "source": [
    "# from absl import app\n",
    "# from absl import flags\n",
    "# from absl import logging\n",
    "# FLAGS = flags.FLAGS\n",
    "orders = [1 + x / 10. for x in range(1, 100)] + list(range(12, 64))\n",
    "rdp = compute_rdp(q = batch_size / 50000,\n",
    "                  noise_multiplier = noise_multiplier,\n",
    "                  steps = epochs * 50000 // batch_size,\n",
    "                  orders=orders)"
   ]
  },
  {
   "cell_type": "code",
   "execution_count": 33,
   "id": "ae030b39",
   "metadata": {},
   "outputs": [
    {
     "data": {
      "text/plain": [
       "2.9227129242856575"
      ]
     },
     "execution_count": 33,
     "metadata": {},
     "output_type": "execute_result"
    }
   ],
   "source": [
    "epsilon = get_privacy_spent(orders, rdp, target_delta=1e-5)[0]\n",
    "epsilon"
   ]
  },
  {
   "cell_type": "code",
   "execution_count": null,
   "id": "1573f77b",
   "metadata": {},
   "outputs": [],
   "source": []
  },
  {
   "cell_type": "markdown",
   "id": "fba636e0",
   "metadata": {},
   "source": [
    "### Model3: HOG classification"
   ]
  },
  {
   "cell_type": "code",
   "execution_count": null,
   "id": "c2e8335f",
   "metadata": {},
   "outputs": [],
   "source": []
  },
  {
   "cell_type": "code",
   "execution_count": null,
   "id": "bdb734b4",
   "metadata": {},
   "outputs": [],
   "source": []
  }
 ],
 "metadata": {
  "kernelspec": {
   "display_name": "Python 3 (ipykernel)",
   "language": "python",
   "name": "python3"
  },
  "language_info": {
   "codemirror_mode": {
    "name": "ipython",
    "version": 3
   },
   "file_extension": ".py",
   "mimetype": "text/x-python",
   "name": "python",
   "nbconvert_exporter": "python",
   "pygments_lexer": "ipython3",
   "version": "3.9.10"
  }
 },
 "nbformat": 4,
 "nbformat_minor": 5
}
