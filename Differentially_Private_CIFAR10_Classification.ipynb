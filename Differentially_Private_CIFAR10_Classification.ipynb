{
 "cells": [
  {
   "cell_type": "markdown",
   "id": "84d0b2ea",
   "metadata": {},
   "source": [
    "### Import libraries"
   ]
  },
  {
   "cell_type": "code",
   "execution_count": 1,
   "id": "074e486c",
   "metadata": {},
   "outputs": [],
   "source": [
    "import numpy as np\n",
    "import pandas as pd\n",
    "from absl import flags\n",
    "import tensorflow as tf\n",
    "import tensorflow_privacy\n",
    "import matplotlib.pyplot as plt\n",
    "from tensorflow.keras.datasets import cifar10\n",
    "from tensorflow_privacy.privacy.analysis import compute_dp_sgd_privacy\n",
    "from tensorflow_privacy.privacy.analysis.rdp_accountant import compute_rdp\n",
    "from tensorflow_privacy.privacy.analysis.rdp_accountant import get_privacy_spent\n",
    "%matplotlib inline\n",
    "tf.get_logger().setLevel('ERROR')\n",
    "tf.compat.v1.disable_v2_behavior()"
   ]
  },
  {
   "cell_type": "markdown",
   "id": "83ae37ef",
   "metadata": {},
   "source": [
    "### Load Dataset"
   ]
  },
  {
   "cell_type": "code",
   "execution_count": 2,
   "id": "cecc27bc",
   "metadata": {},
   "outputs": [
    {
     "name": "stdout",
     "output_type": "stream",
     "text": [
      "training: (50000, 32, 32, 3) (50000, 10)\n",
      "testing: (10000, 32, 32, 3) (10000, 10)\n"
     ]
    }
   ],
   "source": [
    "# Loading cifar10 image dataset\n",
    "data_train, data_test = cifar10.load_data()\n",
    "x_train, y_train = data_train\n",
    "x_test, y_test = data_test\n",
    "\n",
    "# Normalizing pixel values of images\n",
    "x_train = x_train / 255.0\n",
    "x_test = x_test / 255.0\n",
    "\n",
    "# Flattening images in dataset\n",
    "y_train = y_train.flatten().reshape(y_train.shape[0], 1)\n",
    "y_test = y_test.flatten().reshape(y_test.shape[0], 1)\n",
    "\n",
    "# One hot encoding of labels/target column\n",
    "y_train = tf.keras.utils.to_categorical(y_train, num_classes=10)\n",
    "y_test = tf.keras.utils.to_categorical(y_test, num_classes=10)\n",
    "\n",
    "print(\"training:\", x_train.shape, y_train.shape)\n",
    "print(\"testing:\", x_test.shape, y_test.shape)"
   ]
  },
  {
   "cell_type": "markdown",
   "id": "dd78ba01",
   "metadata": {},
   "source": [
    "### Model3: Custom CNN"
   ]
  },
  {
   "cell_type": "code",
   "execution_count": 3,
   "id": "f74fb4bb",
   "metadata": {},
   "outputs": [
    {
     "data": {
      "text/plain": [
       "4.413400644320362"
      ]
     },
     "execution_count": 3,
     "metadata": {},
     "output_type": "execute_result"
    }
   ],
   "source": [
    "# Hyper-parameters\n",
    "epochs = 40\n",
    "batch_size = 1250\n",
    "l2_norm_clip = 1.5\n",
    "noise_multiplier = 1.3\n",
    "num_microbatches = 250\n",
    "learning_rate = 0.25\n",
    "delta = 1e-5\n",
    "\n",
    "if batch_size % num_microbatches != 0:\n",
    "    raise ValueError('Batch size should be an integer multiple of the number of microbatches')\n",
    "    \n",
    "# Compute RDP\n",
    "orders = [1 + x / 10. for x in range(1, 100)] + list(range(12, 64))\n",
    "rdp = compute_rdp(q = batch_size / 50000,\n",
    "                  noise_multiplier = noise_multiplier,\n",
    "                  steps = epochs * 50000 // batch_size,\n",
    "                  orders=orders)\n",
    "# Calculate epsilon\n",
    "epsilon = get_privacy_spent(orders, rdp, target_delta=delta)[0]\n",
    "epsilon"
   ]
  },
  {
   "cell_type": "code",
   "execution_count": 4,
   "id": "91bf5fe7",
   "metadata": {},
   "outputs": [
    {
     "name": "stdout",
     "output_type": "stream",
     "text": [
      "Model: \"sequential\"\n",
      "_________________________________________________________________\n",
      " Layer (type)                Output Shape              Param #   \n",
      "=================================================================\n",
      " conv2d (Conv2D)             (None, 32, 32, 64)        4864      \n",
      "                                                                 \n",
      " max_pooling2d (MaxPooling2D  (None, 16, 16, 64)       0         \n",
      " )                                                               \n",
      "                                                                 \n",
      " conv2d_1 (Conv2D)           (None, 12, 12, 32)        51232     \n",
      "                                                                 \n",
      " max_pooling2d_1 (MaxPooling  (None, 6, 6, 32)         0         \n",
      " 2D)                                                             \n",
      "                                                                 \n",
      " conv2d_2 (Conv2D)           (None, 2, 2, 32)          9248      \n",
      "                                                                 \n",
      " max_pooling2d_2 (MaxPooling  (None, 1, 1, 32)         0         \n",
      " 2D)                                                             \n",
      "                                                                 \n",
      " flatten (Flatten)           (None, 32)                0         \n",
      "                                                                 \n",
      " dense (Dense)               (None, 256)               8448      \n",
      "                                                                 \n",
      " dense_1 (Dense)             (None, 64)                16448     \n",
      "                                                                 \n",
      " dense_2 (Dense)             (None, 10)                650       \n",
      "                                                                 \n",
      "=================================================================\n",
      "Total params: 90,890\n",
      "Trainable params: 90,890\n",
      "Non-trainable params: 0\n",
      "_________________________________________________________________\n"
     ]
    }
   ],
   "source": [
    "# Define model\n",
    "model = tf.keras.Sequential([\n",
    "    tf.keras.layers.Conv2D(64, 5, strides=1, padding='same', activation='relu', input_shape=(32, 32, 3)),\n",
    "#     tf.keras.layers.ReLU(max_value = 50, negative_slope = 1.2),\n",
    "    tf.keras.layers.MaxPool2D(2, 2),\n",
    "    tf.keras.layers.Conv2D(32, 5, strides=1, padding='valid', activation='relu'),\n",
    "#     tf.keras.layers.ReLU(max_value = 50, negative_slope = 1.2),\n",
    "    tf.keras.layers.MaxPool2D(2, 2),\n",
    "    tf.keras.layers.Conv2D(32, 3, strides=2, padding='valid', activation='relu'),\n",
    "#     tf.keras.layers.ReLU(max_value = 50, negative_slope = 1.2),\n",
    "    tf.keras.layers.MaxPool2D(2, 2),\n",
    "    tf.keras.layers.Flatten(),\n",
    "    tf.keras.layers.Dense(256, activation='relu'),\n",
    "#     tf.keras.layers.ReLU(max_value = 50, negative_slope = 1.2),\n",
    "    tf.keras.layers.Dense(64, activation='relu'),\n",
    "    tf.keras.layers.Dense(10, activation='softmax')\n",
    "])\n",
    "model.summary()"
   ]
  },
  {
   "cell_type": "code",
   "execution_count": 7,
   "id": "83f979ad",
   "metadata": {},
   "outputs": [],
   "source": [
    "# define optimizer (dp-sgd) \n",
    "# optimizer = tensorflow_privacy.DPKerasSGDOptimizer(\n",
    "#     l2_norm_clip=l2_norm_clip,\n",
    "#     noise_multiplier=noise_multiplier,\n",
    "#     num_microbatches=num_microbatches,\n",
    "#     learning_rate=learning_rate)\n",
    "\n",
    "# define optimizer (dp-adam)\n",
    "optimizer = tensorflow_privacy.DPKerasAdamOptimizer(\n",
    "    l2_norm_clip, noise_multiplier, num_microbatches)\n",
    "\n",
    "# define loss function\n",
    "loss = tf.keras.losses.CategoricalCrossentropy(\n",
    "    from_logits=True, reduction=tf.losses.Reduction.NONE)"
   ]
  },
  {
   "cell_type": "code",
   "execution_count": 8,
   "id": "d1f9b4c3",
   "metadata": {
    "scrolled": false
   },
   "outputs": [
    {
     "name": "stderr",
     "output_type": "stream",
     "text": [
      "/Users/Mahos/miniforge3/envs/shm_tf/lib/python3.9/site-packages/tensorflow/python/util/dispatch.py:1082: UserWarning: \"`categorical_crossentropy` received `from_logits=True`, but the `output` argument was produced by a sigmoid or softmax activation and thus does not represent logits. Was this intended?\"\n",
      "  return dispatch_target(*args, **kwargs)\n"
     ]
    },
    {
     "name": "stdout",
     "output_type": "stream",
     "text": [
      "Train on 50000 samples, validate on 10000 samples\n",
      "Metal device set to: Apple M1 Pro\n"
     ]
    },
    {
     "name": "stderr",
     "output_type": "stream",
     "text": [
      "2022-03-20 11:34:44.555952: I tensorflow/core/common_runtime/pluggable_device/pluggable_device_factory.cc:305] Could not identify NUMA node of platform GPU ID 0, defaulting to 0. Your kernel may not have been built with NUMA support.\n",
      "2022-03-20 11:34:44.556077: I tensorflow/core/common_runtime/pluggable_device/pluggable_device_factory.cc:271] Created TensorFlow device (/job:localhost/replica:0/task:0/device:GPU:0 with 0 MB memory) -> physical PluggableDevice (device: 0, name: METAL, pci bus id: <undefined>)\n",
      "2022-03-20 11:34:45.010257: W tensorflow/core/platform/profile_utils/cpu_utils.cc:128] Failed to get CPU frequency: 0 Hz\n",
      "2022-03-20 11:34:45.019226: I tensorflow/core/grappler/optimizers/custom_graph_optimizer_registry.cc:113] Plugin optimizer for device_type GPU is enabled.\n",
      "2022-03-20 11:34:45.528431: I tensorflow/core/grappler/optimizers/custom_graph_optimizer_registry.cc:113] Plugin optimizer for device_type GPU is enabled.\n",
      "2022-03-20 11:34:45.687538: I tensorflow/core/grappler/optimizers/custom_graph_optimizer_registry.cc:113] Plugin optimizer for device_type GPU is enabled.\n"
     ]
    },
    {
     "name": "stdout",
     "output_type": "stream",
     "text": [
      "Epoch 1/40\n"
     ]
    },
    {
     "name": "stderr",
     "output_type": "stream",
     "text": [
      "2022-03-20 11:34:45.784209: I tensorflow/core/grappler/optimizers/custom_graph_optimizer_registry.cc:113] Plugin optimizer for device_type GPU is enabled.\n"
     ]
    },
    {
     "name": "stdout",
     "output_type": "stream",
     "text": [
      "\r",
      " 1250/50000 [..............................] - ETA: 50:25 - loss: 2.3005 - acc: 0.1160"
     ]
    },
    {
     "ename": "KeyboardInterrupt",
     "evalue": "",
     "output_type": "error",
     "traceback": [
      "\u001b[0;31m---------------------------------------------------------------------------\u001b[0m",
      "\u001b[0;31mKeyboardInterrupt\u001b[0m                         Traceback (most recent call last)",
      "Input \u001b[0;32mIn [8]\u001b[0m, in \u001b[0;36m<module>\u001b[0;34m\u001b[0m\n\u001b[1;32m      2\u001b[0m model\u001b[38;5;241m.\u001b[39mcompile(optimizer\u001b[38;5;241m=\u001b[39moptimizer, loss\u001b[38;5;241m=\u001b[39mloss, metrics\u001b[38;5;241m=\u001b[39m[\u001b[38;5;124m'\u001b[39m\u001b[38;5;124maccuracy\u001b[39m\u001b[38;5;124m'\u001b[39m])\n\u001b[1;32m      3\u001b[0m \u001b[38;5;66;03m# Train model\u001b[39;00m\n\u001b[0;32m----> 4\u001b[0m \u001b[43mmodel\u001b[49m\u001b[38;5;241;43m.\u001b[39;49m\u001b[43mfit\u001b[49m\u001b[43m(\u001b[49m\u001b[43mx_train\u001b[49m\u001b[43m,\u001b[49m\u001b[43m \u001b[49m\u001b[43my_train\u001b[49m\u001b[43m,\u001b[49m\n\u001b[1;32m      5\u001b[0m \u001b[43m          \u001b[49m\u001b[43mepochs\u001b[49m\u001b[38;5;241;43m=\u001b[39;49m\u001b[43mepochs\u001b[49m\u001b[43m,\u001b[49m\n\u001b[1;32m      6\u001b[0m \u001b[43m          \u001b[49m\u001b[43mvalidation_data\u001b[49m\u001b[38;5;241;43m=\u001b[39;49m\u001b[43m(\u001b[49m\u001b[43mx_test\u001b[49m\u001b[43m,\u001b[49m\u001b[43m \u001b[49m\u001b[43my_test\u001b[49m\u001b[43m)\u001b[49m\u001b[43m,\u001b[49m\n\u001b[1;32m      7\u001b[0m \u001b[43m          \u001b[49m\u001b[43mbatch_size\u001b[49m\u001b[38;5;241;43m=\u001b[39;49m\u001b[43mbatch_size\u001b[49m\u001b[43m)\u001b[49m\n",
      "File \u001b[0;32m~/miniforge3/envs/shm_tf/lib/python3.9/site-packages/keras/engine/training_v1.py:777\u001b[0m, in \u001b[0;36mModel.fit\u001b[0;34m(self, x, y, batch_size, epochs, verbose, callbacks, validation_split, validation_data, shuffle, class_weight, sample_weight, initial_epoch, steps_per_epoch, validation_steps, validation_freq, max_queue_size, workers, use_multiprocessing, **kwargs)\u001b[0m\n\u001b[1;32m    774\u001b[0m \u001b[38;5;28mself\u001b[39m\u001b[38;5;241m.\u001b[39m_check_call_args(\u001b[38;5;124m'\u001b[39m\u001b[38;5;124mfit\u001b[39m\u001b[38;5;124m'\u001b[39m)\n\u001b[1;32m    776\u001b[0m func \u001b[38;5;241m=\u001b[39m \u001b[38;5;28mself\u001b[39m\u001b[38;5;241m.\u001b[39m_select_training_loop(x)\n\u001b[0;32m--> 777\u001b[0m \u001b[38;5;28;01mreturn\u001b[39;00m \u001b[43mfunc\u001b[49m\u001b[38;5;241;43m.\u001b[39;49m\u001b[43mfit\u001b[49m\u001b[43m(\u001b[49m\n\u001b[1;32m    778\u001b[0m \u001b[43m    \u001b[49m\u001b[38;5;28;43mself\u001b[39;49m\u001b[43m,\u001b[49m\n\u001b[1;32m    779\u001b[0m \u001b[43m    \u001b[49m\u001b[43mx\u001b[49m\u001b[38;5;241;43m=\u001b[39;49m\u001b[43mx\u001b[49m\u001b[43m,\u001b[49m\n\u001b[1;32m    780\u001b[0m \u001b[43m    \u001b[49m\u001b[43my\u001b[49m\u001b[38;5;241;43m=\u001b[39;49m\u001b[43my\u001b[49m\u001b[43m,\u001b[49m\n\u001b[1;32m    781\u001b[0m \u001b[43m    \u001b[49m\u001b[43mbatch_size\u001b[49m\u001b[38;5;241;43m=\u001b[39;49m\u001b[43mbatch_size\u001b[49m\u001b[43m,\u001b[49m\n\u001b[1;32m    782\u001b[0m \u001b[43m    \u001b[49m\u001b[43mepochs\u001b[49m\u001b[38;5;241;43m=\u001b[39;49m\u001b[43mepochs\u001b[49m\u001b[43m,\u001b[49m\n\u001b[1;32m    783\u001b[0m \u001b[43m    \u001b[49m\u001b[43mverbose\u001b[49m\u001b[38;5;241;43m=\u001b[39;49m\u001b[43mverbose\u001b[49m\u001b[43m,\u001b[49m\n\u001b[1;32m    784\u001b[0m \u001b[43m    \u001b[49m\u001b[43mcallbacks\u001b[49m\u001b[38;5;241;43m=\u001b[39;49m\u001b[43mcallbacks\u001b[49m\u001b[43m,\u001b[49m\n\u001b[1;32m    785\u001b[0m \u001b[43m    \u001b[49m\u001b[43mvalidation_split\u001b[49m\u001b[38;5;241;43m=\u001b[39;49m\u001b[43mvalidation_split\u001b[49m\u001b[43m,\u001b[49m\n\u001b[1;32m    786\u001b[0m \u001b[43m    \u001b[49m\u001b[43mvalidation_data\u001b[49m\u001b[38;5;241;43m=\u001b[39;49m\u001b[43mvalidation_data\u001b[49m\u001b[43m,\u001b[49m\n\u001b[1;32m    787\u001b[0m \u001b[43m    \u001b[49m\u001b[43mshuffle\u001b[49m\u001b[38;5;241;43m=\u001b[39;49m\u001b[43mshuffle\u001b[49m\u001b[43m,\u001b[49m\n\u001b[1;32m    788\u001b[0m \u001b[43m    \u001b[49m\u001b[43mclass_weight\u001b[49m\u001b[38;5;241;43m=\u001b[39;49m\u001b[43mclass_weight\u001b[49m\u001b[43m,\u001b[49m\n\u001b[1;32m    789\u001b[0m \u001b[43m    \u001b[49m\u001b[43msample_weight\u001b[49m\u001b[38;5;241;43m=\u001b[39;49m\u001b[43msample_weight\u001b[49m\u001b[43m,\u001b[49m\n\u001b[1;32m    790\u001b[0m \u001b[43m    \u001b[49m\u001b[43minitial_epoch\u001b[49m\u001b[38;5;241;43m=\u001b[39;49m\u001b[43minitial_epoch\u001b[49m\u001b[43m,\u001b[49m\n\u001b[1;32m    791\u001b[0m \u001b[43m    \u001b[49m\u001b[43msteps_per_epoch\u001b[49m\u001b[38;5;241;43m=\u001b[39;49m\u001b[43msteps_per_epoch\u001b[49m\u001b[43m,\u001b[49m\n\u001b[1;32m    792\u001b[0m \u001b[43m    \u001b[49m\u001b[43mvalidation_steps\u001b[49m\u001b[38;5;241;43m=\u001b[39;49m\u001b[43mvalidation_steps\u001b[49m\u001b[43m,\u001b[49m\n\u001b[1;32m    793\u001b[0m \u001b[43m    \u001b[49m\u001b[43mvalidation_freq\u001b[49m\u001b[38;5;241;43m=\u001b[39;49m\u001b[43mvalidation_freq\u001b[49m\u001b[43m,\u001b[49m\n\u001b[1;32m    794\u001b[0m \u001b[43m    \u001b[49m\u001b[43mmax_queue_size\u001b[49m\u001b[38;5;241;43m=\u001b[39;49m\u001b[43mmax_queue_size\u001b[49m\u001b[43m,\u001b[49m\n\u001b[1;32m    795\u001b[0m \u001b[43m    \u001b[49m\u001b[43mworkers\u001b[49m\u001b[38;5;241;43m=\u001b[39;49m\u001b[43mworkers\u001b[49m\u001b[43m,\u001b[49m\n\u001b[1;32m    796\u001b[0m \u001b[43m    \u001b[49m\u001b[43muse_multiprocessing\u001b[49m\u001b[38;5;241;43m=\u001b[39;49m\u001b[43muse_multiprocessing\u001b[49m\u001b[43m)\u001b[49m\n",
      "File \u001b[0;32m~/miniforge3/envs/shm_tf/lib/python3.9/site-packages/keras/engine/training_arrays_v1.py:641\u001b[0m, in \u001b[0;36mArrayLikeTrainingLoop.fit\u001b[0;34m(self, model, x, y, batch_size, epochs, verbose, callbacks, validation_split, validation_data, shuffle, class_weight, sample_weight, initial_epoch, steps_per_epoch, validation_steps, validation_freq, **kwargs)\u001b[0m\n\u001b[1;32m    637\u001b[0m     \u001b[38;5;28;01mraise\u001b[39;00m \u001b[38;5;167;01mValueError\u001b[39;00m(\u001b[38;5;124m'\u001b[39m\u001b[38;5;124m`validation_steps` should not be specified if \u001b[39m\u001b[38;5;124m'\u001b[39m\n\u001b[1;32m    638\u001b[0m                      \u001b[38;5;124m'\u001b[39m\u001b[38;5;124m`validation_data` is None.\u001b[39m\u001b[38;5;124m'\u001b[39m)\n\u001b[1;32m    639\u001b[0m   val_x, val_y, val_sample_weights \u001b[38;5;241m=\u001b[39m \u001b[38;5;28;01mNone\u001b[39;00m, \u001b[38;5;28;01mNone\u001b[39;00m, \u001b[38;5;28;01mNone\u001b[39;00m\n\u001b[0;32m--> 641\u001b[0m \u001b[38;5;28;01mreturn\u001b[39;00m \u001b[43mfit_loop\u001b[49m\u001b[43m(\u001b[49m\n\u001b[1;32m    642\u001b[0m \u001b[43m    \u001b[49m\u001b[43mmodel\u001b[49m\u001b[43m,\u001b[49m\n\u001b[1;32m    643\u001b[0m \u001b[43m    \u001b[49m\u001b[43minputs\u001b[49m\u001b[38;5;241;43m=\u001b[39;49m\u001b[43mx\u001b[49m\u001b[43m,\u001b[49m\n\u001b[1;32m    644\u001b[0m \u001b[43m    \u001b[49m\u001b[43mtargets\u001b[49m\u001b[38;5;241;43m=\u001b[39;49m\u001b[43my\u001b[49m\u001b[43m,\u001b[49m\n\u001b[1;32m    645\u001b[0m \u001b[43m    \u001b[49m\u001b[43msample_weights\u001b[49m\u001b[38;5;241;43m=\u001b[39;49m\u001b[43msample_weights\u001b[49m\u001b[43m,\u001b[49m\n\u001b[1;32m    646\u001b[0m \u001b[43m    \u001b[49m\u001b[43mbatch_size\u001b[49m\u001b[38;5;241;43m=\u001b[39;49m\u001b[43mbatch_size\u001b[49m\u001b[43m,\u001b[49m\n\u001b[1;32m    647\u001b[0m \u001b[43m    \u001b[49m\u001b[43mepochs\u001b[49m\u001b[38;5;241;43m=\u001b[39;49m\u001b[43mepochs\u001b[49m\u001b[43m,\u001b[49m\n\u001b[1;32m    648\u001b[0m \u001b[43m    \u001b[49m\u001b[43mverbose\u001b[49m\u001b[38;5;241;43m=\u001b[39;49m\u001b[43mverbose\u001b[49m\u001b[43m,\u001b[49m\n\u001b[1;32m    649\u001b[0m \u001b[43m    \u001b[49m\u001b[43mcallbacks\u001b[49m\u001b[38;5;241;43m=\u001b[39;49m\u001b[43mcallbacks\u001b[49m\u001b[43m,\u001b[49m\n\u001b[1;32m    650\u001b[0m \u001b[43m    \u001b[49m\u001b[43mval_inputs\u001b[49m\u001b[38;5;241;43m=\u001b[39;49m\u001b[43mval_x\u001b[49m\u001b[43m,\u001b[49m\n\u001b[1;32m    651\u001b[0m \u001b[43m    \u001b[49m\u001b[43mval_targets\u001b[49m\u001b[38;5;241;43m=\u001b[39;49m\u001b[43mval_y\u001b[49m\u001b[43m,\u001b[49m\n\u001b[1;32m    652\u001b[0m \u001b[43m    \u001b[49m\u001b[43mval_sample_weights\u001b[49m\u001b[38;5;241;43m=\u001b[39;49m\u001b[43mval_sample_weights\u001b[49m\u001b[43m,\u001b[49m\n\u001b[1;32m    653\u001b[0m \u001b[43m    \u001b[49m\u001b[43mshuffle\u001b[49m\u001b[38;5;241;43m=\u001b[39;49m\u001b[43mshuffle\u001b[49m\u001b[43m,\u001b[49m\n\u001b[1;32m    654\u001b[0m \u001b[43m    \u001b[49m\u001b[43minitial_epoch\u001b[49m\u001b[38;5;241;43m=\u001b[39;49m\u001b[43minitial_epoch\u001b[49m\u001b[43m,\u001b[49m\n\u001b[1;32m    655\u001b[0m \u001b[43m    \u001b[49m\u001b[43msteps_per_epoch\u001b[49m\u001b[38;5;241;43m=\u001b[39;49m\u001b[43msteps_per_epoch\u001b[49m\u001b[43m,\u001b[49m\n\u001b[1;32m    656\u001b[0m \u001b[43m    \u001b[49m\u001b[43mvalidation_steps\u001b[49m\u001b[38;5;241;43m=\u001b[39;49m\u001b[43mvalidation_steps\u001b[49m\u001b[43m,\u001b[49m\n\u001b[1;32m    657\u001b[0m \u001b[43m    \u001b[49m\u001b[43mvalidation_freq\u001b[49m\u001b[38;5;241;43m=\u001b[39;49m\u001b[43mvalidation_freq\u001b[49m\u001b[43m,\u001b[49m\n\u001b[1;32m    658\u001b[0m \u001b[43m    \u001b[49m\u001b[43msteps_name\u001b[49m\u001b[38;5;241;43m=\u001b[39;49m\u001b[38;5;124;43m'\u001b[39;49m\u001b[38;5;124;43msteps_per_epoch\u001b[39;49m\u001b[38;5;124;43m'\u001b[39;49m\u001b[43m)\u001b[49m\n",
      "File \u001b[0;32m~/miniforge3/envs/shm_tf/lib/python3.9/site-packages/keras/engine/training_arrays_v1.py:377\u001b[0m, in \u001b[0;36mmodel_iteration\u001b[0;34m(model, inputs, targets, sample_weights, batch_size, epochs, verbose, callbacks, val_inputs, val_targets, val_sample_weights, shuffle, initial_epoch, steps_per_epoch, validation_steps, validation_freq, mode, validation_in_fit, prepared_feed_values_from_dataset, steps_name, **kwargs)\u001b[0m\n\u001b[1;32m    374\u001b[0m callbacks\u001b[38;5;241m.\u001b[39m_call_batch_hook(mode, \u001b[38;5;124m'\u001b[39m\u001b[38;5;124mbegin\u001b[39m\u001b[38;5;124m'\u001b[39m, batch_index, batch_logs)\n\u001b[1;32m    376\u001b[0m \u001b[38;5;66;03m# Get outputs.\u001b[39;00m\n\u001b[0;32m--> 377\u001b[0m batch_outs \u001b[38;5;241m=\u001b[39m \u001b[43mf\u001b[49m\u001b[43m(\u001b[49m\u001b[43mins_batch\u001b[49m\u001b[43m)\u001b[49m\n\u001b[1;32m    378\u001b[0m \u001b[38;5;28;01mif\u001b[39;00m \u001b[38;5;129;01mnot\u001b[39;00m \u001b[38;5;28misinstance\u001b[39m(batch_outs, \u001b[38;5;28mlist\u001b[39m):\n\u001b[1;32m    379\u001b[0m   batch_outs \u001b[38;5;241m=\u001b[39m [batch_outs]\n",
      "File \u001b[0;32m~/miniforge3/envs/shm_tf/lib/python3.9/site-packages/keras/backend.py:4275\u001b[0m, in \u001b[0;36mGraphExecutionFunction.__call__\u001b[0;34m(self, inputs)\u001b[0m\n\u001b[1;32m   4269\u001b[0m \u001b[38;5;28;01mif\u001b[39;00m (\u001b[38;5;28mself\u001b[39m\u001b[38;5;241m.\u001b[39m_callable_fn \u001b[38;5;129;01mis\u001b[39;00m \u001b[38;5;28;01mNone\u001b[39;00m \u001b[38;5;129;01mor\u001b[39;00m feed_arrays \u001b[38;5;241m!=\u001b[39m \u001b[38;5;28mself\u001b[39m\u001b[38;5;241m.\u001b[39m_feed_arrays \u001b[38;5;129;01mor\u001b[39;00m\n\u001b[1;32m   4270\u001b[0m     symbol_vals \u001b[38;5;241m!=\u001b[39m \u001b[38;5;28mself\u001b[39m\u001b[38;5;241m.\u001b[39m_symbol_vals \u001b[38;5;129;01mor\u001b[39;00m\n\u001b[1;32m   4271\u001b[0m     feed_symbols \u001b[38;5;241m!=\u001b[39m \u001b[38;5;28mself\u001b[39m\u001b[38;5;241m.\u001b[39m_feed_symbols \u001b[38;5;129;01mor\u001b[39;00m \u001b[38;5;28mself\u001b[39m\u001b[38;5;241m.\u001b[39mfetches \u001b[38;5;241m!=\u001b[39m \u001b[38;5;28mself\u001b[39m\u001b[38;5;241m.\u001b[39m_fetches \u001b[38;5;129;01mor\u001b[39;00m\n\u001b[1;32m   4272\u001b[0m     session \u001b[38;5;241m!=\u001b[39m \u001b[38;5;28mself\u001b[39m\u001b[38;5;241m.\u001b[39m_session):\n\u001b[1;32m   4273\u001b[0m   \u001b[38;5;28mself\u001b[39m\u001b[38;5;241m.\u001b[39m_make_callable(feed_arrays, feed_symbols, symbol_vals, session)\n\u001b[0;32m-> 4275\u001b[0m fetched \u001b[38;5;241m=\u001b[39m \u001b[38;5;28;43mself\u001b[39;49m\u001b[38;5;241;43m.\u001b[39;49m\u001b[43m_callable_fn\u001b[49m\u001b[43m(\u001b[49m\u001b[38;5;241;43m*\u001b[39;49m\u001b[43marray_vals\u001b[49m\u001b[43m,\u001b[49m\n\u001b[1;32m   4276\u001b[0m \u001b[43m                            \u001b[49m\u001b[43mrun_metadata\u001b[49m\u001b[38;5;241;43m=\u001b[39;49m\u001b[38;5;28;43mself\u001b[39;49m\u001b[38;5;241;43m.\u001b[39;49m\u001b[43mrun_metadata\u001b[49m\u001b[43m)\u001b[49m\n\u001b[1;32m   4277\u001b[0m \u001b[38;5;28mself\u001b[39m\u001b[38;5;241m.\u001b[39m_call_fetch_callbacks(fetched[\u001b[38;5;241m-\u001b[39m\u001b[38;5;28mlen\u001b[39m(\u001b[38;5;28mself\u001b[39m\u001b[38;5;241m.\u001b[39m_fetches):])\n\u001b[1;32m   4278\u001b[0m output_structure \u001b[38;5;241m=\u001b[39m tf\u001b[38;5;241m.\u001b[39mnest\u001b[38;5;241m.\u001b[39mpack_sequence_as(\n\u001b[1;32m   4279\u001b[0m     \u001b[38;5;28mself\u001b[39m\u001b[38;5;241m.\u001b[39m_outputs_structure,\n\u001b[1;32m   4280\u001b[0m     fetched[:\u001b[38;5;28mlen\u001b[39m(\u001b[38;5;28mself\u001b[39m\u001b[38;5;241m.\u001b[39moutputs)],\n\u001b[1;32m   4281\u001b[0m     expand_composites\u001b[38;5;241m=\u001b[39m\u001b[38;5;28;01mTrue\u001b[39;00m)\n",
      "File \u001b[0;32m~/miniforge3/envs/shm_tf/lib/python3.9/site-packages/tensorflow/python/client/session.py:1480\u001b[0m, in \u001b[0;36mBaseSession._Callable.__call__\u001b[0;34m(self, *args, **kwargs)\u001b[0m\n\u001b[1;32m   1478\u001b[0m \u001b[38;5;28;01mtry\u001b[39;00m:\n\u001b[1;32m   1479\u001b[0m   run_metadata_ptr \u001b[38;5;241m=\u001b[39m tf_session\u001b[38;5;241m.\u001b[39mTF_NewBuffer() \u001b[38;5;28;01mif\u001b[39;00m run_metadata \u001b[38;5;28;01melse\u001b[39;00m \u001b[38;5;28;01mNone\u001b[39;00m\n\u001b[0;32m-> 1480\u001b[0m   ret \u001b[38;5;241m=\u001b[39m \u001b[43mtf_session\u001b[49m\u001b[38;5;241;43m.\u001b[39;49m\u001b[43mTF_SessionRunCallable\u001b[49m\u001b[43m(\u001b[49m\u001b[38;5;28;43mself\u001b[39;49m\u001b[38;5;241;43m.\u001b[39;49m\u001b[43m_session\u001b[49m\u001b[38;5;241;43m.\u001b[39;49m\u001b[43m_session\u001b[49m\u001b[43m,\u001b[49m\n\u001b[1;32m   1481\u001b[0m \u001b[43m                                         \u001b[49m\u001b[38;5;28;43mself\u001b[39;49m\u001b[38;5;241;43m.\u001b[39;49m\u001b[43m_handle\u001b[49m\u001b[43m,\u001b[49m\u001b[43m \u001b[49m\u001b[43margs\u001b[49m\u001b[43m,\u001b[49m\n\u001b[1;32m   1482\u001b[0m \u001b[43m                                         \u001b[49m\u001b[43mrun_metadata_ptr\u001b[49m\u001b[43m)\u001b[49m\n\u001b[1;32m   1483\u001b[0m   \u001b[38;5;28;01mif\u001b[39;00m run_metadata:\n\u001b[1;32m   1484\u001b[0m     proto_data \u001b[38;5;241m=\u001b[39m tf_session\u001b[38;5;241m.\u001b[39mTF_GetBuffer(run_metadata_ptr)\n",
      "\u001b[0;31mKeyboardInterrupt\u001b[0m: "
     ]
    }
   ],
   "source": [
    "# Compile model\n",
    "model.compile(optimizer=optimizer, loss=loss, metrics=['accuracy'])\n",
    "# Train model\n",
    "model.fit(x_train, y_train,\n",
    "          epochs=epochs,\n",
    "          validation_data=(x_test, y_test),\n",
    "          batch_size=batch_size)"
   ]
  },
  {
   "cell_type": "code",
   "execution_count": null,
   "id": "1bf41bc9",
   "metadata": {},
   "outputs": [],
   "source": []
  },
  {
   "cell_type": "markdown",
   "id": "69813367",
   "metadata": {},
   "source": [
    "### Model1: Simple CNN"
   ]
  },
  {
   "cell_type": "code",
   "execution_count": 11,
   "id": "e51ed758",
   "metadata": {},
   "outputs": [],
   "source": [
    "# Hyper-parameters\n",
    "epochs = 20\n",
    "batch_size = 500\n",
    "\n",
    "l2_norm_clip = 1.5\n",
    "noise_multiplier = 1.3\n",
    "num_microbatches = 250\n",
    "learning_rate = 0.25\n",
    "\n",
    "if batch_size % num_microbatches != 0:\n",
    "    raise ValueError('Batch size should be an integer multiple of the number of microbatches')"
   ]
  },
  {
   "cell_type": "code",
   "execution_count": 12,
   "id": "cc133894",
   "metadata": {},
   "outputs": [],
   "source": [
    "# Define model\n",
    "model = tf.keras.Sequential([\n",
    "    tf.keras.layers.Conv2D(16, 8,\n",
    "                           strides=2,\n",
    "                           padding='same',\n",
    "                           activation='relu',\n",
    "                           input_shape=(32, 32, 3)),\n",
    "    tf.keras.layers.MaxPool2D(2, 1),\n",
    "    tf.keras.layers.Conv2D(32, 4,\n",
    "                           strides=2,\n",
    "                           padding='valid',\n",
    "                           activation='relu'),\n",
    "    tf.keras.layers.MaxPool2D(2, 1),\n",
    "    tf.keras.layers.Flatten(),\n",
    "    tf.keras.layers.Dense(32, activation='relu'),\n",
    "    tf.keras.layers.Dense(10)\n",
    "])"
   ]
  },
  {
   "cell_type": "code",
   "execution_count": 13,
   "id": "7017c9a9",
   "metadata": {},
   "outputs": [],
   "source": [
    "# define optimizer (dp-sgd) \n",
    "optimizer = tensorflow_privacy.DPKerasSGDOptimizer(\n",
    "    l2_norm_clip=l2_norm_clip,\n",
    "    noise_multiplier=noise_multiplier,\n",
    "    num_microbatches=num_microbatches,\n",
    "    learning_rate=learning_rate)\n",
    "# define loss function\n",
    "loss = tf.keras.losses.CategoricalCrossentropy(\n",
    "    from_logits=True, reduction=tf.losses.Reduction.NONE)"
   ]
  },
  {
   "cell_type": "code",
   "execution_count": 14,
   "id": "6e0fb7f2",
   "metadata": {},
   "outputs": [
    {
     "name": "stdout",
     "output_type": "stream",
     "text": [
      "Train on 50000 samples, validate on 10000 samples\n"
     ]
    },
    {
     "name": "stderr",
     "output_type": "stream",
     "text": [
      "2022-03-08 16:42:30.484258: I tensorflow/core/grappler/optimizers/custom_graph_optimizer_registry.cc:113] Plugin optimizer for device_type GPU is enabled.\n",
      "2022-03-08 16:42:31.402756: I tensorflow/core/grappler/optimizers/custom_graph_optimizer_registry.cc:113] Plugin optimizer for device_type GPU is enabled.\n"
     ]
    },
    {
     "name": "stdout",
     "output_type": "stream",
     "text": [
      "Epoch 1/20\n"
     ]
    },
    {
     "name": "stderr",
     "output_type": "stream",
     "text": [
      "2022-03-08 16:42:31.686466: I tensorflow/core/grappler/optimizers/custom_graph_optimizer_registry.cc:113] Plugin optimizer for device_type GPU is enabled.\n",
      "2022-03-08 16:42:31.846137: I tensorflow/core/grappler/optimizers/custom_graph_optimizer_registry.cc:113] Plugin optimizer for device_type GPU is enabled.\n"
     ]
    },
    {
     "name": "stdout",
     "output_type": "stream",
     "text": [
      "50000/50000 [==============================] - ETA: 0s - loss: 2.2188 - acc: 0.1664 "
     ]
    },
    {
     "name": "stderr",
     "output_type": "stream",
     "text": [
      "2022-03-08 17:04:09.816648: I tensorflow/core/grappler/optimizers/custom_graph_optimizer_registry.cc:113] Plugin optimizer for device_type GPU is enabled.\n"
     ]
    },
    {
     "name": "stdout",
     "output_type": "stream",
     "text": [
      "50000/50000 [==============================] - 1299s 26ms/sample - loss: 2.2188 - acc: 0.1664 - val_loss: 2.1000 - val_acc: 0.2320\n",
      "Epoch 2/20\n",
      "50000/50000 [==============================] - 1223s 24ms/sample - loss: 2.0589 - acc: 0.2534 - val_loss: 1.9255 - val_acc: 0.3094\n",
      "Epoch 3/20\n",
      "50000/50000 [==============================] - 1212s 24ms/sample - loss: 1.9223 - acc: 0.3040 - val_loss: 1.8572 - val_acc: 0.3305\n",
      "Epoch 4/20\n",
      "50000/50000 [==============================] - 1217s 24ms/sample - loss: 1.8465 - acc: 0.3341 - val_loss: 1.8674 - val_acc: 0.3170\n",
      "Epoch 5/20\n",
      "50000/50000 [==============================] - 1208s 24ms/sample - loss: 1.7838 - acc: 0.3603 - val_loss: 1.7684 - val_acc: 0.3776\n",
      "Epoch 6/20\n",
      "50000/50000 [==============================] - 1221s 24ms/sample - loss: 1.7363 - acc: 0.3805 - val_loss: 1.7594 - val_acc: 0.3869\n",
      "Epoch 7/20\n",
      "50000/50000 [==============================] - 1227s 25ms/sample - loss: 1.6895 - acc: 0.4000 - val_loss: 1.7437 - val_acc: 0.3961\n",
      "Epoch 8/20\n",
      "50000/50000 [==============================] - 1232s 25ms/sample - loss: 1.6553 - acc: 0.4126 - val_loss: 1.7729 - val_acc: 0.3945\n",
      "Epoch 9/20\n",
      "50000/50000 [==============================] - 5825s 117ms/sample - loss: 1.6323 - acc: 0.4222 - val_loss: 1.6060 - val_acc: 0.4333\n",
      "Epoch 10/20\n",
      "50000/50000 [==============================] - 1117s 22ms/sample - loss: 1.6018 - acc: 0.4336 - val_loss: 1.5822 - val_acc: 0.4450\n",
      "Epoch 11/20\n",
      "50000/50000 [==============================] - 1039s 21ms/sample - loss: 1.5889 - acc: 0.4379 - val_loss: 1.5902 - val_acc: 0.4357\n",
      "Epoch 12/20\n",
      "50000/50000 [==============================] - 1025s 20ms/sample - loss: 1.5790 - acc: 0.4460 - val_loss: 1.5426 - val_acc: 0.4531\n",
      "Epoch 13/20\n",
      "50000/50000 [==============================] - 1025s 20ms/sample - loss: 1.5639 - acc: 0.4498 - val_loss: 1.5619 - val_acc: 0.4531\n",
      "Epoch 14/20\n",
      "50000/50000 [==============================] - 1025s 21ms/sample - loss: 1.5480 - acc: 0.4561 - val_loss: 1.5501 - val_acc: 0.4573\n",
      "Epoch 15/20\n",
      "50000/50000 [==============================] - 1039s 21ms/sample - loss: 1.5547 - acc: 0.4553 - val_loss: 1.5438 - val_acc: 0.4605\n",
      "Epoch 16/20\n",
      "50000/50000 [==============================] - 1042s 21ms/sample - loss: 1.5478 - acc: 0.4599 - val_loss: 1.5256 - val_acc: 0.4664\n",
      "Epoch 17/20\n",
      "50000/50000 [==============================] - 1023s 20ms/sample - loss: 1.5428 - acc: 0.4647 - val_loss: 1.5338 - val_acc: 0.4664\n",
      "Epoch 18/20\n",
      "50000/50000 [==============================] - 1027s 21ms/sample - loss: 1.5238 - acc: 0.4682 - val_loss: 1.5316 - val_acc: 0.4623\n",
      "Epoch 19/20\n",
      "50000/50000 [==============================] - 1030s 21ms/sample - loss: 1.5256 - acc: 0.4698 - val_loss: 1.5590 - val_acc: 0.4522\n",
      "Epoch 20/20\n",
      "50000/50000 [==============================] - 1020s 20ms/sample - loss: 1.5127 - acc: 0.4746 - val_loss: 1.5057 - val_acc: 0.4736\n"
     ]
    },
    {
     "data": {
      "text/plain": [
       "<keras.callbacks.History at 0x4a21c5700>"
      ]
     },
     "execution_count": 14,
     "metadata": {},
     "output_type": "execute_result"
    }
   ],
   "source": [
    "# Compile model\n",
    "model.compile(optimizer=optimizer, loss=loss, metrics=['accuracy'])\n",
    "# Train model\n",
    "model.fit(x_train, y_train,\n",
    "          epochs=epochs,\n",
    "          validation_data=(x_test, y_test),\n",
    "          batch_size=batch_size)"
   ]
  },
  {
   "cell_type": "code",
   "execution_count": 15,
   "id": "dad27007",
   "metadata": {},
   "outputs": [
    {
     "name": "stdout",
     "output_type": "stream",
     "text": [
      "DP-SGD with sampling rate = 1% and noise_multiplier = 1.3 iterated over 2000 steps satisfies differential privacy with eps = 1.8 and delta = 1e-05.\n",
      "The optimal RDP order is 11.0.\n"
     ]
    },
    {
     "data": {
      "text/plain": [
       "(1.798929515280597, 11.0)"
      ]
     },
     "execution_count": 15,
     "metadata": {},
     "output_type": "execute_result"
    }
   ],
   "source": [
    "# Calculate privacy performance\n",
    "compute_dp_sgd_privacy.compute_dp_sgd_privacy(n=x_train.shape[0],\n",
    "                                              batch_size=batch_size,\n",
    "                                              noise_multiplier=noise_multiplier,\n",
    "                                              epochs=epochs,\n",
    "                                              delta=1e-5)"
   ]
  },
  {
   "cell_type": "markdown",
   "id": "e15d91bb",
   "metadata": {},
   "source": [
    "### Model2: VGG with transfer learning"
   ]
  },
  {
   "cell_type": "code",
   "execution_count": 3,
   "id": "d9e42f17",
   "metadata": {},
   "outputs": [],
   "source": [
    "# Hyper-parameters\n",
    "epochs = 50\n",
    "batch_size = 1250\n",
    "\n",
    "l2_norm_clip = 1.5\n",
    "noise_multiplier = 1.3\n",
    "num_microbatches = 250\n",
    "learning_rate = 0.25\n",
    "\n",
    "if batch_size % num_microbatches != 0:\n",
    "    raise ValueError('Batch size should be an integer multiple of the number of microbatches')"
   ]
  },
  {
   "cell_type": "code",
   "execution_count": 4,
   "id": "47989ed6",
   "metadata": {},
   "outputs": [
    {
     "name": "stdout",
     "output_type": "stream",
     "text": [
      "Metal device set to: Apple M1 Pro\n"
     ]
    },
    {
     "name": "stderr",
     "output_type": "stream",
     "text": [
      "2022-03-14 00:07:48.042660: I tensorflow/core/common_runtime/pluggable_device/pluggable_device_factory.cc:305] Could not identify NUMA node of platform GPU ID 0, defaulting to 0. Your kernel may not have been built with NUMA support.\n",
      "2022-03-14 00:07:48.042815: I tensorflow/core/common_runtime/pluggable_device/pluggable_device_factory.cc:271] Created TensorFlow device (/job:localhost/replica:0/task:0/device:GPU:0 with 0 MB memory) -> physical PluggableDevice (device: 0, name: METAL, pci bus id: <undefined>)\n",
      "2022-03-14 00:07:48.050509: W tensorflow/core/platform/profile_utils/cpu_utils.cc:128] Failed to get CPU frequency: 0 Hz\n",
      "2022-03-14 00:07:48.050609: I tensorflow/core/grappler/optimizers/custom_graph_optimizer_registry.cc:113] Plugin optimizer for device_type GPU is enabled.\n",
      "2022-03-14 00:07:48.065426: I tensorflow/core/grappler/optimizers/custom_graph_optimizer_registry.cc:113] Plugin optimizer for device_type GPU is enabled.\n",
      "2022-03-14 00:07:48.153230: I tensorflow/core/grappler/optimizers/custom_graph_optimizer_registry.cc:113] Plugin optimizer for device_type GPU is enabled.\n"
     ]
    }
   ],
   "source": [
    "#Building a VGG model with pretrained weights\n",
    "\n",
    "vgg_model=tf.keras.Sequential()\n",
    "\n",
    "#https://keras.io/api/applications/vgg/#vgg16-function\n",
    "#https://keras.io/guides/transfer_learning/\n",
    "#https://chroniclesofai.com/transfer-learning-with-keras-resnet-50/\n",
    "pre_vgg_model=tf.keras.applications.VGG16(include_top=False,weights=\"imagenet\",\n",
    "                                          classes=10,pooling=max,input_shape=(32,32,3))\n",
    "pre_vgg_model.trainable=False\n",
    "vgg_model.add(pre_vgg_model)\n",
    "vgg_model.add(tf.keras.layers.Flatten())\n",
    "vgg_model.add(tf.keras.layers.Dense(512, activation='tanh'))\n",
    "vgg_model.add(tf.keras.layers.Dense(10, activation='softmax'))\n"
   ]
  },
  {
   "cell_type": "code",
   "execution_count": 5,
   "id": "f45e1ca3",
   "metadata": {},
   "outputs": [
    {
     "name": "stdout",
     "output_type": "stream",
     "text": [
      "Model: \"sequential\"\n",
      "_________________________________________________________________\n",
      " Layer (type)                Output Shape              Param #   \n",
      "=================================================================\n",
      " vgg16 (Functional)          (None, 1, 1, 512)         14714688  \n",
      "                                                                 \n",
      " flatten (Flatten)           (None, 512)               0         \n",
      "                                                                 \n",
      " dense (Dense)               (None, 512)               262656    \n",
      "                                                                 \n",
      " dense_1 (Dense)             (None, 10)                5130      \n",
      "                                                                 \n",
      "=================================================================\n",
      "Total params: 14,982,474\n",
      "Trainable params: 267,786\n",
      "Non-trainable params: 14,714,688\n",
      "_________________________________________________________________\n"
     ]
    }
   ],
   "source": [
    "vgg_model.summary()"
   ]
  },
  {
   "cell_type": "code",
   "execution_count": 6,
   "id": "c1d190e6",
   "metadata": {},
   "outputs": [],
   "source": [
    "# define optimizer (dp-sgd) \n",
    "vgg_optimizer = tensorflow_privacy.DPKerasSGDOptimizer(\n",
    "    l2_norm_clip=l2_norm_clip,\n",
    "    noise_multiplier=noise_multiplier,\n",
    "    num_microbatches=num_microbatches,\n",
    "    learning_rate=learning_rate)\n",
    "# define loss function\n",
    "vgg_loss = tf.keras.losses.CategoricalCrossentropy(\n",
    "    from_logits=True, reduction=tf.losses.Reduction.NONE)"
   ]
  },
  {
   "cell_type": "code",
   "execution_count": 7,
   "id": "8073901b",
   "metadata": {
    "scrolled": false
   },
   "outputs": [
    {
     "name": "stderr",
     "output_type": "stream",
     "text": [
      "/Users/Mahos/miniforge3/envs/shm_tf/lib/python3.9/site-packages/tensorflow/python/util/dispatch.py:1082: UserWarning: \"`categorical_crossentropy` received `from_logits=True`, but the `output` argument was produced by a sigmoid or softmax activation and thus does not represent logits. Was this intended?\"\n",
      "  return dispatch_target(*args, **kwargs)\n"
     ]
    },
    {
     "name": "stdout",
     "output_type": "stream",
     "text": [
      "Train on 50000 samples, validate on 10000 samples\n"
     ]
    },
    {
     "name": "stderr",
     "output_type": "stream",
     "text": [
      "2022-03-14 00:08:06.080186: I tensorflow/core/grappler/optimizers/custom_graph_optimizer_registry.cc:113] Plugin optimizer for device_type GPU is enabled.\n"
     ]
    },
    {
     "name": "stdout",
     "output_type": "stream",
     "text": [
      "Epoch 1/50\n"
     ]
    },
    {
     "name": "stderr",
     "output_type": "stream",
     "text": [
      "2022-03-14 00:08:06.388985: I tensorflow/core/grappler/optimizers/custom_graph_optimizer_registry.cc:113] Plugin optimizer for device_type GPU is enabled.\n",
      "2022-03-14 00:08:06.466079: I tensorflow/core/grappler/optimizers/custom_graph_optimizer_registry.cc:113] Plugin optimizer for device_type GPU is enabled.\n",
      "2022-03-14 00:08:06.528768: I tensorflow/core/grappler/optimizers/custom_graph_optimizer_registry.cc:113] Plugin optimizer for device_type GPU is enabled.\n"
     ]
    },
    {
     "name": "stdout",
     "output_type": "stream",
     "text": [
      "50000/50000 [==============================] - ETA: 0s - loss: 2.0519 - acc: 0.2842"
     ]
    },
    {
     "name": "stderr",
     "output_type": "stream",
     "text": [
      "/Users/Mahos/miniforge3/envs/shm_tf/lib/python3.9/site-packages/keras/engine/training_v1.py:2057: UserWarning: `Model.state_updates` will be removed in a future version. This property should not be used in TensorFlow 2.0, as `updates` are applied automatically.\n",
      "  updates = self.state_updates\n",
      "2022-03-14 00:10:55.361394: I tensorflow/core/grappler/optimizers/custom_graph_optimizer_registry.cc:113] Plugin optimizer for device_type GPU is enabled.\n"
     ]
    },
    {
     "name": "stdout",
     "output_type": "stream",
     "text": [
      "50000/50000 [==============================] - 174s 3ms/sample - loss: 2.0519 - acc: 0.2842 - val_loss: 1.8509 - val_acc: 0.3751\n",
      "Epoch 2/50\n",
      "50000/50000 [==============================] - 158s 3ms/sample - loss: 1.7477 - acc: 0.4120 - val_loss: 1.6785 - val_acc: 0.4330\n",
      "Epoch 3/50\n",
      "50000/50000 [==============================] - 157s 3ms/sample - loss: 1.6229 - acc: 0.4513 - val_loss: 1.5985 - val_acc: 0.4520\n",
      "Epoch 4/50\n",
      "50000/50000 [==============================] - 158s 3ms/sample - loss: 1.5563 - acc: 0.4692 - val_loss: 1.5471 - val_acc: 0.4685\n",
      "Epoch 5/50\n",
      "50000/50000 [==============================] - 156s 3ms/sample - loss: 1.5081 - acc: 0.4849 - val_loss: 1.5045 - val_acc: 0.4841\n",
      "Epoch 6/50\n",
      "50000/50000 [==============================] - 158s 3ms/sample - loss: 1.4763 - acc: 0.4935 - val_loss: 1.4800 - val_acc: 0.4906\n",
      "Epoch 7/50\n",
      "50000/50000 [==============================] - 160s 3ms/sample - loss: 1.4505 - acc: 0.5006 - val_loss: 1.4585 - val_acc: 0.4972\n",
      "Epoch 8/50\n",
      "50000/50000 [==============================] - 159s 3ms/sample - loss: 1.4295 - acc: 0.5093 - val_loss: 1.4394 - val_acc: 0.5004\n",
      "Epoch 9/50\n",
      "50000/50000 [==============================] - 159s 3ms/sample - loss: 1.4117 - acc: 0.5131 - val_loss: 1.4268 - val_acc: 0.5037\n",
      "Epoch 10/50\n",
      "50000/50000 [==============================] - 156s 3ms/sample - loss: 1.3984 - acc: 0.5166 - val_loss: 1.4145 - val_acc: 0.5110\n",
      "Epoch 11/50\n",
      "50000/50000 [==============================] - 158s 3ms/sample - loss: 1.3853 - acc: 0.5222 - val_loss: 1.4014 - val_acc: 0.5159\n",
      "Epoch 12/50\n",
      "50000/50000 [==============================] - 162s 3ms/sample - loss: 1.3743 - acc: 0.5255 - val_loss: 1.3953 - val_acc: 0.5144\n",
      "Epoch 13/50\n",
      "50000/50000 [==============================] - 161s 3ms/sample - loss: 1.3656 - acc: 0.5262 - val_loss: 1.3848 - val_acc: 0.5187\n",
      "Epoch 14/50\n",
      "50000/50000 [==============================] - 164s 3ms/sample - loss: 1.3536 - acc: 0.5314 - val_loss: 1.3715 - val_acc: 0.5244\n",
      "Epoch 15/50\n",
      "50000/50000 [==============================] - 164s 3ms/sample - loss: 1.3463 - acc: 0.5334 - val_loss: 1.3725 - val_acc: 0.5193\n",
      "Epoch 16/50\n",
      "50000/50000 [==============================] - 165s 3ms/sample - loss: 1.3385 - acc: 0.5367 - val_loss: 1.3642 - val_acc: 0.5287\n",
      "Epoch 17/50\n",
      "50000/50000 [==============================] - 169s 3ms/sample - loss: 1.3323 - acc: 0.5396 - val_loss: 1.3622 - val_acc: 0.5246\n",
      "Epoch 18/50\n",
      "50000/50000 [==============================] - 170s 3ms/sample - loss: 1.3283 - acc: 0.5411 - val_loss: 1.3505 - val_acc: 0.5329\n",
      "Epoch 19/50\n",
      "50000/50000 [==============================] - 175s 4ms/sample - loss: 1.3227 - acc: 0.5424 - val_loss: 1.3690 - val_acc: 0.5173\n",
      "Epoch 20/50\n",
      "50000/50000 [==============================] - 168s 3ms/sample - loss: 1.3210 - acc: 0.5429 - val_loss: 1.3503 - val_acc: 0.5290\n",
      "Epoch 21/50\n",
      "50000/50000 [==============================] - 166s 3ms/sample - loss: 1.3123 - acc: 0.5451 - val_loss: 1.3422 - val_acc: 0.5321\n",
      "Epoch 22/50\n",
      "50000/50000 [==============================] - 166s 3ms/sample - loss: 1.3059 - acc: 0.5465 - val_loss: 1.3331 - val_acc: 0.5363\n",
      "Epoch 23/50\n",
      "50000/50000 [==============================] - 159s 3ms/sample - loss: 1.3027 - acc: 0.5487 - val_loss: 1.3360 - val_acc: 0.5342\n",
      "Epoch 24/50\n",
      "50000/50000 [==============================] - 156s 3ms/sample - loss: 1.2996 - acc: 0.5503 - val_loss: 1.3369 - val_acc: 0.5349\n",
      "Epoch 25/50\n",
      "50000/50000 [==============================] - 126s 3ms/sample - loss: 1.2927 - acc: 0.5531 - val_loss: 1.3292 - val_acc: 0.5358\n",
      "Epoch 26/50\n",
      "50000/50000 [==============================] - 127s 3ms/sample - loss: 1.2901 - acc: 0.5526 - val_loss: 1.3230 - val_acc: 0.5387\n",
      "Epoch 27/50\n",
      "50000/50000 [==============================] - 124s 2ms/sample - loss: 1.2838 - acc: 0.5552 - val_loss: 1.3161 - val_acc: 0.5415\n",
      "Epoch 28/50\n",
      "50000/50000 [==============================] - 126s 3ms/sample - loss: 1.2848 - acc: 0.5550 - val_loss: 1.3234 - val_acc: 0.5381\n",
      "Epoch 29/50\n",
      "50000/50000 [==============================] - 134s 3ms/sample - loss: 1.2830 - acc: 0.5548 - val_loss: 1.3070 - val_acc: 0.5435\n",
      "Epoch 30/50\n",
      "50000/50000 [==============================] - 127s 3ms/sample - loss: 1.2765 - acc: 0.5567 - val_loss: 1.3153 - val_acc: 0.5378\n",
      "Epoch 31/50\n",
      "50000/50000 [==============================] - 128s 3ms/sample - loss: 1.2722 - acc: 0.5580 - val_loss: 1.3103 - val_acc: 0.5443\n",
      "Epoch 32/50\n",
      "50000/50000 [==============================] - 127s 3ms/sample - loss: 1.2720 - acc: 0.5590 - val_loss: 1.3040 - val_acc: 0.5469\n",
      "Epoch 33/50\n",
      "50000/50000 [==============================] - 123s 2ms/sample - loss: 1.2703 - acc: 0.5585 - val_loss: 1.3111 - val_acc: 0.5476\n",
      "Epoch 34/50\n",
      "50000/50000 [==============================] - 124s 2ms/sample - loss: 1.2682 - acc: 0.5604 - val_loss: 1.3067 - val_acc: 0.5481\n",
      "Epoch 35/50\n",
      "50000/50000 [==============================] - 126s 3ms/sample - loss: 1.2637 - acc: 0.5625 - val_loss: 1.2960 - val_acc: 0.5515\n",
      "Epoch 36/50\n",
      "50000/50000 [==============================] - 128s 3ms/sample - loss: 1.2615 - acc: 0.5617 - val_loss: 1.3034 - val_acc: 0.5486\n",
      "Epoch 37/50\n",
      "50000/50000 [==============================] - 127s 3ms/sample - loss: 1.2601 - acc: 0.5620 - val_loss: 1.2934 - val_acc: 0.5502\n",
      "Epoch 38/50\n",
      "50000/50000 [==============================] - 129s 3ms/sample - loss: 1.2588 - acc: 0.5633 - val_loss: 1.2942 - val_acc: 0.5520\n",
      "Epoch 39/50\n",
      "50000/50000 [==============================] - 128s 3ms/sample - loss: 1.2599 - acc: 0.5619 - val_loss: 1.3036 - val_acc: 0.5458\n",
      "Epoch 40/50\n",
      "50000/50000 [==============================] - 128s 3ms/sample - loss: 1.2540 - acc: 0.5641 - val_loss: 1.2970 - val_acc: 0.5545\n",
      "Epoch 41/50\n",
      "50000/50000 [==============================] - 128s 3ms/sample - loss: 1.2506 - acc: 0.5659 - val_loss: 1.2816 - val_acc: 0.5528\n",
      "Epoch 42/50\n",
      "50000/50000 [==============================] - 128s 3ms/sample - loss: 1.2485 - acc: 0.5671 - val_loss: 1.2910 - val_acc: 0.5529\n",
      "Epoch 43/50\n",
      "50000/50000 [==============================] - 128s 3ms/sample - loss: 1.2462 - acc: 0.5678 - val_loss: 1.2787 - val_acc: 0.5537\n",
      "Epoch 44/50\n",
      "50000/50000 [==============================] - 128s 3ms/sample - loss: 1.2482 - acc: 0.5668 - val_loss: 1.2957 - val_acc: 0.5436\n",
      "Epoch 45/50\n",
      "50000/50000 [==============================] - 129s 3ms/sample - loss: 1.2422 - acc: 0.5703 - val_loss: 1.2873 - val_acc: 0.5531\n",
      "Epoch 46/50\n",
      "50000/50000 [==============================] - 128s 3ms/sample - loss: 1.2425 - acc: 0.5698 - val_loss: 1.2831 - val_acc: 0.5557\n",
      "Epoch 47/50\n",
      "50000/50000 [==============================] - 127s 3ms/sample - loss: 1.2446 - acc: 0.5687 - val_loss: 1.2761 - val_acc: 0.5585\n",
      "Epoch 48/50\n",
      "50000/50000 [==============================] - 129s 3ms/sample - loss: 1.2382 - acc: 0.5709 - val_loss: 1.2810 - val_acc: 0.5508\n",
      "Epoch 49/50\n",
      "50000/50000 [==============================] - 128s 3ms/sample - loss: 1.2398 - acc: 0.5699 - val_loss: 1.2748 - val_acc: 0.5572\n",
      "Epoch 50/50\n",
      "50000/50000 [==============================] - 127s 3ms/sample - loss: 1.2376 - acc: 0.5711 - val_loss: 1.2765 - val_acc: 0.5539\n"
     ]
    },
    {
     "data": {
      "text/plain": [
       "<keras.callbacks.History at 0x157600100>"
      ]
     },
     "execution_count": 7,
     "metadata": {},
     "output_type": "execute_result"
    }
   ],
   "source": [
    "# Compile model\n",
    "vgg_model.compile(optimizer=vgg_optimizer, loss=vgg_loss, metrics=['accuracy'])\n",
    "# Train model\n",
    "vgg_model.fit(x_train, y_train,\n",
    "          epochs=epochs,\n",
    "          validation_data=(x_test, y_test),\n",
    "          batch_size=batch_size)"
   ]
  },
  {
   "cell_type": "code",
   "execution_count": 8,
   "id": "1e37c9cb",
   "metadata": {},
   "outputs": [],
   "source": [
    "# noise_multiplier = FLAGS.noise_multiplier\n",
    "# sampling_probability = FLAGS.batch_size / 60000\n",
    "# steps = FLAGS.epochs * 60000 // FLAGS.batch_size"
   ]
  },
  {
   "cell_type": "code",
   "execution_count": 9,
   "id": "0d5da992",
   "metadata": {},
   "outputs": [],
   "source": [
    "# from absl import app\n",
    "# from absl import flags\n",
    "# from absl import logging\n",
    "# FLAGS = flags.FLAGS\n",
    "orders = [1 + x / 10. for x in range(1, 100)] + list(range(12, 64))\n",
    "rdp = compute_rdp(q = batch_size / 50000,\n",
    "                  noise_multiplier = noise_multiplier,\n",
    "                  steps = epochs * 50000 // batch_size,\n",
    "                  orders=orders)"
   ]
  },
  {
   "cell_type": "code",
   "execution_count": 10,
   "id": "ae030b39",
   "metadata": {},
   "outputs": [
    {
     "data": {
      "text/plain": [
       "4.980956406486334"
      ]
     },
     "execution_count": 10,
     "metadata": {},
     "output_type": "execute_result"
    }
   ],
   "source": [
    "epsilon = get_privacy_spent(orders, rdp, target_delta=1e-5)[0]\n",
    "epsilon"
   ]
  },
  {
   "cell_type": "code",
   "execution_count": null,
   "id": "1573f77b",
   "metadata": {},
   "outputs": [],
   "source": []
  },
  {
   "cell_type": "markdown",
   "id": "fba636e0",
   "metadata": {},
   "source": [
    "### Model3: HOG classification"
   ]
  },
  {
   "cell_type": "code",
   "execution_count": null,
   "id": "c2e8335f",
   "metadata": {},
   "outputs": [],
   "source": []
  },
  {
   "cell_type": "code",
   "execution_count": null,
   "id": "bdb734b4",
   "metadata": {},
   "outputs": [],
   "source": []
  }
 ],
 "metadata": {
  "kernelspec": {
   "display_name": "Python 3 (ipykernel)",
   "language": "python",
   "name": "python3"
  },
  "language_info": {
   "codemirror_mode": {
    "name": "ipython",
    "version": 3
   },
   "file_extension": ".py",
   "mimetype": "text/x-python",
   "name": "python",
   "nbconvert_exporter": "python",
   "pygments_lexer": "ipython3",
   "version": "3.9.10"
  }
 },
 "nbformat": 4,
 "nbformat_minor": 5
}
