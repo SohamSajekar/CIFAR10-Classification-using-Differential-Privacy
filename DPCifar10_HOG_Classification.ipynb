{
 "cells": [
  {
   "cell_type": "markdown",
   "id": "cf72a3de",
   "metadata": {},
   "source": [
    "### Import Libraries"
   ]
  },
  {
   "cell_type": "code",
   "execution_count": 1,
   "id": "97aeac09",
   "metadata": {},
   "outputs": [
    {
     "name": "stdout",
     "output_type": "stream",
     "text": [
      "WARNING:tensorflow:From /Users/Mahos/miniforge3/envs/shm_tf/lib/python3.9/site-packages/tensorflow/python/compat/v2_compat.py:107: disable_resource_variables (from tensorflow.python.ops.variable_scope) is deprecated and will be removed in a future version.\n",
      "Instructions for updating:\n",
      "non-resource variables are not supported in the long term\n"
     ]
    }
   ],
   "source": [
    "import cv2\n",
    "import numpy as np\n",
    "import pandas as pd\n",
    "# from absl import flags\n",
    "import tensorflow as tf\n",
    "import tensorflow_privacy\n",
    "from keras.models import Model\n",
    "import matplotlib.pyplot as plt\n",
    "from skimage.feature import hog\n",
    "from PIL import Image, ImageOps\n",
    "import tensorflow_addons as tfa\n",
    "from keras.layers.convolutional import Conv2D\n",
    "from tensorflow.keras.datasets import cifar10\n",
    "from tensorflow_addons.layers import GroupNormalization\n",
    "from keras.layers import Input, Dense, Flatten, Dropout, Add, LayerNormalization\n",
    "from tensorflow_privacy.privacy.analysis import compute_dp_sgd_privacy\n",
    "from tensorflow_privacy.privacy.analysis.rdp_accountant import compute_rdp\n",
    "from tensorflow_privacy.privacy.analysis.rdp_accountant import get_privacy_spent\n",
    "from keras.layers.pooling import MaxPooling2D, AveragePooling2D, GlobalAveragePooling2D\n",
    "tf.compat.v1.disable_v2_behavior()\n",
    "tf.get_logger().setLevel('ERROR')\n",
    "%matplotlib inline"
   ]
  },
  {
   "cell_type": "markdown",
   "id": "843d47d4",
   "metadata": {},
   "source": [
    "### Load Dataset"
   ]
  },
  {
   "cell_type": "code",
   "execution_count": 2,
   "id": "648743e8",
   "metadata": {},
   "outputs": [],
   "source": [
    "def hog_transform(train):\n",
    "    train_hog = []\n",
    "    for sample in train:\n",
    "        img = Image.fromarray(np.uint8(sample)).convert('RGB')\n",
    "        img = ImageOps.grayscale(img)\n",
    "        hog_features = hog(img, orientations = 9, pixels_per_cell = (2, 2), \n",
    "                           cells_per_block = (1, 1), block_norm = 'L2', visualize = False)\n",
    "        train_hog.append(hog_features)\n",
    "    train_hog = np.array(train_hog)\n",
    "    return train_hog"
   ]
  },
  {
   "cell_type": "code",
   "execution_count": 3,
   "id": "0db9b557",
   "metadata": {},
   "outputs": [],
   "source": [
    "# Loading cifar10 image dataset\n",
    "data_train, data_test = cifar10.load_data()\n",
    "x_train, y_train = data_train\n",
    "x_test, y_test = data_test\n",
    "\n",
    "# Hog transformations of images\n",
    "x_train_hog = hog_transform(x_train)\n",
    "x_test_hog = hog_transform(x_test)\n",
    "\n",
    "# Normalizing pixel values of images\n",
    "x_train = x_train / 255.0\n",
    "x_test = x_test / 255.0\n",
    "\n",
    "# Flattening images in dataset\n",
    "y_train = y_train.flatten().reshape(y_train.shape[0], 1)\n",
    "y_test = y_test.flatten().reshape(y_test.shape[0], 1)\n",
    "\n",
    "# One hot encoding of labels/target column\n",
    "y_train = tf.keras.utils.to_categorical(y_train, num_classes=10)\n",
    "y_test = tf.keras.utils.to_categorical(y_test, num_classes=10)\n",
    "\n",
    "print(\"training:\", x_train.shape, y_train.shape)\n",
    "print(\"testing:\", x_test.shape, y_test.shape)\n",
    "print(\"--------------------------------\")\n",
    "print(\"hog training:\", x_train_hog.shape, y_train.shape)\n",
    "print(\"hog testing:\", x_test_hog.shape, y_test.shape)"
   ]
  },
  {
   "cell_type": "markdown",
   "id": "866f743b",
   "metadata": {},
   "source": [
    "### Model: HOG + ANN"
   ]
  },
  {
   "cell_type": "code",
   "execution_count": 27,
   "id": "c27fa45c",
   "metadata": {},
   "outputs": [
    {
     "data": {
      "text/plain": [
       "4.998994314017812"
      ]
     },
     "execution_count": 27,
     "metadata": {},
     "output_type": "execute_result"
    }
   ],
   "source": [
    "### Hyper-parameters\n",
    "\n",
    "# epochs = 130\n",
    "# batch_size = 500\n",
    "# l2_norm_clip = 1\n",
    "# noise_multiplier = 1.3\n",
    "# num_microbatches = 100\n",
    "# learning_rate = 0.15\n",
    "# delta = 1e-5\n",
    "\n",
    "epochs = 100\n",
    "batch_size = 2000\n",
    "l2_norm_clip = 1.2\n",
    "noise_multiplier = 2.06\n",
    "num_microbatches = 100\n",
    "learning_rate = 0.085\n",
    "delta = 1e-5\n",
    "\n",
    "### HOG training\n",
    "x_train = x_train_hog\n",
    "x_test = x_test_hog\n",
    "\n",
    "if batch_size % num_microbatches != 0:\n",
    "    raise ValueError('Batch size should be an integer multiple of the number of microbatches')\n",
    "    \n",
    "# Compute RDP\n",
    "orders = [1 + x / 10. for x in range(1, 100)] + list(range(12, 64))\n",
    "rdp = compute_rdp(q = batch_size / 50000,\n",
    "                  noise_multiplier = noise_multiplier,\n",
    "                  steps = epochs * 50000 // batch_size,\n",
    "                  orders = orders)\n",
    "# Calculate epsilon\n",
    "epsilon = get_privacy_spent(orders, rdp, target_delta = delta)[0]\n",
    "epsilon"
   ]
  },
  {
   "cell_type": "code",
   "execution_count": 6,
   "id": "faef50ef",
   "metadata": {},
   "outputs": [
    {
     "data": {
      "text/plain": [
       "0.9262950367654832"
      ]
     },
     "execution_count": 6,
     "metadata": {},
     "output_type": "execute_result"
    }
   ],
   "source": [
    "## Extra Testing\n",
    "epochs = 10 \n",
    "batch_size = 250 \n",
    "l2_norm_clip = 1 \n",
    "noise_multiplier = 1.25 \n",
    "num_microbatches = batch_size\n",
    "learning_rate = 0.25   \n",
    "delta = 1e-5\n",
    "\n",
    "if batch_size % num_microbatches != 0:\n",
    "    raise ValueError('Batch size should be an integer multiple of the number of microbatches')\n",
    "    \n",
    "# Compute RDP\n",
    "orders = [1 + x / 10. for x in range(1, 100)] + list(range(12, 64))\n",
    "rdp = compute_rdp(q = batch_size / 50000,\n",
    "                  noise_multiplier = noise_multiplier,\n",
    "                  steps = epochs * 50000 // batch_size,\n",
    "                  orders = orders)\n",
    "# Calculate epsilon\n",
    "epsilon = get_privacy_spent(orders, rdp, target_delta = delta)[0]\n",
    "epsilon"
   ]
  },
  {
   "cell_type": "code",
   "execution_count": 28,
   "id": "d8ef5fe8",
   "metadata": {},
   "outputs": [
    {
     "name": "stdout",
     "output_type": "stream",
     "text": [
      "Model: \"model_4\"\n",
      "_________________________________________________________________\n",
      " Layer (type)                Output Shape              Param #   \n",
      "=================================================================\n",
      " input_5 (InputLayer)        [(None, 2304)]            0         \n",
      "                                                                 \n",
      " dense_16 (Dense)            (None, 8)                 18440     \n",
      "                                                                 \n",
      " dropout_8 (Dropout)         (None, 8)                 0         \n",
      "                                                                 \n",
      " dense_17 (Dense)            (None, 16)                144       \n",
      "                                                                 \n",
      " layer_normalization_4 (Laye  (None, 16)               32        \n",
      " rNormalization)                                                 \n",
      "                                                                 \n",
      " dense_18 (Dense)            (None, 16)                272       \n",
      "                                                                 \n",
      " dropout_9 (Dropout)         (None, 16)                0         \n",
      "                                                                 \n",
      " dense_19 (Dense)            (None, 8)                 136       \n",
      "                                                                 \n",
      " layer_normalization_5 (Laye  (None, 8)                16        \n",
      " rNormalization)                                                 \n",
      "                                                                 \n",
      " dense_20 (Dense)            (None, 8)                 72        \n",
      "                                                                 \n",
      " dense_21 (Dense)            (None, 10)                90        \n",
      "                                                                 \n",
      "=================================================================\n",
      "Total params: 19,202\n",
      "Trainable params: 19,202\n",
      "Non-trainable params: 0\n",
      "_________________________________________________________________\n"
     ]
    }
   ],
   "source": [
    "### CNN network\n",
    "# model_input = Input(shape = (32, 32, 3))\n",
    "model_input = Input(shape = (2304))\n",
    "# x1 = Conv2D(16, (8, 8), activation = 'tanh', strides = 2)(model_input)\n",
    "# x1 = LayerNormalization()(x1)\n",
    "# x1 = Dropout(0.4)(x1)\n",
    "# x2 = MaxPooling2D(pool_size = (2,1))(x1)\n",
    "# x3 = Conv2D(32, (4, 4), activation = 'tanh', strides = 2)(x2)\n",
    "# x4 = MaxPooling2D(pool_size = (2,1))(x3)\n",
    "# x4 = LayerNormalization()(x4)\n",
    "# ftn = Flatten()(x4)\n",
    "### Feed-forward network\n",
    "d1 = Dense(8, activation = 'tanh')(model_input)\n",
    "d1 = Dropout(0.1)(d1)\n",
    "d2 = Dense(16, activation = 'tanh')(d1)\n",
    "d2 = LayerNormalization()(d2)\n",
    "# sk1 = Add()([d1, d3])\n",
    "d4 = Dense(16, activation = 'tanh')(d2)\n",
    "d4 = Dropout(0.1)(d4)\n",
    "d5 = Dense(8, activation = 'tanh')(d4)\n",
    "d5 = LayerNormalization()(d5)\n",
    "d6 = Dense(8, activation = 'tanh')(d5)\n",
    "model_output = Dense(10, activation = 'softmax')(d6)\n",
    "model = Model(inputs = model_input, outputs = model_output)\n",
    "model.summary()"
   ]
  },
  {
   "cell_type": "code",
   "execution_count": 29,
   "id": "297dd5f9",
   "metadata": {},
   "outputs": [],
   "source": [
    "# define optimizer (dp-sgd) \n",
    "optimizer = tensorflow_privacy.DPKerasSGDOptimizer(\n",
    "    l2_norm_clip=l2_norm_clip,\n",
    "    noise_multiplier=noise_multiplier,\n",
    "    num_microbatches=num_microbatches,\n",
    "    learning_rate=learning_rate)\n",
    "\n",
    "# # define optimizer (dp-adam)\n",
    "# optimizer = tensorflow_privacy.DPKerasAdamOptimizer(\n",
    "#     l2_norm_clip=l2_norm_clip,\n",
    "#     noise_multiplier=noise_multiplier,\n",
    "#     num_microbatches=num_microbatches,\n",
    "#     learning_rate=learning_rate,\n",
    "#     gradient_accumulation_steps=5)\n",
    "\n",
    "# define loss function\n",
    "loss = tf.keras.losses.CategoricalCrossentropy(\n",
    "    from_logits=True, reduction=tf.losses.Reduction.NONE)"
   ]
  },
  {
   "cell_type": "code",
   "execution_count": 30,
   "id": "fde51834",
   "metadata": {
    "scrolled": false
   },
   "outputs": [
    {
     "name": "stdout",
     "output_type": "stream",
     "text": [
      "Train on 50000 samples, validate on 10000 samples\n"
     ]
    },
    {
     "name": "stderr",
     "output_type": "stream",
     "text": [
      "2022-03-26 18:29:37.576351: I tensorflow/core/grappler/optimizers/custom_graph_optimizer_registry.cc:113] Plugin optimizer for device_type GPU is enabled.\n",
      "2022-03-26 18:29:38.218767: I tensorflow/core/grappler/optimizers/custom_graph_optimizer_registry.cc:113] Plugin optimizer for device_type GPU is enabled.\n"
     ]
    },
    {
     "name": "stdout",
     "output_type": "stream",
     "text": [
      "Epoch 1/100\n"
     ]
    },
    {
     "name": "stderr",
     "output_type": "stream",
     "text": [
      "2022-03-26 18:29:38.449792: I tensorflow/core/grappler/optimizers/custom_graph_optimizer_registry.cc:113] Plugin optimizer for device_type GPU is enabled.\n",
      "2022-03-26 18:29:38.571973: I tensorflow/core/grappler/optimizers/custom_graph_optimizer_registry.cc:113] Plugin optimizer for device_type GPU is enabled.\n"
     ]
    },
    {
     "name": "stdout",
     "output_type": "stream",
     "text": [
      "50000/50000 [==============================] - ETA: 0s - loss: 2.3785 - acc: 0.1069"
     ]
    },
    {
     "name": "stderr",
     "output_type": "stream",
     "text": [
      "2022-03-26 18:33:08.418673: I tensorflow/core/grappler/optimizers/custom_graph_optimizer_registry.cc:113] Plugin optimizer for device_type GPU is enabled.\n"
     ]
    },
    {
     "name": "stdout",
     "output_type": "stream",
     "text": [
      "50000/50000 [==============================] - 210s 4ms/sample - loss: 2.3785 - acc: 0.1069 - val_loss: 2.3322 - val_acc: 0.1247\n",
      "Epoch 2/100\n",
      "50000/50000 [==============================] - 168s 3ms/sample - loss: 2.3288 - acc: 0.1231 - val_loss: 2.2945 - val_acc: 0.1432\n",
      "Epoch 3/100\n",
      "50000/50000 [==============================] - 166s 3ms/sample - loss: 2.2918 - acc: 0.1381 - val_loss: 2.2607 - val_acc: 0.1585\n",
      "Epoch 4/100\n",
      "50000/50000 [==============================] - 166s 3ms/sample - loss: 2.2596 - acc: 0.1586 - val_loss: 2.2258 - val_acc: 0.1744\n",
      "Epoch 5/100\n",
      "50000/50000 [==============================] - 169s 3ms/sample - loss: 2.2271 - acc: 0.1701 - val_loss: 2.1870 - val_acc: 0.1862\n",
      "Epoch 6/100\n",
      "50000/50000 [==============================] - 168s 3ms/sample - loss: 2.1883 - acc: 0.1794 - val_loss: 2.1587 - val_acc: 0.1885\n",
      "Epoch 7/100\n",
      "50000/50000 [==============================] - 167s 3ms/sample - loss: 2.1637 - acc: 0.1899 - val_loss: 2.1320 - val_acc: 0.1969\n",
      "Epoch 8/100\n",
      "50000/50000 [==============================] - 167s 3ms/sample - loss: 2.1397 - acc: 0.1954 - val_loss: 2.1118 - val_acc: 0.2041\n",
      "Epoch 9/100\n",
      "50000/50000 [==============================] - 168s 3ms/sample - loss: 2.1218 - acc: 0.1977 - val_loss: 2.0921 - val_acc: 0.2093\n",
      "Epoch 10/100\n",
      "50000/50000 [==============================] - 167s 3ms/sample - loss: 2.1022 - acc: 0.2040 - val_loss: 2.0769 - val_acc: 0.2180\n",
      "Epoch 11/100\n",
      "50000/50000 [==============================] - 167s 3ms/sample - loss: 2.0882 - acc: 0.2082 - val_loss: 2.0661 - val_acc: 0.2197\n",
      "Epoch 12/100\n",
      "50000/50000 [==============================] - 167s 3ms/sample - loss: 2.0786 - acc: 0.2130 - val_loss: 2.0589 - val_acc: 0.2263\n",
      "Epoch 13/100\n",
      "50000/50000 [==============================] - 171s 3ms/sample - loss: 2.0684 - acc: 0.2173 - val_loss: 2.0500 - val_acc: 0.2277\n",
      "Epoch 14/100\n",
      "50000/50000 [==============================] - 170s 3ms/sample - loss: 2.0607 - acc: 0.2197 - val_loss: 2.0390 - val_acc: 0.2316\n",
      "Epoch 15/100\n",
      "50000/50000 [==============================] - 169s 3ms/sample - loss: 2.0508 - acc: 0.2220 - val_loss: 2.0292 - val_acc: 0.2354\n",
      "Epoch 16/100\n",
      "50000/50000 [==============================] - 169s 3ms/sample - loss: 2.0422 - acc: 0.2303 - val_loss: 2.0189 - val_acc: 0.2413\n",
      "Epoch 17/100\n",
      "50000/50000 [==============================] - 169s 3ms/sample - loss: 2.0350 - acc: 0.2334 - val_loss: 2.0129 - val_acc: 0.2417\n",
      "Epoch 18/100\n",
      "50000/50000 [==============================] - 169s 3ms/sample - loss: 2.0273 - acc: 0.2372 - val_loss: 2.0074 - val_acc: 0.2429\n",
      "Epoch 19/100\n",
      "50000/50000 [==============================] - 167s 3ms/sample - loss: 2.0229 - acc: 0.2405 - val_loss: 2.0041 - val_acc: 0.2468\n",
      "Epoch 20/100\n",
      "50000/50000 [==============================] - 167s 3ms/sample - loss: 2.0180 - acc: 0.2401 - val_loss: 1.9957 - val_acc: 0.2506\n",
      "Epoch 21/100\n",
      "50000/50000 [==============================] - 167s 3ms/sample - loss: 2.0121 - acc: 0.2433 - val_loss: 1.9890 - val_acc: 0.2536\n",
      "Epoch 22/100\n",
      "50000/50000 [==============================] - 167s 3ms/sample - loss: 2.0071 - acc: 0.2439 - val_loss: 1.9853 - val_acc: 0.2524\n",
      "Epoch 23/100\n",
      "50000/50000 [==============================] - 166s 3ms/sample - loss: 2.0005 - acc: 0.2474 - val_loss: 1.9809 - val_acc: 0.2556\n",
      "Epoch 24/100\n",
      "50000/50000 [==============================] - 168s 3ms/sample - loss: 1.9960 - acc: 0.2480 - val_loss: 1.9738 - val_acc: 0.2623\n",
      "Epoch 25/100\n",
      "50000/50000 [==============================] - 166s 3ms/sample - loss: 1.9908 - acc: 0.2541 - val_loss: 1.9666 - val_acc: 0.2633\n",
      "Epoch 26/100\n",
      "50000/50000 [==============================] - 140s 3ms/sample - loss: 1.9824 - acc: 0.2575 - val_loss: 1.9635 - val_acc: 0.2701\n",
      "Epoch 27/100\n",
      "50000/50000 [==============================] - 135s 3ms/sample - loss: 1.9770 - acc: 0.2629 - val_loss: 1.9585 - val_acc: 0.2720\n",
      "Epoch 28/100\n",
      "50000/50000 [==============================] - 135s 3ms/sample - loss: 1.9738 - acc: 0.2641 - val_loss: 1.9546 - val_acc: 0.2733\n",
      "Epoch 29/100\n",
      "50000/50000 [==============================] - 135s 3ms/sample - loss: 1.9685 - acc: 0.2642 - val_loss: 1.9490 - val_acc: 0.2750\n",
      "Epoch 30/100\n",
      "50000/50000 [==============================] - 137s 3ms/sample - loss: 1.9678 - acc: 0.2682 - val_loss: 1.9456 - val_acc: 0.2729\n",
      "Epoch 31/100\n",
      "50000/50000 [==============================] - 135s 3ms/sample - loss: 1.9614 - acc: 0.2668 - val_loss: 1.9407 - val_acc: 0.2755\n",
      "Epoch 32/100\n",
      "50000/50000 [==============================] - 137s 3ms/sample - loss: 1.9575 - acc: 0.2697 - val_loss: 1.9354 - val_acc: 0.2782\n",
      "Epoch 33/100\n",
      "50000/50000 [==============================] - 136s 3ms/sample - loss: 1.9535 - acc: 0.2707 - val_loss: 1.9293 - val_acc: 0.2773\n",
      "Epoch 34/100\n",
      "50000/50000 [==============================] - 135s 3ms/sample - loss: 1.9470 - acc: 0.2743 - val_loss: 1.9249 - val_acc: 0.2837\n",
      "Epoch 35/100\n",
      "50000/50000 [==============================] - 136s 3ms/sample - loss: 1.9434 - acc: 0.2763 - val_loss: 1.9257 - val_acc: 0.2835\n",
      "Epoch 36/100\n",
      "50000/50000 [==============================] - 134s 3ms/sample - loss: 1.9425 - acc: 0.2773 - val_loss: 1.9242 - val_acc: 0.2871\n",
      "Epoch 37/100\n",
      "50000/50000 [==============================] - 136s 3ms/sample - loss: 1.9398 - acc: 0.2798 - val_loss: 1.9188 - val_acc: 0.2914\n",
      "Epoch 38/100\n",
      "50000/50000 [==============================] - 135s 3ms/sample - loss: 1.9364 - acc: 0.2843 - val_loss: 1.9168 - val_acc: 0.2932\n",
      "Epoch 39/100\n",
      "50000/50000 [==============================] - 134s 3ms/sample - loss: 1.9319 - acc: 0.2853 - val_loss: 1.9152 - val_acc: 0.2901\n",
      "Epoch 40/100\n",
      "50000/50000 [==============================] - 134s 3ms/sample - loss: 1.9302 - acc: 0.2865 - val_loss: 1.9131 - val_acc: 0.2949\n",
      "Epoch 41/100\n",
      "50000/50000 [==============================] - 134s 3ms/sample - loss: 1.9276 - acc: 0.2882 - val_loss: 1.9109 - val_acc: 0.2944\n",
      "Epoch 42/100\n",
      "50000/50000 [==============================] - 135s 3ms/sample - loss: 1.9276 - acc: 0.2863 - val_loss: 1.9083 - val_acc: 0.2938\n",
      "Epoch 43/100\n",
      "50000/50000 [==============================] - 136s 3ms/sample - loss: 1.9222 - acc: 0.2888 - val_loss: 1.9039 - val_acc: 0.2966\n",
      "Epoch 44/100\n",
      "50000/50000 [==============================] - 136s 3ms/sample - loss: 1.9184 - acc: 0.2920 - val_loss: 1.9013 - val_acc: 0.2999\n",
      "Epoch 45/100\n",
      "50000/50000 [==============================] - 141s 3ms/sample - loss: 1.9167 - acc: 0.2930 - val_loss: 1.8996 - val_acc: 0.2974\n",
      "Epoch 46/100\n",
      "50000/50000 [==============================] - 135s 3ms/sample - loss: 1.9151 - acc: 0.2925 - val_loss: 1.8961 - val_acc: 0.2944\n",
      "Epoch 47/100\n",
      "50000/50000 [==============================] - 134s 3ms/sample - loss: 1.9100 - acc: 0.2944 - val_loss: 1.8930 - val_acc: 0.3035\n",
      "Epoch 48/100\n",
      "50000/50000 [==============================] - 133s 3ms/sample - loss: 1.9072 - acc: 0.2948 - val_loss: 1.8926 - val_acc: 0.3036\n",
      "Epoch 49/100\n",
      "50000/50000 [==============================] - 133s 3ms/sample - loss: 1.9068 - acc: 0.2977 - val_loss: 1.8911 - val_acc: 0.3004\n",
      "Epoch 50/100\n",
      "50000/50000 [==============================] - 133s 3ms/sample - loss: 1.9056 - acc: 0.2976 - val_loss: 1.8904 - val_acc: 0.2990\n",
      "Epoch 51/100\n",
      "50000/50000 [==============================] - 133s 3ms/sample - loss: 1.9036 - acc: 0.2940 - val_loss: 1.8886 - val_acc: 0.2994\n",
      "Epoch 52/100\n",
      "50000/50000 [==============================] - 134s 3ms/sample - loss: 1.9021 - acc: 0.2958 - val_loss: 1.8851 - val_acc: 0.3033\n",
      "Epoch 53/100\n",
      "50000/50000 [==============================] - 133s 3ms/sample - loss: 1.8974 - acc: 0.3004 - val_loss: 1.8830 - val_acc: 0.3089\n",
      "Epoch 54/100\n",
      "50000/50000 [==============================] - 133s 3ms/sample - loss: 1.8950 - acc: 0.3029 - val_loss: 1.8840 - val_acc: 0.3054\n",
      "Epoch 55/100\n",
      "50000/50000 [==============================] - 133s 3ms/sample - loss: 1.8932 - acc: 0.3016 - val_loss: 1.8864 - val_acc: 0.3052\n",
      "Epoch 56/100\n",
      "50000/50000 [==============================] - 133s 3ms/sample - loss: 1.8907 - acc: 0.3015 - val_loss: 1.8839 - val_acc: 0.3053\n",
      "Epoch 57/100\n",
      "50000/50000 [==============================] - 133s 3ms/sample - loss: 1.8882 - acc: 0.3030 - val_loss: 1.8818 - val_acc: 0.3060\n",
      "Epoch 58/100\n",
      "50000/50000 [==============================] - 133s 3ms/sample - loss: 1.8866 - acc: 0.3047 - val_loss: 1.8799 - val_acc: 0.3069\n"
     ]
    },
    {
     "name": "stdout",
     "output_type": "stream",
     "text": [
      "Epoch 59/100\n",
      "50000/50000 [==============================] - 133s 3ms/sample - loss: 1.8860 - acc: 0.3059 - val_loss: 1.8770 - val_acc: 0.3089\n",
      "Epoch 60/100\n",
      "50000/50000 [==============================] - 132s 3ms/sample - loss: 1.8823 - acc: 0.3058 - val_loss: 1.8739 - val_acc: 0.3067\n",
      "Epoch 61/100\n",
      "50000/50000 [==============================] - 133s 3ms/sample - loss: 1.8772 - acc: 0.3093 - val_loss: 1.8727 - val_acc: 0.3111\n",
      "Epoch 62/100\n",
      "50000/50000 [==============================] - 133s 3ms/sample - loss: 1.8770 - acc: 0.3102 - val_loss: 1.8711 - val_acc: 0.3159\n",
      "Epoch 63/100\n",
      "50000/50000 [==============================] - 133s 3ms/sample - loss: 1.8771 - acc: 0.3112 - val_loss: 1.8697 - val_acc: 0.3146\n",
      "Epoch 64/100\n",
      "50000/50000 [==============================] - 133s 3ms/sample - loss: 1.8743 - acc: 0.3126 - val_loss: 1.8670 - val_acc: 0.3128\n",
      "Epoch 65/100\n",
      "50000/50000 [==============================] - 133s 3ms/sample - loss: 1.8709 - acc: 0.3146 - val_loss: 1.8637 - val_acc: 0.3180\n",
      "Epoch 66/100\n",
      "50000/50000 [==============================] - 133s 3ms/sample - loss: 1.8705 - acc: 0.3141 - val_loss: 1.8633 - val_acc: 0.3136\n",
      "Epoch 67/100\n",
      "34000/50000 [===================>..........] - ETA: 37:00 - loss: 1.8716 - acc: 0.3137"
     ]
    },
    {
     "ename": "KeyboardInterrupt",
     "evalue": "",
     "output_type": "error",
     "traceback": [
      "\u001b[0;31m---------------------------------------------------------------------------\u001b[0m",
      "\u001b[0;31mKeyboardInterrupt\u001b[0m                         Traceback (most recent call last)",
      "Input \u001b[0;32mIn [30]\u001b[0m, in \u001b[0;36m<module>\u001b[0;34m\u001b[0m\n\u001b[1;32m      2\u001b[0m model\u001b[38;5;241m.\u001b[39mcompile(optimizer\u001b[38;5;241m=\u001b[39moptimizer, loss\u001b[38;5;241m=\u001b[39mloss, metrics\u001b[38;5;241m=\u001b[39m[\u001b[38;5;124m'\u001b[39m\u001b[38;5;124maccuracy\u001b[39m\u001b[38;5;124m'\u001b[39m])\n\u001b[1;32m      3\u001b[0m \u001b[38;5;66;03m# Train model\u001b[39;00m\n\u001b[0;32m----> 4\u001b[0m \u001b[43mmodel\u001b[49m\u001b[38;5;241;43m.\u001b[39;49m\u001b[43mfit\u001b[49m\u001b[43m(\u001b[49m\u001b[43mx_train\u001b[49m\u001b[43m,\u001b[49m\u001b[43m \u001b[49m\u001b[43my_train\u001b[49m\u001b[43m,\u001b[49m\n\u001b[1;32m      5\u001b[0m \u001b[43m          \u001b[49m\u001b[43mepochs\u001b[49m\u001b[38;5;241;43m=\u001b[39;49m\u001b[43mepochs\u001b[49m\u001b[43m,\u001b[49m\n\u001b[1;32m      6\u001b[0m \u001b[43m          \u001b[49m\u001b[43mvalidation_data\u001b[49m\u001b[38;5;241;43m=\u001b[39;49m\u001b[43m(\u001b[49m\u001b[43mx_test\u001b[49m\u001b[43m,\u001b[49m\u001b[43m \u001b[49m\u001b[43my_test\u001b[49m\u001b[43m)\u001b[49m\u001b[43m,\u001b[49m\n\u001b[1;32m      7\u001b[0m \u001b[43m          \u001b[49m\u001b[43mbatch_size\u001b[49m\u001b[38;5;241;43m=\u001b[39;49m\u001b[43mbatch_size\u001b[49m\u001b[43m)\u001b[49m\n",
      "File \u001b[0;32m~/miniforge3/envs/shm_tf/lib/python3.9/site-packages/keras/engine/training_v1.py:777\u001b[0m, in \u001b[0;36mModel.fit\u001b[0;34m(self, x, y, batch_size, epochs, verbose, callbacks, validation_split, validation_data, shuffle, class_weight, sample_weight, initial_epoch, steps_per_epoch, validation_steps, validation_freq, max_queue_size, workers, use_multiprocessing, **kwargs)\u001b[0m\n\u001b[1;32m    774\u001b[0m \u001b[38;5;28mself\u001b[39m\u001b[38;5;241m.\u001b[39m_check_call_args(\u001b[38;5;124m'\u001b[39m\u001b[38;5;124mfit\u001b[39m\u001b[38;5;124m'\u001b[39m)\n\u001b[1;32m    776\u001b[0m func \u001b[38;5;241m=\u001b[39m \u001b[38;5;28mself\u001b[39m\u001b[38;5;241m.\u001b[39m_select_training_loop(x)\n\u001b[0;32m--> 777\u001b[0m \u001b[38;5;28;01mreturn\u001b[39;00m \u001b[43mfunc\u001b[49m\u001b[38;5;241;43m.\u001b[39;49m\u001b[43mfit\u001b[49m\u001b[43m(\u001b[49m\n\u001b[1;32m    778\u001b[0m \u001b[43m    \u001b[49m\u001b[38;5;28;43mself\u001b[39;49m\u001b[43m,\u001b[49m\n\u001b[1;32m    779\u001b[0m \u001b[43m    \u001b[49m\u001b[43mx\u001b[49m\u001b[38;5;241;43m=\u001b[39;49m\u001b[43mx\u001b[49m\u001b[43m,\u001b[49m\n\u001b[1;32m    780\u001b[0m \u001b[43m    \u001b[49m\u001b[43my\u001b[49m\u001b[38;5;241;43m=\u001b[39;49m\u001b[43my\u001b[49m\u001b[43m,\u001b[49m\n\u001b[1;32m    781\u001b[0m \u001b[43m    \u001b[49m\u001b[43mbatch_size\u001b[49m\u001b[38;5;241;43m=\u001b[39;49m\u001b[43mbatch_size\u001b[49m\u001b[43m,\u001b[49m\n\u001b[1;32m    782\u001b[0m \u001b[43m    \u001b[49m\u001b[43mepochs\u001b[49m\u001b[38;5;241;43m=\u001b[39;49m\u001b[43mepochs\u001b[49m\u001b[43m,\u001b[49m\n\u001b[1;32m    783\u001b[0m \u001b[43m    \u001b[49m\u001b[43mverbose\u001b[49m\u001b[38;5;241;43m=\u001b[39;49m\u001b[43mverbose\u001b[49m\u001b[43m,\u001b[49m\n\u001b[1;32m    784\u001b[0m \u001b[43m    \u001b[49m\u001b[43mcallbacks\u001b[49m\u001b[38;5;241;43m=\u001b[39;49m\u001b[43mcallbacks\u001b[49m\u001b[43m,\u001b[49m\n\u001b[1;32m    785\u001b[0m \u001b[43m    \u001b[49m\u001b[43mvalidation_split\u001b[49m\u001b[38;5;241;43m=\u001b[39;49m\u001b[43mvalidation_split\u001b[49m\u001b[43m,\u001b[49m\n\u001b[1;32m    786\u001b[0m \u001b[43m    \u001b[49m\u001b[43mvalidation_data\u001b[49m\u001b[38;5;241;43m=\u001b[39;49m\u001b[43mvalidation_data\u001b[49m\u001b[43m,\u001b[49m\n\u001b[1;32m    787\u001b[0m \u001b[43m    \u001b[49m\u001b[43mshuffle\u001b[49m\u001b[38;5;241;43m=\u001b[39;49m\u001b[43mshuffle\u001b[49m\u001b[43m,\u001b[49m\n\u001b[1;32m    788\u001b[0m \u001b[43m    \u001b[49m\u001b[43mclass_weight\u001b[49m\u001b[38;5;241;43m=\u001b[39;49m\u001b[43mclass_weight\u001b[49m\u001b[43m,\u001b[49m\n\u001b[1;32m    789\u001b[0m \u001b[43m    \u001b[49m\u001b[43msample_weight\u001b[49m\u001b[38;5;241;43m=\u001b[39;49m\u001b[43msample_weight\u001b[49m\u001b[43m,\u001b[49m\n\u001b[1;32m    790\u001b[0m \u001b[43m    \u001b[49m\u001b[43minitial_epoch\u001b[49m\u001b[38;5;241;43m=\u001b[39;49m\u001b[43minitial_epoch\u001b[49m\u001b[43m,\u001b[49m\n\u001b[1;32m    791\u001b[0m \u001b[43m    \u001b[49m\u001b[43msteps_per_epoch\u001b[49m\u001b[38;5;241;43m=\u001b[39;49m\u001b[43msteps_per_epoch\u001b[49m\u001b[43m,\u001b[49m\n\u001b[1;32m    792\u001b[0m \u001b[43m    \u001b[49m\u001b[43mvalidation_steps\u001b[49m\u001b[38;5;241;43m=\u001b[39;49m\u001b[43mvalidation_steps\u001b[49m\u001b[43m,\u001b[49m\n\u001b[1;32m    793\u001b[0m \u001b[43m    \u001b[49m\u001b[43mvalidation_freq\u001b[49m\u001b[38;5;241;43m=\u001b[39;49m\u001b[43mvalidation_freq\u001b[49m\u001b[43m,\u001b[49m\n\u001b[1;32m    794\u001b[0m \u001b[43m    \u001b[49m\u001b[43mmax_queue_size\u001b[49m\u001b[38;5;241;43m=\u001b[39;49m\u001b[43mmax_queue_size\u001b[49m\u001b[43m,\u001b[49m\n\u001b[1;32m    795\u001b[0m \u001b[43m    \u001b[49m\u001b[43mworkers\u001b[49m\u001b[38;5;241;43m=\u001b[39;49m\u001b[43mworkers\u001b[49m\u001b[43m,\u001b[49m\n\u001b[1;32m    796\u001b[0m \u001b[43m    \u001b[49m\u001b[43muse_multiprocessing\u001b[49m\u001b[38;5;241;43m=\u001b[39;49m\u001b[43muse_multiprocessing\u001b[49m\u001b[43m)\u001b[49m\n",
      "File \u001b[0;32m~/miniforge3/envs/shm_tf/lib/python3.9/site-packages/keras/engine/training_arrays_v1.py:641\u001b[0m, in \u001b[0;36mArrayLikeTrainingLoop.fit\u001b[0;34m(self, model, x, y, batch_size, epochs, verbose, callbacks, validation_split, validation_data, shuffle, class_weight, sample_weight, initial_epoch, steps_per_epoch, validation_steps, validation_freq, **kwargs)\u001b[0m\n\u001b[1;32m    637\u001b[0m     \u001b[38;5;28;01mraise\u001b[39;00m \u001b[38;5;167;01mValueError\u001b[39;00m(\u001b[38;5;124m'\u001b[39m\u001b[38;5;124m`validation_steps` should not be specified if \u001b[39m\u001b[38;5;124m'\u001b[39m\n\u001b[1;32m    638\u001b[0m                      \u001b[38;5;124m'\u001b[39m\u001b[38;5;124m`validation_data` is None.\u001b[39m\u001b[38;5;124m'\u001b[39m)\n\u001b[1;32m    639\u001b[0m   val_x, val_y, val_sample_weights \u001b[38;5;241m=\u001b[39m \u001b[38;5;28;01mNone\u001b[39;00m, \u001b[38;5;28;01mNone\u001b[39;00m, \u001b[38;5;28;01mNone\u001b[39;00m\n\u001b[0;32m--> 641\u001b[0m \u001b[38;5;28;01mreturn\u001b[39;00m \u001b[43mfit_loop\u001b[49m\u001b[43m(\u001b[49m\n\u001b[1;32m    642\u001b[0m \u001b[43m    \u001b[49m\u001b[43mmodel\u001b[49m\u001b[43m,\u001b[49m\n\u001b[1;32m    643\u001b[0m \u001b[43m    \u001b[49m\u001b[43minputs\u001b[49m\u001b[38;5;241;43m=\u001b[39;49m\u001b[43mx\u001b[49m\u001b[43m,\u001b[49m\n\u001b[1;32m    644\u001b[0m \u001b[43m    \u001b[49m\u001b[43mtargets\u001b[49m\u001b[38;5;241;43m=\u001b[39;49m\u001b[43my\u001b[49m\u001b[43m,\u001b[49m\n\u001b[1;32m    645\u001b[0m \u001b[43m    \u001b[49m\u001b[43msample_weights\u001b[49m\u001b[38;5;241;43m=\u001b[39;49m\u001b[43msample_weights\u001b[49m\u001b[43m,\u001b[49m\n\u001b[1;32m    646\u001b[0m \u001b[43m    \u001b[49m\u001b[43mbatch_size\u001b[49m\u001b[38;5;241;43m=\u001b[39;49m\u001b[43mbatch_size\u001b[49m\u001b[43m,\u001b[49m\n\u001b[1;32m    647\u001b[0m \u001b[43m    \u001b[49m\u001b[43mepochs\u001b[49m\u001b[38;5;241;43m=\u001b[39;49m\u001b[43mepochs\u001b[49m\u001b[43m,\u001b[49m\n\u001b[1;32m    648\u001b[0m \u001b[43m    \u001b[49m\u001b[43mverbose\u001b[49m\u001b[38;5;241;43m=\u001b[39;49m\u001b[43mverbose\u001b[49m\u001b[43m,\u001b[49m\n\u001b[1;32m    649\u001b[0m \u001b[43m    \u001b[49m\u001b[43mcallbacks\u001b[49m\u001b[38;5;241;43m=\u001b[39;49m\u001b[43mcallbacks\u001b[49m\u001b[43m,\u001b[49m\n\u001b[1;32m    650\u001b[0m \u001b[43m    \u001b[49m\u001b[43mval_inputs\u001b[49m\u001b[38;5;241;43m=\u001b[39;49m\u001b[43mval_x\u001b[49m\u001b[43m,\u001b[49m\n\u001b[1;32m    651\u001b[0m \u001b[43m    \u001b[49m\u001b[43mval_targets\u001b[49m\u001b[38;5;241;43m=\u001b[39;49m\u001b[43mval_y\u001b[49m\u001b[43m,\u001b[49m\n\u001b[1;32m    652\u001b[0m \u001b[43m    \u001b[49m\u001b[43mval_sample_weights\u001b[49m\u001b[38;5;241;43m=\u001b[39;49m\u001b[43mval_sample_weights\u001b[49m\u001b[43m,\u001b[49m\n\u001b[1;32m    653\u001b[0m \u001b[43m    \u001b[49m\u001b[43mshuffle\u001b[49m\u001b[38;5;241;43m=\u001b[39;49m\u001b[43mshuffle\u001b[49m\u001b[43m,\u001b[49m\n\u001b[1;32m    654\u001b[0m \u001b[43m    \u001b[49m\u001b[43minitial_epoch\u001b[49m\u001b[38;5;241;43m=\u001b[39;49m\u001b[43minitial_epoch\u001b[49m\u001b[43m,\u001b[49m\n\u001b[1;32m    655\u001b[0m \u001b[43m    \u001b[49m\u001b[43msteps_per_epoch\u001b[49m\u001b[38;5;241;43m=\u001b[39;49m\u001b[43msteps_per_epoch\u001b[49m\u001b[43m,\u001b[49m\n\u001b[1;32m    656\u001b[0m \u001b[43m    \u001b[49m\u001b[43mvalidation_steps\u001b[49m\u001b[38;5;241;43m=\u001b[39;49m\u001b[43mvalidation_steps\u001b[49m\u001b[43m,\u001b[49m\n\u001b[1;32m    657\u001b[0m \u001b[43m    \u001b[49m\u001b[43mvalidation_freq\u001b[49m\u001b[38;5;241;43m=\u001b[39;49m\u001b[43mvalidation_freq\u001b[49m\u001b[43m,\u001b[49m\n\u001b[1;32m    658\u001b[0m \u001b[43m    \u001b[49m\u001b[43msteps_name\u001b[49m\u001b[38;5;241;43m=\u001b[39;49m\u001b[38;5;124;43m'\u001b[39;49m\u001b[38;5;124;43msteps_per_epoch\u001b[39;49m\u001b[38;5;124;43m'\u001b[39;49m\u001b[43m)\u001b[49m\n",
      "File \u001b[0;32m~/miniforge3/envs/shm_tf/lib/python3.9/site-packages/keras/engine/training_arrays_v1.py:377\u001b[0m, in \u001b[0;36mmodel_iteration\u001b[0;34m(model, inputs, targets, sample_weights, batch_size, epochs, verbose, callbacks, val_inputs, val_targets, val_sample_weights, shuffle, initial_epoch, steps_per_epoch, validation_steps, validation_freq, mode, validation_in_fit, prepared_feed_values_from_dataset, steps_name, **kwargs)\u001b[0m\n\u001b[1;32m    374\u001b[0m callbacks\u001b[38;5;241m.\u001b[39m_call_batch_hook(mode, \u001b[38;5;124m'\u001b[39m\u001b[38;5;124mbegin\u001b[39m\u001b[38;5;124m'\u001b[39m, batch_index, batch_logs)\n\u001b[1;32m    376\u001b[0m \u001b[38;5;66;03m# Get outputs.\u001b[39;00m\n\u001b[0;32m--> 377\u001b[0m batch_outs \u001b[38;5;241m=\u001b[39m \u001b[43mf\u001b[49m\u001b[43m(\u001b[49m\u001b[43mins_batch\u001b[49m\u001b[43m)\u001b[49m\n\u001b[1;32m    378\u001b[0m \u001b[38;5;28;01mif\u001b[39;00m \u001b[38;5;129;01mnot\u001b[39;00m \u001b[38;5;28misinstance\u001b[39m(batch_outs, \u001b[38;5;28mlist\u001b[39m):\n\u001b[1;32m    379\u001b[0m   batch_outs \u001b[38;5;241m=\u001b[39m [batch_outs]\n",
      "File \u001b[0;32m~/miniforge3/envs/shm_tf/lib/python3.9/site-packages/keras/backend.py:4275\u001b[0m, in \u001b[0;36mGraphExecutionFunction.__call__\u001b[0;34m(self, inputs)\u001b[0m\n\u001b[1;32m   4269\u001b[0m \u001b[38;5;28;01mif\u001b[39;00m (\u001b[38;5;28mself\u001b[39m\u001b[38;5;241m.\u001b[39m_callable_fn \u001b[38;5;129;01mis\u001b[39;00m \u001b[38;5;28;01mNone\u001b[39;00m \u001b[38;5;129;01mor\u001b[39;00m feed_arrays \u001b[38;5;241m!=\u001b[39m \u001b[38;5;28mself\u001b[39m\u001b[38;5;241m.\u001b[39m_feed_arrays \u001b[38;5;129;01mor\u001b[39;00m\n\u001b[1;32m   4270\u001b[0m     symbol_vals \u001b[38;5;241m!=\u001b[39m \u001b[38;5;28mself\u001b[39m\u001b[38;5;241m.\u001b[39m_symbol_vals \u001b[38;5;129;01mor\u001b[39;00m\n\u001b[1;32m   4271\u001b[0m     feed_symbols \u001b[38;5;241m!=\u001b[39m \u001b[38;5;28mself\u001b[39m\u001b[38;5;241m.\u001b[39m_feed_symbols \u001b[38;5;129;01mor\u001b[39;00m \u001b[38;5;28mself\u001b[39m\u001b[38;5;241m.\u001b[39mfetches \u001b[38;5;241m!=\u001b[39m \u001b[38;5;28mself\u001b[39m\u001b[38;5;241m.\u001b[39m_fetches \u001b[38;5;129;01mor\u001b[39;00m\n\u001b[1;32m   4272\u001b[0m     session \u001b[38;5;241m!=\u001b[39m \u001b[38;5;28mself\u001b[39m\u001b[38;5;241m.\u001b[39m_session):\n\u001b[1;32m   4273\u001b[0m   \u001b[38;5;28mself\u001b[39m\u001b[38;5;241m.\u001b[39m_make_callable(feed_arrays, feed_symbols, symbol_vals, session)\n\u001b[0;32m-> 4275\u001b[0m fetched \u001b[38;5;241m=\u001b[39m \u001b[38;5;28;43mself\u001b[39;49m\u001b[38;5;241;43m.\u001b[39;49m\u001b[43m_callable_fn\u001b[49m\u001b[43m(\u001b[49m\u001b[38;5;241;43m*\u001b[39;49m\u001b[43marray_vals\u001b[49m\u001b[43m,\u001b[49m\n\u001b[1;32m   4276\u001b[0m \u001b[43m                            \u001b[49m\u001b[43mrun_metadata\u001b[49m\u001b[38;5;241;43m=\u001b[39;49m\u001b[38;5;28;43mself\u001b[39;49m\u001b[38;5;241;43m.\u001b[39;49m\u001b[43mrun_metadata\u001b[49m\u001b[43m)\u001b[49m\n\u001b[1;32m   4277\u001b[0m \u001b[38;5;28mself\u001b[39m\u001b[38;5;241m.\u001b[39m_call_fetch_callbacks(fetched[\u001b[38;5;241m-\u001b[39m\u001b[38;5;28mlen\u001b[39m(\u001b[38;5;28mself\u001b[39m\u001b[38;5;241m.\u001b[39m_fetches):])\n\u001b[1;32m   4278\u001b[0m output_structure \u001b[38;5;241m=\u001b[39m tf\u001b[38;5;241m.\u001b[39mnest\u001b[38;5;241m.\u001b[39mpack_sequence_as(\n\u001b[1;32m   4279\u001b[0m     \u001b[38;5;28mself\u001b[39m\u001b[38;5;241m.\u001b[39m_outputs_structure,\n\u001b[1;32m   4280\u001b[0m     fetched[:\u001b[38;5;28mlen\u001b[39m(\u001b[38;5;28mself\u001b[39m\u001b[38;5;241m.\u001b[39moutputs)],\n\u001b[1;32m   4281\u001b[0m     expand_composites\u001b[38;5;241m=\u001b[39m\u001b[38;5;28;01mTrue\u001b[39;00m)\n",
      "File \u001b[0;32m~/miniforge3/envs/shm_tf/lib/python3.9/site-packages/tensorflow/python/client/session.py:1480\u001b[0m, in \u001b[0;36mBaseSession._Callable.__call__\u001b[0;34m(self, *args, **kwargs)\u001b[0m\n\u001b[1;32m   1478\u001b[0m \u001b[38;5;28;01mtry\u001b[39;00m:\n\u001b[1;32m   1479\u001b[0m   run_metadata_ptr \u001b[38;5;241m=\u001b[39m tf_session\u001b[38;5;241m.\u001b[39mTF_NewBuffer() \u001b[38;5;28;01mif\u001b[39;00m run_metadata \u001b[38;5;28;01melse\u001b[39;00m \u001b[38;5;28;01mNone\u001b[39;00m\n\u001b[0;32m-> 1480\u001b[0m   ret \u001b[38;5;241m=\u001b[39m \u001b[43mtf_session\u001b[49m\u001b[38;5;241;43m.\u001b[39;49m\u001b[43mTF_SessionRunCallable\u001b[49m\u001b[43m(\u001b[49m\u001b[38;5;28;43mself\u001b[39;49m\u001b[38;5;241;43m.\u001b[39;49m\u001b[43m_session\u001b[49m\u001b[38;5;241;43m.\u001b[39;49m\u001b[43m_session\u001b[49m\u001b[43m,\u001b[49m\n\u001b[1;32m   1481\u001b[0m \u001b[43m                                         \u001b[49m\u001b[38;5;28;43mself\u001b[39;49m\u001b[38;5;241;43m.\u001b[39;49m\u001b[43m_handle\u001b[49m\u001b[43m,\u001b[49m\u001b[43m \u001b[49m\u001b[43margs\u001b[49m\u001b[43m,\u001b[49m\n\u001b[1;32m   1482\u001b[0m \u001b[43m                                         \u001b[49m\u001b[43mrun_metadata_ptr\u001b[49m\u001b[43m)\u001b[49m\n\u001b[1;32m   1483\u001b[0m   \u001b[38;5;28;01mif\u001b[39;00m run_metadata:\n\u001b[1;32m   1484\u001b[0m     proto_data \u001b[38;5;241m=\u001b[39m tf_session\u001b[38;5;241m.\u001b[39mTF_GetBuffer(run_metadata_ptr)\n",
      "\u001b[0;31mKeyboardInterrupt\u001b[0m: "
     ]
    }
   ],
   "source": [
    "# Compile model\n",
    "model.compile(optimizer=optimizer, loss=loss, metrics=['accuracy'])\n",
    "# Train model\n",
    "model.fit(x_train, y_train,\n",
    "          epochs=epochs,\n",
    "          validation_data=(x_test, y_test),\n",
    "          batch_size=batch_size)"
   ]
  },
  {
   "cell_type": "code",
   "execution_count": null,
   "id": "41a3d04a",
   "metadata": {},
   "outputs": [],
   "source": []
  },
  {
   "cell_type": "markdown",
   "id": "8a7fa74d",
   "metadata": {},
   "source": [
    "### HOG testing"
   ]
  },
  {
   "cell_type": "code",
   "execution_count": 320,
   "id": "bac86004",
   "metadata": {},
   "outputs": [],
   "source": [
    "# x_train_hog = []\n",
    "# for sample in x_train:\n",
    "#     hog_features = extract_hog(sample)\n",
    "#     x_train_hog.append(hog_features)\n",
    "# x_train_hog = np.array(x_train_hog)"
   ]
  },
  {
   "cell_type": "code",
   "execution_count": 307,
   "id": "2f6c431f",
   "metadata": {},
   "outputs": [],
   "source": [
    "# Image.fromarray(np.uint8(hog_image)) #.resize((300, 300)) #.convert('RGB') "
   ]
  },
  {
   "cell_type": "code",
   "execution_count": 7,
   "id": "eeddb570",
   "metadata": {},
   "outputs": [
    {
     "name": "stdout",
     "output_type": "stream",
     "text": [
      "features: 80\n"
     ]
    },
    {
     "data": {
      "image/png": "[encoded data removed]",
      "text/plain": [
       "<PIL.Image.Image image mode=L size=300x300 at 0x2922EA340>"
      ]
     },
     "execution_count": 7,
     "metadata": {},
     "output_type": "execute_result"
    }
   ],
   "source": [
    "def extract_hog(sample):\n",
    "    img = Image.fromarray(np.uint8(sample)).convert('RGB')\n",
    "    img = ImageOps.grayscale(img)\n",
    "    hog_features, hog_image = hog(img, orientations = 5, pixels_per_cell = (8, 8),\n",
    "                                 cells_per_block = (4, 4), block_norm = 'L2', visualize = True)\n",
    "    return hog_features, hog_image\n",
    "    \n",
    "hog_features, hog_image = extract_hog(x_train[5])\n",
    "print('features:',len(hog_features))\n",
    "# hog_image.reshape(-1)\n",
    "thresholded_img = np.array([0 if p == 0 else p*29 for p in hog_image.reshape(-1)]).reshape((32, 32))\n",
    "Image.fromarray(np.uint8(thresholded_img)).resize((300, 300))"
   ]
  },
  {
   "cell_type": "code",
   "execution_count": null,
   "id": "3f75cf4e",
   "metadata": {},
   "outputs": [],
   "source": []
  }
 ],
 "metadata": {
  "kernelspec": {
   "display_name": "Python 3 (ipykernel)",
   "language": "python",
   "name": "python3"
  },
  "language_info": {
   "codemirror_mode": {
    "name": "ipython",
    "version": 3
   },
   "file_extension": ".py",
   "mimetype": "text/x-python",
   "name": "python",
   "nbconvert_exporter": "python",
   "pygments_lexer": "ipython3",
   "version": "3.9.10"
  }
 },
 "nbformat": 4,
 "nbformat_minor": 5
}
