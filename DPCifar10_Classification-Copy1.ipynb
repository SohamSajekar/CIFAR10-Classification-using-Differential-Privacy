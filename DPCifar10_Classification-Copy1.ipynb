{
 "cells": [
  {
   "cell_type": "markdown",
   "id": "84af4264",
   "metadata": {},
   "source": [
    "### Import libraries"
   ]
  },
  {
   "cell_type": "code",
   "execution_count": 16,
   "id": "d3d40902",
   "metadata": {},
   "outputs": [],
   "source": [
    "import cv2\n",
    "import numpy as np\n",
    "import pandas as pd\n",
    "# from absl import flags\n",
    "import tensorflow as tf\n",
    "import tensorflow_privacy\n",
    "from keras.models import Model\n",
    "import matplotlib.pyplot as plt\n",
    "from skimage.feature import hog\n",
    "from PIL import Image, ImageOps\n",
    "import tensorflow_addons as tfa\n",
    "from keras.models import Sequential\n",
    "# from livelossplot import PlotLossesKeras\n",
    "from keras.applications.vgg16 import VGG16\n",
    "from keras.layers.convolutional import Conv2D\n",
    "from tensorflow.keras.datasets import cifar10\n",
    "from tensorflow_privacy import DPKerasSGDOptimizer, DPKerasAdamOptimizer, DPKerasAdagradOptimizer\n",
    "from tensorflow_addons.layers import GroupNormalization\n",
    "from keras.layers import Input, Dense, Flatten, Dropout, Add, LayerNormalization\n",
    "from tensorflow_privacy.privacy.analysis import compute_dp_sgd_privacy\n",
    "from tensorflow_privacy.privacy.analysis.rdp_accountant import compute_rdp\n",
    "from tensorflow_privacy.privacy.analysis.rdp_accountant import get_privacy_spent\n",
    "from keras.layers.pooling import MaxPooling2D, AveragePooling2D, GlobalAveragePooling2D\n",
    "tf.compat.v1.disable_v2_behavior()\n",
    "tf.get_logger().setLevel('ERROR')\n",
    "%matplotlib inline"
   ]
  },
  {
   "cell_type": "markdown",
   "id": "636e685a",
   "metadata": {},
   "source": [
    "### Load Dataset"
   ]
  },
  {
   "cell_type": "code",
   "execution_count": 17,
   "id": "4fe8bbae",
   "metadata": {},
   "outputs": [],
   "source": [
    "def hog_transform(train):\n",
    "    train_hog = []\n",
    "    for sample in train:\n",
    "        img = Image.fromarray(np.uint8(sample)).convert('RGB')\n",
    "        img = ImageOps.grayscale(img)\n",
    "        hog_features = hog(img, orientations = 9, pixels_per_cell = (8, 8), \n",
    "                           cells_per_block = (4, 4), block_norm = 'L2', visualize = False)\n",
    "        train_hog.append(hog_features)\n",
    "    train_hog = np.array(train_hog)\n",
    "    return train_hog"
   ]
  },
  {
   "cell_type": "code",
   "execution_count": 18,
   "id": "99e56c07",
   "metadata": {},
   "outputs": [
    {
     "name": "stdout",
     "output_type": "stream",
     "text": [
      "training: (50000, 32, 32, 3) (50000, 10)\n",
      "testing: (10000, 32, 32, 3) (10000, 10)\n",
      "--------------------------------\n"
     ]
    }
   ],
   "source": [
    "# Loading cifar10 image dataset\n",
    "data_train, data_test = cifar10.load_data()\n",
    "x_train, y_train = data_train\n",
    "x_test, y_test = data_test\n",
    "\n",
    "# # Hog transformations of images\n",
    "# x_train_hog = hog_transform(x_train)\n",
    "# x_test_hog = hog_transform(x_test)\n",
    "\n",
    "# Normalizing pixel values of images\n",
    "x_train = x_train / 255.0\n",
    "x_test = x_test / 255.0\n",
    "\n",
    "# Flattening images in dataset\n",
    "y_train = y_train.flatten().reshape(y_train.shape[0], 1)\n",
    "y_test = y_test.flatten().reshape(y_test.shape[0], 1)\n",
    "\n",
    "# One hot encoding of labels/target column\n",
    "y_train = tf.keras.utils.to_categorical(y_train, num_classes=10)\n",
    "y_test = tf.keras.utils.to_categorical(y_test, num_classes=10)\n",
    "\n",
    "print(\"training:\", x_train.shape, y_train.shape)\n",
    "print(\"testing:\", x_test.shape, y_test.shape)\n",
    "print(\"--------------------------------\")\n",
    "# print(\"hog training:\", x_train_hog.shape, y_train.shape)\n",
    "# print(\"hog testing:\", x_test_hog.shape, y_test.shape)"
   ]
  },
  {
   "cell_type": "code",
   "execution_count": null,
   "id": "9ea00d74",
   "metadata": {},
   "outputs": [],
   "source": []
  },
  {
   "cell_type": "markdown",
   "id": "c2475b63",
   "metadata": {},
   "source": [
    "### Model Architectures"
   ]
  },
  {
   "cell_type": "code",
   "execution_count": 11,
   "id": "91ae1cac",
   "metadata": {},
   "outputs": [],
   "source": [
    "#### Simple CNN\n",
    "def m1_cnn():\n",
    "    model_input = Input(shape = (32, 32, 3))\n",
    "    x1 = Conv2D(16, (3, 3), activation = 'tanh', strides = 2)(model_input)\n",
    "    ftn = Flatten()(x1)\n",
    "    # Feed-forward network\n",
    "    model_output = Dense(10)(ftn)\n",
    "    model = Model(inputs = model_input, outputs = model_output)\n",
    "    return model\n",
    "\n",
    "\n",
    "#### VGG with transfer learning\n",
    "def pre_trained_vgg():\n",
    "    #Building a VGG model with pretrained weights from cifar100\n",
    "    model = Sequential()\n",
    "    vgg_model = VGG16(include_top=False, weights=\"imagenet\",\n",
    "                      classes=10, pooling=max, input_shape=(32,32,3))\n",
    "    vgg_model.trainable=False\n",
    "    model.add(vgg_model)\n",
    "    model.add(Flatten())\n",
    "    model.add(Dense(8, activation='tanh'))\n",
    "    model.add(Dense(16, activation='tanh'))\n",
    "    model.add(Dense(10, activation='softmax'))\n",
    "    return model\n",
    "\n",
    "\n",
    "#### HOG + ANN\n",
    "def hog_ann():\n",
    "    ### Feed-forward network\n",
    "    model_input = Input(shape = (144))\n",
    "    d = Dense(16, activation = 'tanh')(model_input)\n",
    "    d = LayerNormalization()(d)\n",
    "    d = Dropout(0.1)(d)\n",
    "    d = Dense(16, activation = 'tanh')(d)\n",
    "    d = LayerNormalization()(d)\n",
    "    d = Dense(16, activation = 'tanh')(d)\n",
    "    d = Dropout(0.1)(d)\n",
    "    d = Dense(8, activation = 'tanh')(d)\n",
    "    d = LayerNormalization()(d)\n",
    "#     d = Dense(8, activation = 'tanh')(d)\n",
    "    model_output = Dense(10, activation = 'softmax')(d)\n",
    "    model = Model(inputs = model_input, outputs = model_output)\n",
    "    return model\n",
    "\n",
    "\n",
    "#### Custom CNN\n",
    "def cnn():\n",
    "    ## CNN network\n",
    "    model_input = Input(shape = (32, 32, 3))\n",
    "    x1 = Conv2D(16, (8, 8), activation = 'tanh', strides = 2)(model_input)\n",
    "    x1 = LayerNormalization()(x1)\n",
    "    x1 = Dropout(0.4)(x1)\n",
    "    x1 = MaxPooling2D(pool_size = (2,1))(x1)\n",
    "    x2 = Conv2D(32, (4, 4), activation = 'tanh', strides = 2)(x1)\n",
    "    x2 = MaxPooling2D(pool_size = (2,1))(x2)\n",
    "    x2 = LayerNormalization()(x2)\n",
    "    ftn = Flatten()(x2)\n",
    "    ### Feed-forward network\n",
    "    d1 = Dense(8, activation = 'tanh')(ftn)\n",
    "    d1 = Dropout(0.1)(d1)\n",
    "    d2 = Dense(16, activation = 'tanh')(d1)\n",
    "    d2 = LayerNormalization()(d2)\n",
    "    d3 = Dropout(0.1)(d2)\n",
    "    d4 = Dense(8, activation = 'tanh')(d3)\n",
    "    d4 = LayerNormalization()(d4)\n",
    "    d5 = Dense(8, activation = 'tanh')(d4)\n",
    "    model_output = Dense(10, activation = 'softmax')(d5)\n",
    "    model = Model(inputs = model_input, outputs = model_output)\n",
    "    return model\n",
    "\n",
    "\n",
    "#### ResNet-10\n",
    "def resnet():\n",
    "    ### Custom ResNet model\n",
    "    model_input = Input(shape = (32, 32, 3))\n",
    "    x1 = Conv2D(8, (3, 3), activation = 'tanh', strides = 2)(model_input)\n",
    "#     x2 = Conv2D(32, (3, 3), activation = 'tanh', strides = 2)(x1)\n",
    "    x2 = MaxPooling2D(pool_size = (3,3))(x1)\n",
    "    ## Residual Block 1\n",
    "    x3 = Conv2D(8, (3, 3), activation = 'relu', strides = 1)(x2)\n",
    "    x3 = LayerNormalization()(x3) # normalization layer 1\n",
    "    x4 = Conv2D(8, (3, 3), activation = 'relu', strides = 1)(x3)\n",
    "    sk1 = Add()([x2, x4]) # skip connection 1\n",
    "    ## Residual Block 2\n",
    "    x5 = Conv2D(8, (3, 3), activation = 'relu', strides = 1)(sk1)\n",
    "    x5 = LayerNormalization()(x5) # normalization layer 2\n",
    "    x6 = Conv2D(8, (3, 3), activation = 'relu', strides = 1)(x5)\n",
    "    sk2 = Add()([sk1, x6]) # skip connection 2\n",
    "#     ## Residual Block 3\n",
    "#     x7 = Conv2D(64, (3, 3), activation = 'relu', strides = 1)(sk2)\n",
    "#     x7 = LayerNormalization()(x7) # normalization layer 3\n",
    "#     x8 = Conv2D(64, (3, 3), activation = 'relu', strides = 1)(x7)\n",
    "#     sk3 = Add()([sk2, x8]) # skip connection 3\n",
    "#     ## Residual Block 4\n",
    "#     x9 = Conv2D(64, (3, 3), activation = 'relu', strides = 1)(sk3)\n",
    "#     x9 = LayerNormalization()(x9) # normalization layer 4\n",
    "#     x10 = Conv2D(64, (3, 3), activation = 'relu', strides = 1)(x9)\n",
    "#     sk4 = Add()([sk3, x10]) # skip connection 4\n",
    "    ## Global Average Pooling layer\n",
    "    avg = GlobalAveragePooling2D()(sk2)\n",
    "    ftn = Flatten()(avg)\n",
    "    # Feed-forward network\n",
    "    d1 = Dense(16, activation = 'tanh')(ftn)\n",
    "    d2 = Dense(16, activation = 'tanh')(d1)\n",
    "    model_output = Dense(10, activation = 'softmax')(d2)\n",
    "    model = Model(inputs = model_input, outputs = model_output)\n",
    "    return model\n",
    "\n",
    "\n",
    "#### VGG-8\n",
    "def vgg():\n",
    "    ### Custom VGG model\n",
    "    model_input = Input(shape = (32, 32, 3))\n",
    "    x1 = Conv2D(8, (3, 3), activation = 'tanh', strides = 1)(model_input)\n",
    "#     x2 = Conv2D(64, (3, 3), activation = 'tanh', strides = 1)(x1)\n",
    "    x2 = MaxPooling2D(pool_size = (3,3), strides = 2)(x1)\n",
    "    x3 = Conv2D(16, (3, 3), activation = 'tanh', strides = 1)(x2)\n",
    "    x4 = Conv2D(32, (3, 3), activation = 'tanh', strides = 1)(x3)\n",
    "    x4 = MaxPooling2D(pool_size = (3,3), strides = 2)(x4)\n",
    "#     x5 = Conv2D(32, (3, 3), activation = 'tanh', strides = 1)(x4)\n",
    "#     x6 = Conv2D(32, (3, 3), activation = 'relu', strides = 1)(x5)\n",
    "#     x7 = Conv2D(32, (3, 3), activation = 'relu', strides = 1)(x6)\n",
    "    x7 = MaxPooling2D(pool_size = (3,3), strides = 2)(x4)\n",
    "    ftn = Flatten()(x7)\n",
    "    # Feed-forward network\n",
    "    d1 = Dense(8, activation = 'tanh')(ftn)\n",
    "    d1 = Dropout(0.4)(d1)\n",
    "    d2 = Dense(16, activation = 'tanh')(d1)\n",
    "    d2 = Dropout(0.4)(d2)\n",
    "    model_output = Dense(10, activation = 'softmax')(d2)\n",
    "    model = Model(inputs = model_input, outputs = model_output)\n",
    "    return model"
   ]
  },
  {
   "cell_type": "markdown",
   "id": "45569f99",
   "metadata": {},
   "source": [
    "### Privacy Hyper-parameters"
   ]
  },
  {
   "cell_type": "code",
   "execution_count": 12,
   "id": "7c3cbd82",
   "metadata": {},
   "outputs": [
    {
     "data": {
      "text/plain": [
       "1.8234597893257347"
      ]
     },
     "execution_count": 12,
     "metadata": {},
     "output_type": "execute_result"
    }
   ],
   "source": [
    "epochs = 100 \n",
    "batch_size = 100 \n",
    "l2_norm_clip = 1 \n",
    "noise_multiplier = 1.25 \n",
    "num_microbatches = batch_size\n",
    "learning_rate = 0.25   \n",
    "delta = 1e-5\n",
    "\n",
    "if batch_size % num_microbatches != 0:\n",
    "    raise ValueError('Batch size should be an integer multiple of the number of microbatches')\n",
    "    \n",
    "# Compute RDP\n",
    "orders = [1 + x / 10. for x in range(1, 100)] + list(range(12, 64))\n",
    "rdp = compute_rdp(q = batch_size / 50000,\n",
    "                  noise_multiplier = noise_multiplier,\n",
    "                  steps = epochs * 50000 // batch_size,\n",
    "                  orders = orders)\n",
    "# Calculate epsilon\n",
    "epsilon = get_privacy_spent(orders, rdp, target_delta = delta)[0]\n",
    "epsilon"
   ]
  },
  {
   "cell_type": "markdown",
   "id": "d7d3a885",
   "metadata": {},
   "source": [
    "### Optimizer and Loss function"
   ]
  },
  {
   "cell_type": "code",
   "execution_count": 13,
   "id": "f1f6cb1f",
   "metadata": {},
   "outputs": [],
   "source": [
    "# Create optimizer.\n",
    "\n",
    "# # define optimizer (dp-sgd) \n",
    "# optimizer = DPKerasSGDOptimizer(\n",
    "#     l2_norm_clip=l2_norm_clip,\n",
    "#     noise_multiplier=noise_multiplier,\n",
    "#     num_microbatches=num_microbatches,\n",
    "#     learning_rate=learning_rate)\n",
    "\n",
    "# define optimizer (dp-adam)\n",
    "optimizer = DPKerasAdamOptimizer(\n",
    "    l2_norm_clip=l2_norm_clip,\n",
    "    noise_multiplier=noise_multiplier,\n",
    "    num_microbatches=num_microbatches,\n",
    "    learning_rate=learning_rate)\n",
    "\n",
    "# # define optimizer (dp-adagrad)\n",
    "# optimizer = DPKerasAdagradOptimizer(\n",
    "#     l2_norm_clip=l2_norm_clip,\n",
    "#     noise_multiplier=noise_multiplier,\n",
    "#     num_microbatches=num_microbatches,\n",
    "#     learning_rate=learning_rate)\n",
    "\n",
    "# Compute loss\n",
    "loss = tf.keras.losses.CategoricalCrossentropy(\n",
    "    from_logits=True, reduction=tf.losses.Reduction.NONE)"
   ]
  },
  {
   "cell_type": "markdown",
   "id": "c899a12e",
   "metadata": {},
   "source": [
    "### Compile and train model"
   ]
  },
  {
   "cell_type": "code",
   "execution_count": 14,
   "id": "fab3b1fd",
   "metadata": {},
   "outputs": [
    {
     "name": "stdout",
     "output_type": "stream",
     "text": [
      "Model: \"model\"\n",
      "_________________________________________________________________\n",
      " Layer (type)                Output Shape              Param #   \n",
      "=================================================================\n",
      " input_2 (InputLayer)        [(None, 32, 32, 3)]       0         \n",
      "                                                                 \n",
      " conv2d_2 (Conv2D)           (None, 13, 13, 16)        3088      \n",
      "                                                                 \n",
      " layer_normalization_3 (Laye  (None, 13, 13, 16)       32        \n",
      " rNormalization)                                                 \n",
      "                                                                 \n",
      " dropout_3 (Dropout)         (None, 13, 13, 16)        0         \n",
      "                                                                 \n",
      " max_pooling2d_2 (MaxPooling  (None, 6, 13, 16)        0         \n",
      " 2D)                                                             \n",
      "                                                                 \n",
      " conv2d_3 (Conv2D)           (None, 2, 5, 32)          8224      \n",
      "                                                                 \n",
      " max_pooling2d_3 (MaxPooling  (None, 1, 5, 32)         0         \n",
      " 2D)                                                             \n",
      "                                                                 \n",
      " layer_normalization_4 (Laye  (None, 1, 5, 32)         64        \n",
      " rNormalization)                                                 \n",
      "                                                                 \n",
      " flatten_1 (Flatten)         (None, 160)               0         \n",
      "                                                                 \n",
      " dense_2 (Dense)             (None, 8)                 1288      \n",
      "                                                                 \n",
      " dropout_4 (Dropout)         (None, 8)                 0         \n",
      "                                                                 \n",
      " dense_3 (Dense)             (None, 16)                144       \n",
      "                                                                 \n",
      " layer_normalization_5 (Laye  (None, 16)               32        \n",
      " rNormalization)                                                 \n",
      "                                                                 \n",
      " dropout_5 (Dropout)         (None, 16)                0         \n",
      "                                                                 \n",
      " dense_4 (Dense)             (None, 8)                 136       \n",
      "                                                                 \n",
      " layer_normalization_6 (Laye  (None, 8)                16        \n",
      " rNormalization)                                                 \n",
      "                                                                 \n",
      " dense_5 (Dense)             (None, 8)                 72        \n",
      "                                                                 \n",
      " dense_6 (Dense)             (None, 10)                90        \n",
      "                                                                 \n",
      "=================================================================\n",
      "Total params: 13,186\n",
      "Trainable params: 13,186\n",
      "Non-trainable params: 0\n",
      "_________________________________________________________________\n"
     ]
    }
   ],
   "source": [
    "model_hog = False\n",
    "## Model\n",
    "# model = pre_trained_vgg()\n",
    "model = cnn()\n",
    "# model_hog = hog_ann()\n",
    "# model = resnet()\n",
    "# model = vgg()\n",
    "\n",
    "## HOG_training\n",
    "if model_hog:\n",
    "    x_train = x_train_hog\n",
    "    x_test = x_test_hog \n",
    "    model = model_hog\n",
    "model.summary()"
   ]
  },
  {
   "cell_type": "code",
   "execution_count": null,
   "id": "209db335",
   "metadata": {
    "scrolled": true
   },
   "outputs": [
    {
     "name": "stdout",
     "output_type": "stream",
     "text": [
      "Train on 50000 samples, validate on 10000 samples\n"
     ]
    },
    {
     "name": "stderr",
     "output_type": "stream",
     "text": [
      "2022-04-04 09:05:41.245656: I tensorflow/core/grappler/optimizers/custom_graph_optimizer_registry.cc:113] Plugin optimizer for device_type GPU is enabled.\n",
      "2022-04-04 09:05:42.418119: I tensorflow/core/grappler/optimizers/custom_graph_optimizer_registry.cc:113] Plugin optimizer for device_type GPU is enabled.\n"
     ]
    },
    {
     "name": "stdout",
     "output_type": "stream",
     "text": [
      "Epoch 1/10\n"
     ]
    },
    {
     "name": "stderr",
     "output_type": "stream",
     "text": [
      "2022-04-04 09:05:42.775259: I tensorflow/core/grappler/optimizers/custom_graph_optimizer_registry.cc:113] Plugin optimizer for device_type GPU is enabled.\n",
      "2022-04-04 09:05:42.988300: I tensorflow/core/grappler/optimizers/custom_graph_optimizer_registry.cc:113] Plugin optimizer for device_type GPU is enabled.\n"
     ]
    },
    {
     "name": "stdout",
     "output_type": "stream",
     "text": [
      "50000/50000 [==============================] - ETA: 0s - loss: 2.6799 - acc: 0.1001"
     ]
    },
    {
     "name": "stderr",
     "output_type": "stream",
     "text": [
      "2022-04-04 10:18:38.642533: I tensorflow/core/grappler/optimizers/custom_graph_optimizer_registry.cc:113] Plugin optimizer for device_type GPU is enabled.\n"
     ]
    },
    {
     "name": "stdout",
     "output_type": "stream",
     "text": [
      "50000/50000 [==============================] - 4378s 88ms/sample - loss: 2.6799 - acc: 0.1001 - val_loss: 2.5187 - val_acc: 0.0949\n",
      "Epoch 2/10\n",
      "50000/50000 [==============================] - 4182s 84ms/sample - loss: 2.9814 - acc: 0.0991 - val_loss: 2.9882 - val_acc: 0.0895\n",
      "Epoch 3/10\n",
      "50000/50000 [==============================] - 3625s 73ms/sample - loss: 3.1931 - acc: 0.1004 - val_loss: 3.0115 - val_acc: 0.1029\n",
      "Epoch 4/10\n",
      "50000/50000 [==============================] - 3906s 78ms/sample - loss: 3.4142 - acc: 0.1013 - val_loss: 3.1265 - val_acc: 0.0912\n",
      "Epoch 5/10\n",
      "50000/50000 [==============================] - 4044s 81ms/sample - loss: 3.5888 - acc: 0.0977 - val_loss: 3.3867 - val_acc: 0.1006\n",
      "Epoch 6/10\n",
      "50000/50000 [==============================] - 4072s 81ms/sample - loss: 3.4726 - acc: 0.1000 - val_loss: 3.1466 - val_acc: 0.1022\n",
      "Epoch 7/10\n",
      "11400/50000 [=====>........................] - ETA: 1:06:52 - loss: 3.4315 - acc: 0.1007"
     ]
    }
   ],
   "source": [
    "## Compile model\n",
    "model.compile(optimizer=optimizer, loss=loss, metrics=['accuracy']) # optimizer = dpadam\n",
    "## Train model\n",
    "history = model.fit(x_train, y_train, epochs=epochs, validation_data=(x_test, y_test),\n",
    "          batch_size=batch_size, verbose = 1)"
   ]
  },
  {
   "cell_type": "code",
   "execution_count": null,
   "id": "d653697a",
   "metadata": {},
   "outputs": [],
   "source": [
    "### Plotting accuracy/loss graph\n",
    "def get_loss(history_loss):\n",
    "    loss = []\n",
    "    for epoch in history_loss:\n",
    "        loss.append(epoch[-1])\n",
    "    return loss\n",
    "acc = history.history['acc']\n",
    "val_acc = history.history['val_acc']\n",
    "loss = get_loss(history.history['loss'])\n",
    "val_loss = get_loss(history.history['val_loss'])\n",
    "print('train_acc:', round(acc[-1], 3), \"    \", 'train_loss:', round(loss[-1], 3))\n",
    "print('val_acc:', round(val_acc[-1], 3), \"      \", 'val_loss:', round(val_loss[-1], 3))\n",
    "fig = plt.figure(figsize=(15, 5))\n",
    "## Accuracy plot\n",
    "plt.subplot(1, 2, 1) \n",
    "plt.plot(acc)\n",
    "plt.plot(val_acc)\n",
    "plt.title('Accuracy')\n",
    "plt.ylabel('model_accuracy')\n",
    "plt.xlabel('epoch')\n",
    "## Loss plot\n",
    "plt.subplot(1, 2, 2) \n",
    "plt.plot(loss)\n",
    "plt.plot(val_loss)\n",
    "plt.title('Loss')\n",
    "plt.ylabel('model_loss')\n",
    "plt.xlabel('epoch')\n",
    "plt.legend(['train', 'val'], loc='upper right')\n",
    "plt.show()"
   ]
  },
  {
   "cell_type": "code",
   "execution_count": null,
   "id": "d062cce7",
   "metadata": {},
   "outputs": [],
   "source": [
    "#### Adagrad"
   ]
  },
  {
   "cell_type": "code",
   "execution_count": 17,
   "id": "ebc44a8c",
   "metadata": {
    "scrolled": false
   },
   "outputs": [
    {
     "name": "stdout",
     "output_type": "stream",
     "text": [
      "Train on 50000 samples, validate on 10000 samples\n"
     ]
    },
    {
     "name": "stderr",
     "output_type": "stream",
     "text": [
      "2022-04-03 23:26:51.373063: I tensorflow/core/grappler/optimizers/custom_graph_optimizer_registry.cc:113] Plugin optimizer for device_type GPU is enabled.\n",
      "2022-04-03 23:26:52.088457: I tensorflow/core/grappler/optimizers/custom_graph_optimizer_registry.cc:113] Plugin optimizer for device_type GPU is enabled.\n"
     ]
    },
    {
     "name": "stdout",
     "output_type": "stream",
     "text": [
      "Epoch 1/10\n"
     ]
    },
    {
     "name": "stderr",
     "output_type": "stream",
     "text": [
      "2022-04-03 23:26:52.303435: I tensorflow/core/grappler/optimizers/custom_graph_optimizer_registry.cc:113] Plugin optimizer for device_type GPU is enabled.\n",
      "2022-04-03 23:26:52.423589: I tensorflow/core/grappler/optimizers/custom_graph_optimizer_registry.cc:113] Plugin optimizer for device_type GPU is enabled.\n"
     ]
    },
    {
     "name": "stdout",
     "output_type": "stream",
     "text": [
      "50000/50000 [==============================] - ETA: 0s - loss: 2.0860 - acc: 0.2384"
     ]
    },
    {
     "name": "stderr",
     "output_type": "stream",
     "text": [
      "/Users/Mahos/miniforge3/envs/shm_tf/lib/python3.9/site-packages/keras/engine/training_v1.py:2057: UserWarning: `Model.state_updates` will be removed in a future version. This property should not be used in TensorFlow 2.0, as `updates` are applied automatically.\n",
      "  updates = self.state_updates\n",
      "2022-04-04 00:05:37.123734: I tensorflow/core/grappler/optimizers/custom_graph_optimizer_registry.cc:113] Plugin optimizer for device_type GPU is enabled.\n"
     ]
    },
    {
     "name": "stdout",
     "output_type": "stream",
     "text": [
      "50000/50000 [==============================] - 2326s 47ms/sample - loss: 2.0860 - acc: 0.2384 - val_loss: 1.9059 - val_acc: 0.3182\n",
      "Epoch 2/10\n",
      "50000/50000 [==============================] - 2470s 49ms/sample - loss: 1.9556 - acc: 0.3187 - val_loss: 1.8239 - val_acc: 0.3655\n",
      "Epoch 3/10\n",
      "50000/50000 [==============================] - 2478s 50ms/sample - loss: 1.9437 - acc: 0.3419 - val_loss: 1.8623 - val_acc: 0.3744\n",
      "Epoch 4/10\n",
      "50000/50000 [==============================] - 2217s 44ms/sample - loss: 1.9384 - acc: 0.3505 - val_loss: 1.8712 - val_acc: 0.3861\n",
      "Epoch 5/10\n",
      "50000/50000 [==============================] - 2154s 43ms/sample - loss: 1.9529 - acc: 0.3632 - val_loss: 1.8344 - val_acc: 0.3800\n",
      "Epoch 6/10\n",
      "50000/50000 [==============================] - 2155s 43ms/sample - loss: 1.9352 - acc: 0.3670 - val_loss: 1.8366 - val_acc: 0.3981\n",
      "Epoch 7/10\n",
      "50000/50000 [==============================] - 2158s 43ms/sample - loss: 1.9340 - acc: 0.3750 - val_loss: 1.8388 - val_acc: 0.3949\n",
      "Epoch 8/10\n",
      "50000/50000 [==============================] - 2165s 43ms/sample - loss: 1.9186 - acc: 0.3784 - val_loss: 1.8094 - val_acc: 0.3965\n",
      "Epoch 9/10\n",
      "50000/50000 [==============================] - 2170s 43ms/sample - loss: 1.9143 - acc: 0.3843 - val_loss: 1.8417 - val_acc: 0.4021\n",
      "Epoch 10/10\n",
      "50000/50000 [==============================] - 2196s 44ms/sample - loss: 1.9097 - acc: 0.3829 - val_loss: 1.8334 - val_acc: 0.3993\n"
     ]
    }
   ],
   "source": [
    "## Compile model\n",
    "model.compile(optimizer=optimizer, loss=loss, metrics=['accuracy']) # optimizer = dpadagrad\n",
    "## Train model\n",
    "history = model.fit(x_train, y_train, epochs=epochs, validation_data=(x_test, y_test),\n",
    "          batch_size=batch_size, verbose = 1)"
   ]
  },
  {
   "cell_type": "code",
   "execution_count": 18,
   "id": "aa30cd51",
   "metadata": {},
   "outputs": [
    {
     "name": "stdout",
     "output_type": "stream",
     "text": [
      "train_acc: 0.383      train_loss: 1.959\n",
      "val_acc: 0.399        val_loss: 1.511\n"
     ]
    },
    {
     "data": {
      "image/png": "[encoded data removed]",
      "text/plain": [
       "<Figure size 1080x360 with 2 Axes>"
      ]
     },
     "metadata": {
      "needs_background": "light"
     },
     "output_type": "display_data"
    }
   ],
   "source": [
    "### Plotting accuracy/loss graph\n",
    "def get_loss(history_loss):\n",
    "    loss = []\n",
    "    for epoch in history_loss:\n",
    "        loss.append(epoch[-1])\n",
    "    return loss\n",
    "acc = history.history['acc']\n",
    "val_acc = history.history['val_acc']\n",
    "loss = get_loss(history.history['loss'])\n",
    "val_loss = get_loss(history.history['val_loss'])\n",
    "print('train_acc:', round(acc[-1], 3), \"    \", 'train_loss:', round(loss[-1], 3))\n",
    "print('val_acc:', round(val_acc[-1], 3), \"      \", 'val_loss:', round(val_loss[-1], 3))\n",
    "fig = plt.figure(figsize=(15, 5))\n",
    "## Accuracy plot\n",
    "plt.subplot(1, 2, 1) \n",
    "plt.plot(acc)\n",
    "plt.plot(val_acc)\n",
    "plt.title('Accuracy')\n",
    "plt.ylabel('model_accuracy')\n",
    "plt.xlabel('epoch')\n",
    "## Loss plot\n",
    "plt.subplot(1, 2, 2) \n",
    "plt.plot(loss)\n",
    "plt.plot(val_loss)\n",
    "plt.title('Loss')\n",
    "plt.ylabel('model_loss')\n",
    "plt.xlabel('epoch')\n",
    "plt.legend(['train', 'val'], loc='upper right')\n",
    "plt.show()"
   ]
  },
  {
   "cell_type": "code",
   "execution_count": null,
   "id": "77e923f1",
   "metadata": {},
   "outputs": [],
   "source": []
  }
 ],
 "metadata": {
  "kernelspec": {
   "display_name": "Python 3 (ipykernel)",
   "language": "python",
   "name": "python3"
  },
  "language_info": {
   "codemirror_mode": {
    "name": "ipython",
    "version": 3
   },
   "file_extension": ".py",
   "mimetype": "text/x-python",
   "name": "python",
   "nbconvert_exporter": "python",
   "pygments_lexer": "ipython3",
   "version": "3.9.10"
  }
 },
 "nbformat": 4,
 "nbformat_minor": 5
}
